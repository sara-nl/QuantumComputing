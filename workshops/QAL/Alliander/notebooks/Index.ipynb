{
 "cells": [
  {
   "cell_type": "markdown",
   "metadata": {},
   "source": [
    "# QAL Workshop"
   ]
  },
  {
   "cell_type": "markdown",
   "metadata": {},
   "source": [
    "In this tutorial we will go through the basics of quantum computing: \n",
    "- qubit definition and properties,\n",
    "- single qubit gates, \n",
    "- circuit structure,\n",
    "- measurments ,\n",
    "- multiple qubit systems,\n",
    "- simple circuits.\n",
    "\n",
    "We will use [Qiskit quantum computing SDK](https://qiskit.org/). We highly recommend to go through the qiskit material for more detailed and in depth information, examples and excercises\n",
    "\n",
    "\n",
    "## Contents \n",
    "\n",
    "*  [Theory: recap on the basics of quantum computing](Basic_on_quantum_information.ipynb)\n",
    "    *  [Qubits and their representation](Qubits_and_their_representation.ipynb)\n",
    "    *  [Modifying the state of a qubit](Modifying_a_quantum_state.ipynb)\n",
    "    *  [Systems with multiple qubits](Multiple_qubits.ipynb)\n",
    "\n",
    "*  [Practice: implementing and playing with some simple quantum circuits](Implementation_of_quantum_circuit.ipynb)\n",
    "    * [Qiskit basics and Pauli gates](Qiskit_basics.ipynb)\n",
    "    * [Parametrized rotation gates](Rotation_gates.ipynb)\n",
    "    * [Hadamard gate](Hadamard_gate.ipynb)\n",
    "    * [CNOT](CNOT_gate.ipynb)\n",
    "    * [SWAP](SWAP_gate.ipynb)\n",
    "    * [Random number generator](Random_number.ipynb)\n",
    "    * [Measurments in different basis](Measurements.ipynb)\n",
    "        \n",
    "<!-- *  [References](References.ipynb) -->\n"
   ]
  }
 ],
 "metadata": {
  "cite2c": {
   "citations": {
    "29383/29XGSBTZ": {
     "DOI": "10.1038/250026a0",
     "URL": "http://dx.doi.org/10.1038/250026a0",
     "accessed": {
      "day": "8",
      "month": "3",
      "year": "2009"
     },
     "author": [
      {
       "family": "Grime",
       "given": "J. P."
      }
     ],
     "container-title": "Nature",
     "container-title-short": "Nature",
     "id": "29383/29XGSBTZ",
     "issue": "5461",
     "issued": {
      "day": 5,
      "month": "7",
      "year": "1974"
     },
     "journalAbbreviation": "Nature",
     "page": "26-31",
     "page-first": "26",
     "title": "Vegetation classification by reference to strategies",
     "type": "article-journal",
     "volume": "250"
    },
    "29383/44RMTN4V": {
     "author": [
      {
       "family": "Harlan",
       "given": "Jack R."
      }
     ],
     "container-title": "Archaeology",
     "id": "29383/44RMTN4V",
     "issue": "3",
     "issued": {
      "year": "1967"
     },
     "page": "197-201",
     "page-first": "197",
     "title": "A wild wheat harvest in Turkey",
     "type": "article-journal",
     "volume": "20"
    },
    "29383/QTCKJCDM": {
     "DOI": "10.2307/2406971",
     "URL": "http://www.jstor.org/stable/2406971",
     "accessed": {
      "day": "10",
      "month": "6",
      "year": "2013"
     },
     "author": [
      {
       "family": "Harlan",
       "given": "Jack R."
      },
      {
       "family": "Wet",
       "given": "J. M. J. de"
      },
      {
       "family": "Price",
       "given": "E. Glen"
      }
     ],
     "container-title": "Evolution",
     "container-title-short": "Evolution",
     "id": "29383/QTCKJCDM",
     "issue": "2",
     "issued": {
      "day": 1,
      "month": "6",
      "year": "1973"
     },
     "journalAbbreviation": "Evolution",
     "note": "ArticleType: research-article / Full publication date: Jun., 1973 / Copyright © 1973 Society for the Study of Evolution",
     "page": "311-325",
     "page-first": "311",
     "title": "Comparative Evolution of Cereals",
     "type": "article-journal",
     "volume": "27"
    },
    "29383/R7MVWURF": {
     "DOI": "10.1002/ece3.529",
     "URL": "http://onlinelibrary.wiley.com/doi/10.1002/ece3.529/abstract",
     "abstract": "Online databases of biological information offer tremendous potential for evolutionary and ecological discoveries, especially if data are combined in novel ways. However, the different names and varied spellings used for many species present major barriers to linking data. Taxonome is a software tool designed to solve this problem by quickly and reproducibly matching biological names to a given reference set. It is available both as a graphical user interface (GUI) for simple interactive use, and as a library for more advanced functionality with programs written in Python. Taxonome also includes functions to standardize distribution information to a well-defined set of regions, such as the TDWG World Geographical Scheme for Recording Plant Distributions. In combination, these tools will help biologists to rapidly synthesize disparate datasets, and to investigate large-scale patterns in species traits.",
     "accessed": {
      "day": "3",
      "month": "4",
      "year": "2013"
     },
     "author": [
      {
       "family": "Kluyver",
       "given": "Thomas A."
      },
      {
       "family": "Osborne",
       "given": "Colin P."
      }
     ],
     "container-title": "Ecology and Evolution",
     "id": "29383/R7MVWURF",
     "issue": "5",
     "issued": {
      "month": "5",
      "year": "2013"
     },
     "language": "en",
     "page": "1262-1265",
     "page-first": "1262",
     "shortTitle": "Taxonome",
     "title": "Taxonome: a software package for linking biological species data",
     "title-short": "Taxonome",
     "type": "article-journal",
     "volume": "3"
    },
    "allium_vavilovii": {
     "DOI": "10.1023/A:1012034931024",
     "ISSN": "0925-9864",
     "URL": "http://dx.doi.org/10.1023/A:1012034931024",
     "abstract": "A wild onion species from Karaj valley east of Tehran istaxonomically described as Allium asarense R. M.Fritsch et Matin. Sharing the bubble-like inflated lower scapewith A. vavilovii, the newspecies differs by semi-cylindrical leaves and small flowerswith translucent greenish-yellow tepals from all other knownspecies of Allium sect.Cepa. Molecular data suggest a closerelationship to A. cepa(but to a lesser degree than A.vavilovii) and indicate a still weakerphylogenetic connection of A.oschaninii to the common onion. The questionabout the possible wild ancestor of A.cepa is discussed against this background, and akey for determination of the Oschaninii-alliance of sect. Cepa is presented.",
     "author": [
      {
       "family": "Fritsch",
       "given": "Reinhard M."
      },
      {
       "family": "Matin",
       "given": "Farideh"
      },
      {
       "family": "Klaas",
       "given": "Manfred"
      }
     ],
     "container-title": "Genetic Resources and Crop Evolution",
     "container-title-short": "Genet Resour Crop Evol",
     "id": "allium_vavilovii",
     "issue": "4",
     "issued": {
      "day": 1,
      "month": 8,
      "year": 2001
     },
     "journalAbbreviation": "Genet Resour Crop Evol",
     "page": "401-408",
     "page-first": "401",
     "title": "Allium vavilovii M. Popov et Vved. and a new Iranian species are the closest among the known relatives of the common onion A. cepa L. (Alliaceae)",
     "type": "article-journal",
     "volume": "48"
    },
    "batpol": {
     "DOI": "10.1038/19648",
     "ISSN": "0028-0836",
     "URL": "http://dx.doi.org/10.1038/19648",
     "accessed": {
      "day": 31,
      "month": 8,
      "year": 2009
     },
     "author": [
      {
       "family": "von Helversen",
       "given": "Dagmar"
      },
      {
       "family": "von Helversen",
       "given": "Otto"
      }
     ],
     "container-title": "Nature",
     "container-title-short": "Nature",
     "id": "batpol",
     "issue": "6730",
     "issued": {
      "day": 29,
      "month": 4,
      "year": 1999
     },
     "journalAbbreviation": "Nature",
     "page": "759-760",
     "page-first": "759",
     "source": "Nature",
     "title": "Acoustic guide in bat-pollinated flower",
     "type": "article-journal",
     "volume": "398"
    }
   }
  },
  "kernelspec": {
   "display_name": "Python 3 (ipykernel)",
   "language": "python",
   "name": "python3"
  },
  "language_info": {
   "codemirror_mode": {
    "name": "ipython",
    "version": 3
   },
   "file_extension": ".py",
   "mimetype": "text/x-python",
   "name": "python",
   "nbconvert_exporter": "python",
   "pygments_lexer": "ipython3",
   "version": "3.10.3"
  },
  "pycharm": {
   "stem_cell": {
    "cell_type": "raw",
    "metadata": {
     "collapsed": false
    },
    "source": []
   }
  }
 },
 "nbformat": 4,
 "nbformat_minor": 2
}
