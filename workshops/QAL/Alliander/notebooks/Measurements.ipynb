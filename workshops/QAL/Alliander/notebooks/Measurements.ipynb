{
 "cells": [
  {
   "cell_type": "markdown",
   "metadata": {},
   "source": [
    "[Index](Index.ipynb) - [Prev](Hadamard_gate.ipynb) - [Next](Index.ipynb)"
   ]
  },
  {
   "cell_type": "markdown",
   "metadata": {},
   "source": [
    "## Measurements <a id='measurements'></a>\n",
    "So far, all of our measurements are done in the Z-basis, but there is nothing intrinsically special about it.\n",
    "We can \"create\" our own measurements in any basis.\n",
    "\n",
    "In a previous exercise, we saw you could create an X-gate by sandwiching our Z-gate between two H-gates:\n",
    "X=HZH. Starting in the Z-basis, the H-gate switches our qubit to the X-basis, the Z-gate peforms a NOT in the X-basis, and the final H-gate returns our qubit to the Z-basis.\n",
    "\n",
    "Following the same logic, we can creat a measurment in the X-basis (or any other basis) by sandwiching our Z-measurement between two H-gates."
   ]
  },
  {
   "cell_type": "code",
   "execution_count": null,
   "metadata": {},
   "outputs": [],
   "source": [
    "from qiskit import QuantumCircuit, QuantumRegister, ClassicalRegister, execute, Aer, IBMQ\n",
    "from qiskit.visualization import plot_bloch_multivector, plot_histogram\n",
    "import matplotlib.pyplot as plt\n",
    "from mpl_toolkits.axes_grid1.inset_locator import mark_inset, inset_axes\n",
    "\n",
    "def x_measurement(qc,qubit,cbit):\n",
    "    \"\"\"Measure 'qubit' in the X-basis, and store the result in 'cbit'\"\"\"\n",
    "    qc.h(qubit)\n",
    "    qc.measure(qubit, cbit)\n",
    "    qc.h(qubit)\n",
    "    return qc\n",
    "\n",
    "def y_measurement(qc,qubit,cbit):\n",
    "    \"\"\"Measure 'qubit' in the Y-basis, and store the result in 'cbit'\"\"\"\n",
    "    qc.s(qubit)\n",
    "    qc.h(qubit)\n",
    "    qc.measure(qubit, cbit)\n",
    "    qc.h(qubit)\n",
    "    qc.sdg(qubit)\n",
    "    return qc\n",
    "\n",
    "#define circuit\n",
    "q = QuantumRegister(1, 'q')\n",
    "c = ClassicalRegister(1, 'c')\n",
    "circuit = QuantumCircuit(q,c)\n",
    "\n",
    "# Define initial_state alpha=1, beta=0 --> state |0>\n",
    "initial_state = [1,0]   \n",
    "circuit.initialize(initial_state, 0) # Apply initialisation operation to the 0th qubit\n",
    "\n",
    "# ---- Add extra gates to execute on qubit here----\n",
    "\n",
    "# Add a measurement to the circuit\n",
    "# Z measurement\n",
    "circuit.measure(q, c)\n",
    "# X measurment\n",
    "#x_measurement(circuit, 0, 0)\n",
    "# Y measurment\n",
    "#y_measurement(circuit, 0, 0)\n",
    "\n",
    "# define simulator\n",
    "simulator = Aer.get_backend('qasm_simulator')\n",
    "# execute the circuit with this simulator\n",
    "job = execute(circuit, simulator).result()\n",
    "counts = job.get_counts()\n",
    "\n",
    "print (\"total counts for |0> are:\",counts)\n",
    "# plot histogram\n",
    "plot_histogram(counts)\n"
   ]
  },
  {
   "cell_type": "markdown",
   "metadata": {},
   "source": [
    "> Q6 What happens when you measure in different basis? Do you get what you expected?"
   ]
  },
  {
   "cell_type": "markdown",
   "metadata": {},
   "source": [
    "Measuring in different bases allows us to also witness Heisenberg’s famous \"uncertainty principle\" in action. Having certainty of measuring a state in the Z-basis removes all certainty of measuring a specific state in the X-basis, and vice versa. A common misconception is that the uncertainty is due to the limits in our equipment, here we can see the uncertainty is actually part of the nature of the qubit.\n",
    "\n",
    "For example, if we put our qubit in the state $|0\\rangle$, our measurement in the Z-basis is certain to be $|0\\rangle$, but our measurement in the X-basis is completely random! ($|+\\rangle$ or $|-\\rangle$). Similarly, if we put our qubit in the state $|-\\rangle$, our measurement in the X-basis is certain to be $|-\\rangle$ but now any measurement in the Z-basis will be completely random."
   ]
  }
 ],
 "metadata": {
  "kernelspec": {
   "display_name": "Python 3 (ipykernel)",
   "language": "python",
   "name": "python3"
  },
  "language_info": {
   "codemirror_mode": {
    "name": "ipython",
    "version": 3
   },
   "file_extension": ".py",
   "mimetype": "text/x-python",
   "name": "python",
   "nbconvert_exporter": "python",
   "pygments_lexer": "ipython3",
   "version": "3.10.3"
  }
 },
 "nbformat": 4,
 "nbformat_minor": 2
}
