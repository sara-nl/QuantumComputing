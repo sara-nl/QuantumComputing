{
 "cells": [
  {
   "cell_type": "markdown",
   "metadata": {},
   "source": [
    "[Index](Index.ipynb) - [Prev](Implementation_of_quantum_circuit.ipynb) - [Next](Rotation_gates.ipynb)"
   ]
  },
  {
   "cell_type": "markdown",
   "metadata": {},
   "source": [
    "## Qiskit basics <a id ='basiccircuits'></a>\n",
    "\n",
    "Qiskit general workflow goes as follow ([see tutorial](https://qiskit.org/documentation/intro_tutorial1.html)):\n",
    "\n",
    "1. Build: Design a quantum circuit(s) that represents the problem you are considering.\n",
    "\n",
    "2. Run/execute: Run the circuits on different backends\n",
    "\n",
    "3. Analyze: Compute summary statistics and visualize the results of the experiments.\n"
   ]
  },
  {
   "cell_type": "markdown",
   "metadata": {},
   "source": [
    "# Build a circuit"
   ]
  },
  {
   "cell_type": "code",
   "execution_count": null,
   "metadata": {},
   "outputs": [],
   "source": [
    "# the python packages to import \n",
    "from qiskit import QuantumCircuit, QuantumRegister, ClassicalRegister, execute, Aer, IBMQ\n",
    "from qiskit.visualization import plot_bloch_multivector, plot_histogram\n",
    "import matplotlib.pyplot as plt\n",
    "from mpl_toolkits.axes_grid1.inset_locator import mark_inset, inset_axes\n",
    "import numpy as np"
   ]
  },
  {
   "cell_type": "code",
   "execution_count": null,
   "metadata": {},
   "outputs": [],
   "source": [
    "# defining the circuit of one qubit\n",
    "q = QuantumRegister(1, 'q')\n",
    "c = ClassicalRegister(1, 'c')\n",
    "circuit = QuantumCircuit(q ,c)\n",
    "\n",
    "# visualize the circuit\n",
    "circuit.draw(output='mpl') "
   ]
  },
  {
   "cell_type": "markdown",
   "metadata": {},
   "source": [
    "Circuits are the fundamental unit of Qiskit. Most circuits are a combination of classical and quantum registers. The quantum registers are used to perform quantum operations on qubits. The classical registers are used to perform classical operations on the measurements obtained. The code above only creates a circuit and visualizes it, but we have not yet done anything with it. Lets now see how to execute it!"
   ]
  },
  {
   "cell_type": "markdown",
   "metadata": {},
   "source": [
    "# Execute the circuit\n",
    "\n",
    "Here we will use two backends:\n",
    "- statevector_simulator: returns the quantum state as a complex vector of dimensions $2^N$ , where $N$ is the number of qubits.\n",
    "- qasm_simulator: returns a bit string of the last result and the measurements probability distibution for 1024 executions\n",
    "\n",
    "The state_simulator backend is usefull to visualize states and the effect of the gates. You should however not add any measurments in this case because when doing so, we lose the information about the state and collapse it to one of the basis states. The output state is always one of the basis states and this does not provide by itself with a lot of information about the circuit.\n",
    "\n",
    "To get insight after a measurement, we need to perform the experiment several times. The interesting results are related with the probability distribution of outcomes. For this, we can use qasm_simulator backend and get back the number of times one results or the other was obtained. We further plot a histogram of the outcomes.\n",
    "\n",
    "\n",
    "## statevector backend"
   ]
  },
  {
   "cell_type": "code",
   "execution_count": null,
   "metadata": {},
   "outputs": [],
   "source": [
    "# define the backend\n",
    "simulator = Aer.get_backend('statevector_simulator')\n",
    "\n",
    "# defining the circuit\n",
    "q = QuantumRegister(1, 'q')\n",
    "c = ClassicalRegister(1, 'c')\n",
    "circuit = QuantumCircuit(q,c)\n",
    "\n",
    "# execute the circuit with the defined backend\n",
    "job = execute(circuit, simulator).result()\n",
    "\n",
    "# get statevector\n",
    "state = job.get_statevector()\n",
    "print(\"state of qubit = \" + str(state))\n",
    "\n",
    "# visualize state in bloch sphere\n",
    "plot_bloch_multivector(state)\n",
    "\n"
   ]
  },
  {
   "cell_type": "markdown",
   "metadata": {},
   "source": [
    "The circuit is executed and the results are stored in the object \"job\". From this object we can obtain the statevector. Unless specified differently, qubits are always initialize in state $|0\\rangle$. "
   ]
  },
  {
   "cell_type": "markdown",
   "metadata": {},
   "source": [
    "## qasm_simulator backend"
   ]
  },
  {
   "cell_type": "code",
   "execution_count": null,
   "metadata": {},
   "outputs": [],
   "source": [
    "# define simulator backend\n",
    "simulator = Aer.get_backend('qasm_simulator')\n",
    "\n",
    "#define circuit\n",
    "q = QuantumRegister(1, 'q')\n",
    "c = ClassicalRegister(1, 'c')\n",
    "circuit = QuantumCircuit(q,c)\n",
    "\n",
    "# Add a measurement to the circuit\n",
    "circuit.measure(q,c)\n",
    "\n",
    "# execute the circuit with the defined backend\n",
    "job = execute(circuit, simulator).result()\n",
    "counts = job.get_counts()\n",
    "print (\"total counts for |0> are:\",counts)\n",
    "\n",
    "# plot histogram\n",
    "plot_histogram(counts)"
   ]
  },
  {
   "cell_type": "code",
   "execution_count": null,
   "metadata": {},
   "outputs": [],
   "source": [
    "# visualize the circuit\n",
    "circuit.draw(output='mpl') "
   ]
  },
  {
   "cell_type": "markdown",
   "metadata": {},
   "source": [
    "Notice that now we have added a measurement to the circuit. The measurement takes as arguments both the quantum and classical registers and uses the classical register to store the measurement outcomes. If you visualize the circuit, you will see an arrow pointing from the qubit to the classical bit used to store the extracted output.\n",
    "\n",
    "Since we have done nothing to the qubit and the qubit is always initialize in state $|0\\rangle$, the probability of measuring the qubit in state $|0\\rangle$ is equal to 1.0.\n"
   ]
  },
  {
   "cell_type": "markdown",
   "metadata": {},
   "source": [
    "> E1: Build a circuit with 4 qubits, add a measurment and visualize the outcome. "
   ]
  },
  {
   "cell_type": "markdown",
   "metadata": {},
   "source": [
    "## Initializing the qubit in different states\n",
    "In some cases, we want to initialize our qubits in a different state, we can do this by using the following:"
   ]
  },
  {
   "cell_type": "code",
   "execution_count": null,
   "metadata": {},
   "outputs": [],
   "source": [
    "# define the backend\n",
    "simulator = Aer.get_backend('statevector_simulator')\n",
    "\n",
    "#define circuit\n",
    "q = QuantumRegister(1, 'q')\n",
    "c = ClassicalRegister(1, 'c')\n",
    "circuit = QuantumCircuit(q,c)\n",
    "\n",
    "# Define initial_state alpha=0, beta=1\n",
    "initial_state = [1,0]   \n",
    "# Apply initialisation operation to the qubit \n",
    "circuit.initialize(initial_state, 0) # state and index of qubit to be initialized\n",
    "\n",
    "# visualize initial_state in bloch sphere\n",
    "plot_bloch_multivector(initial_state)"
   ]
  },
  {
   "cell_type": "markdown",
   "metadata": {},
   "source": [
    "> E2: Initialize the qubit in state $\\alpha = \\frac{1}{\\sqrt 2}$ and $\\beta = \\frac{1}{\\sqrt 2}$ and visualize it in Bloch sphere. (hint: to get $\\frac{1}{\\sqrt 2}$ use the function np.sqrt())\n",
    "\n",
    "> Q1: What do you expect the probability of measuring state $|0\\rangle$ is?"
   ]
  },
  {
   "cell_type": "markdown",
   "metadata": {},
   "source": [
    "Lets now add a measurment and execute the circuit:"
   ]
  },
  {
   "cell_type": "code",
   "execution_count": null,
   "metadata": {},
   "outputs": [],
   "source": [
    "# define the backend\n",
    "simulator = Aer.get_backend('qasm_simulator')\n",
    "\n",
    "#define circuit\n",
    "q = QuantumRegister(1, 'q')\n",
    "c = ClassicalRegister(1, 'c')\n",
    "circuit = QuantumCircuit(q,c)\n",
    "\n",
    "# Define initial_state alpha=0, beta=1\n",
    "initial_state = [0,1]   \n",
    "# Apply initialisation operation to the qubit \n",
    "circuit.initialize(initial_state, 0) # state and index of qubit to be initialized\n",
    "\n",
    "# Add a measurement to the circuit\n",
    "circuit.measure(q,c)\n",
    "\n",
    "# execute the circuit with\n",
    "job = execute(circuit, simulator).result()\n",
    "\n",
    "# plot histogram\n",
    "counts = job.get_counts()\n",
    "plot_histogram(counts)\n",
    "\n",
    "#circuit.draw(output='mpl') \n"
   ]
  },
  {
   "cell_type": "markdown",
   "metadata": {},
   "source": [
    "> E3: Execute an experiment with the qubit initialized in state $\\alpha = \\frac{1}{\\sqrt 2}$ and $\\beta = \\frac{1}{\\sqrt 2}$ and plot the results. Is this what you expected?\n",
    "\n",
    "> E4: lets know do the same with the qubit initialized in state $\\alpha = \\frac{1}{2}$ and $\\beta = \\frac{\\sqrt 3}{2}$ and plot the results. Is this what you expected? Try also inverting the values of $\\alpha$ and $\\beta$"
   ]
  },
  {
   "cell_type": "markdown",
   "metadata": {},
   "source": [
    "## Pauli gates \n",
    "\n",
    "Now that we know how to build circuits in qiskit and how to analyze some of the results (histogram, Bloch sphere and state vector), let us do something more interesting and start adding gates to the circuit. We will start by first using the statevector_simulator to visualize in the Bloch sphere the effect of the gates. We will execute the experiment but we wont measure it, as this collapses the state."
   ]
  },
  {
   "cell_type": "code",
   "execution_count": null,
   "metadata": {},
   "outputs": [],
   "source": [
    "# define the backend\n",
    "simulator = Aer.get_backend('statevector_simulator')\n",
    "\n",
    "#define circuit\n",
    "q = QuantumRegister(1, 'q')\n",
    "c = ClassicalRegister(1, 'c')\n",
    "circuit = QuantumCircuit(q,c)\n",
    "\n",
    "# Define initial_state alpha=1, beta=0 --> state |0>\n",
    "initial_state = [1,0]   \n",
    "\n",
    "# Apply initialisation operation to the qubit\n",
    "circuit.initialize(initial_state, 0) \n",
    "\n",
    "# Apply X gate to qubit\n",
    "circuit.x(0)\n",
    "\n",
    "# ---- Add any extra gates here----\n",
    "\n",
    "# Add a measurement to the circuit\n",
    "#circuit.measure(q,c)\n",
    "\n",
    "# execute the circuit \n",
    "job = execute(circuit, simulator).result()\n",
    "\n",
    "# get statevector\n",
    "state = job.get_statevector()\n",
    "print(\"state of qubit = \" + str(state))\n",
    "\n",
    "# visualize state in bloch sphere\n",
    "plot_bloch_multivector(state)\n",
    "\n",
    "#visualize crcuit\n",
    "#circuit.draw(output='mpl') \n"
   ]
  },
  {
   "cell_type": "markdown",
   "metadata": {},
   "source": [
    "> Q2: What is the effect of the X-gate?\n",
    "\n",
    "\n"
   ]
  },
  {
   "cell_type": "markdown",
   "metadata": {},
   "source": [
    "> E4: Add a Y-gate instead of an X-gate. What changes in the qubit state? \n",
    "\n",
    "> E5: Uncomment the measurment of the circuit with a Y-gate. \n",
    "\n",
    "> Q3: What happens now with the qubit state? Is there any difference? Can you explain this?\n",
    "\n"
   ]
  },
  {
   "cell_type": "markdown",
   "metadata": {},
   "source": [
    "> E6: Add a Z-gate instead of a Y-gate, initialize the qubit in state $\\alpha = \\frac{1}{\\sqrt 2}$ and $\\beta = \\frac{1}{\\sqrt 2}$ and comment again the measurment.\n",
    "\n",
    "> Q4: What changed? \n",
    "\n",
    "> E7: Uncomment the measurment. What happens now?"
   ]
  },
  {
   "cell_type": "markdown",
   "metadata": {},
   "source": [
    "> E8: Comment again the measurment and try to add two consecutive X-gates or two consecutive Y-gates. What do you observe?\n"
   ]
  }
 ],
 "metadata": {
  "kernelspec": {
   "display_name": "Python 3 (ipykernel)",
   "language": "python",
   "name": "python3"
  },
  "language_info": {
   "codemirror_mode": {
    "name": "ipython",
    "version": 3
   },
   "file_extension": ".py",
   "mimetype": "text/x-python",
   "name": "python",
   "nbconvert_exporter": "python",
   "pygments_lexer": "ipython3",
   "version": "3.10.3"
  }
 },
 "nbformat": 4,
 "nbformat_minor": 2
}
