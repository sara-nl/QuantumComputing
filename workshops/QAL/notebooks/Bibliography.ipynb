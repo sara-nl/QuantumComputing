{
  "cells": [
    {
      "cell_type": "markdown",
      "source": [
        "# Bibliography"
      ],
      "metadata": {}
    },
    {
      "cell_type": "markdown",
      "source": [
        "Ellis, Frank. 1993. Peasant Economics : Farm Households and Agrarian Development. Vol. 2nd. Wye Studies in Agricultural and Rural Development. Cambridge ; New York, NY, USA: Cambridge University Press.\n",
        "\n",
        "Low, Allan. 1986. Agricultural Development in Southern Africa: Farm-Household Economics and the Food Crisis. London : Portsmouth, N.H: J. Currey ; Heinemann.\n",
        "\n",
        "Wolf, Eric R. 1966. Peasants. Vol. 10. Prentice-Hall Englewood Cliffs, NJ. \n",
        "\n",
        "Singh, Inderjit, Lyn Squire, and John Strauss. 1986. Agricultural Household Models: Extensions, Applications, and Policy. The World Bank. \n"
      ],
      "metadata": {}
    }
  ],
  "metadata": {
    "kernelspec": {
      "name": "python3",
      "language": "python",
      "display_name": "Python 3"
    },
    "kernel_info": {
      "name": "python3"
    },
    "language_info": {
      "version": "3.5.3",
      "codemirror_mode": {
        "version": 3,
        "name": "ipython"
      },
      "pygments_lexer": "ipython3",
      "nbconvert_exporter": "python",
      "name": "python",
      "file_extension": ".py",
      "mimetype": "text/x-python"
    }
  },
  "nbformat": 4,
  "nbformat_minor": 4
}
