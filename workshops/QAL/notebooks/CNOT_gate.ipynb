{
 "cells": [
  {
   "cell_type": "markdown",
   "metadata": {},
   "source": [
    "[Index](Index.ipynb) - [Prev](Hadamard_gate.ipynb) - [Next](SWAP_gate.ipynb)"
   ]
  },
  {
   "cell_type": "markdown",
   "metadata": {},
   "source": [
    "### CNOT <a id='cnot'></a>\n",
    "The CNOT (or controlled X) is a two qubit control gate and is highly use to create entangled states.\n",
    "It flips the second qubit (the target qubit) if and only if the first qubit (the control qubit) is $|1\\rangle$. Let's see some examples:"
   ]
  },
  {
   "cell_type": "code",
   "execution_count": null,
   "metadata": {},
   "outputs": [],
   "source": [
    "from qiskit import QuantumCircuit, QuantumRegister, ClassicalRegister, execute, Aer, IBMQ\n",
    "from qiskit.visualization import plot_bloch_multivector, plot_histogram\n",
    "import matplotlib.pyplot as plt\n",
    "from mpl_toolkits.axes_grid1.inset_locator import mark_inset, inset_axes\n",
    "\n",
    "#define circuit\n",
    "q = QuantumRegister(2, 'q')\n",
    "c = ClassicalRegister(2, 'c')\n",
    "circuit2 = QuantumCircuit(q,c)\n",
    "\n",
    "# Define initial_state for both qubit to be alpha=1, beta=0 --> state |00>\n",
    "#initial_state = ([1,0], [1,0])   \n",
    "#circuit.initialize(initial_state, 1) # CHECK\n",
    "\n",
    "# ---- Add extra gates to execute on qubit here----\n",
    "\n",
    "circuit2.cnot(0,1)\n",
    "\n",
    "circuit2.measure(q, c)\n",
    "\n",
    "# define simulator\n",
    "simulator = Aer.get_backend('qasm_simulator')\n",
    "# execute the circuit with this simulator\n",
    "job = execute(circuit2, simulator).result()\n",
    "counts = job.get_counts()\n",
    "\n",
    "print (\"total counts for |00> are:\",counts)\n",
    "# plot histogram\n",
    "plot_histogram(counts)"
   ]
  },
  {
   "cell_type": "code",
   "execution_count": null,
   "metadata": {},
   "outputs": [],
   "source": [
    "# visualize circuit\n",
    "circuit2.draw(output='mpl')"
   ]
  },
  {
   "cell_type": "markdown",
   "metadata": {},
   "source": [
    "In the circuit above, both q0 and q1 are initialized in state $|0\\rangle$, the initial quantum state of the system is $|00\\rangle$. Then, the CNOT gate is applied using q0 as the control qubit and q1 as the target qubit. Since the control qubit is $|0\\rangle$, the CNOT has no effect on the target qubit. The state of the system does not change. When measured, we observe state $|00\\rangle$ with probability 1.0.\n",
    "\n",
    "> Q1: What happens if we apply initialize q0 in state $|1\\rangle$? (or apply a X gate to q0 before the CNOT?)\n"
   ]
  },
  {
   "cell_type": "markdown",
   "metadata": {},
   "source": [
    "## Bell states\n",
    "\n",
    "> E1: Create a circuit where you apply a Hadamard to the control qubit (q0) before the CNOT\n",
    "\n",
    "> Q2: Which state do you get? Can you explain the result?\n",
    "\n",
    "> Q3: Can you write the individual qubit states? What should the values of $\\alpha_1$ and $\\beta_1$ be?\n",
    "\n",
    "\n",
    "The quantum state created by the above circuit is one of the so called \"Bell states\" (https://en.wikipedia.org/wiki/Bell_state). The Bell states are maximally entangled, that means that measuring one already \"defines\" the value of the other. If we measure q0 at state $|0\\rangle$, we know q1 is also in state $|0\\rangle$, if we measure q0 in $|1\\rangle$ we know q1 is also in state $|1\\rangle$. They are somehow linked and this \"link\" is called entanglement.\n",
    "\n",
    "More formally (for the curious) an entangle state is a state of the system that can not be described by the individual qubits, only by the whole multi-qubit register (https://en.wikipedia.org/wiki/Quantum_entanglement). \n",
    "\n",
    "There are three other Bell states of 2-qubits:\n",
    "\n",
    "$|\\psi\\rangle = \\frac{1}{\\sqrt 2}|00\\rangle - \\frac{1}{\\sqrt 2}|11\\rangle$ \n",
    "\n",
    "$|\\psi\\rangle = \\frac{1}{\\sqrt 2}|01\\rangle + \\frac{1}{\\sqrt 2}|10\\rangle$ \n",
    "\n",
    "$|\\psi\\rangle = \\frac{1}{\\sqrt 2}|01\\rangle - \\frac{1}{\\sqrt 2}|10\\rangle$ \n",
    "\n",
    "> E2: Try to create these states\n"
   ]
  },
  {
   "cell_type": "markdown",
   "metadata": {},
   "source": [
    "## GHZ state\n",
    "\n",
    "The GHZ state is a generalization of the Bell states for a system of 3-qubits.\n",
    "The state is:\n",
    "    \n",
    "$|\\psi\\rangle = \\frac{1}{\\sqrt 2}|000\\rangle - \\frac{1}{\\sqrt 2}|111\\rangle$ \n",
    "\n",
    "> E3: create the GHZ state"
   ]
  }
 ],
 "metadata": {
  "kernelspec": {
   "display_name": "Python 3 (ipykernel)",
   "language": "python",
   "name": "python3"
  },
  "language_info": {
   "codemirror_mode": {
    "name": "ipython",
    "version": 3
   },
   "file_extension": ".py",
   "mimetype": "text/x-python",
   "name": "python",
   "nbconvert_exporter": "python",
   "pygments_lexer": "ipython3",
   "version": "3.10.3"
  }
 },
 "nbformat": 4,
 "nbformat_minor": 2
}
