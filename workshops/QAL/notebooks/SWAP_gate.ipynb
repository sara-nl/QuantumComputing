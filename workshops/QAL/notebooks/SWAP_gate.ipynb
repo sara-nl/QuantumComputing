{
 "cells": [
  {
   "cell_type": "markdown",
   "metadata": {},
   "source": [
    "[Index](Index.ipynb) - [Prev](CNOT_gate.ipynb) - [Next](Random_number.ipynb)"
   ]
  },
  {
   "cell_type": "markdown",
   "metadata": {},
   "source": [
    "### SWAP gate <a id='swap'></a>\n",
    "\n",
    "Sometimes we need to move information around in a quantum computer. For some qubit implementations, this could be done by physically moving them. Another option is simply to move the state between two qubits. This is done using the SWAP gate.\n",
    "\n"
   ]
  },
  {
   "cell_type": "code",
   "execution_count": null,
   "metadata": {},
   "outputs": [],
   "source": [
    "from qiskit import QuantumCircuit, QuantumRegister, ClassicalRegister, execute, Aer, IBMQ\n",
    "from qiskit.visualization import plot_bloch_multivector, plot_histogram\n",
    "import matplotlib.pyplot as plt\n",
    "from mpl_toolkits.axes_grid1.inset_locator import mark_inset, inset_axes\n",
    "\n",
    "#define circuit\n",
    "q = QuantumRegister(4, 'q')\n",
    "c = ClassicalRegister(4, 'c')\n",
    "circuit = QuantumCircuit(q,c)\n",
    "\n",
    "\n",
    "# Using an x gate to define initial state of qubit q0 to be alpha=0, beta=1 --> state |1000>\n",
    "circuit.x(0)\n",
    "\n",
    "circuit.swap(0,1) \n",
    "\n",
    "# ---- Add extra gates to execute on qubit here----\n",
    "\n",
    "circuit.measure(q, c)\n",
    "\n",
    "# define simulator\n",
    "simulator = Aer.get_backend('qasm_simulator')\n",
    "# execute the circuit with this simulator\n",
    "job = execute(circuit, simulator).result()\n",
    "counts = job.get_counts()\n",
    "\n",
    "print (\"total counts are:\",counts)\n",
    "# plot histogram\n",
    "plot_histogram(counts)"
   ]
  },
  {
   "cell_type": "markdown",
   "metadata": {},
   "source": [
    "The swap gate change the state of qubit q0 and q1. Initially q0 was in state $|1\\rangle$ and q1 in state $|0\\rangle$. The total state of the system was $|1000\\rangle$. The swap gate change the state of q0 --> q1 which was $|0\\rangle$ and the state of q1 --> q0 which was $|1\\rangle$. The total state of the system is now $|0100\\rangle$."
   ]
  },
  {
   "cell_type": "code",
   "execution_count": null,
   "metadata": {},
   "outputs": [],
   "source": [
    "# visualize circuit\n",
    "circuit.draw(output='mpl')"
   ]
  },
  {
   "cell_type": "markdown",
   "metadata": {},
   "source": [
    "> E1: Initialize q0 and q1 in state $|1\\rangle$. What is the total state of the system? \n",
    "\n",
    "\n",
    "> E2: How can you get to state $|0110\\rangle$. Which qubits need to be swapped?\n",
    "\n",
    "> E3: Assume you can only swap with the qubits next to you, how do we move information from q0 to q4?"
   ]
  }
 ],
 "metadata": {
  "kernelspec": {
   "display_name": "Python 3 (ipykernel)",
   "language": "python",
   "name": "python3"
  },
  "language_info": {
   "codemirror_mode": {
    "name": "ipython",
    "version": 3
   },
   "file_extension": ".py",
   "mimetype": "text/x-python",
   "name": "python",
   "nbconvert_exporter": "python",
   "pygments_lexer": "ipython3",
   "version": "3.10.3"
  }
 },
 "nbformat": 4,
 "nbformat_minor": 2
}
