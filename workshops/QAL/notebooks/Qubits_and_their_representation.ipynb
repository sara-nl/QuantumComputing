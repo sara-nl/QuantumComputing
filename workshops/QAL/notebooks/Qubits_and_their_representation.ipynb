{
 "cells": [
  {
   "cell_type": "markdown",
   "metadata": {},
   "source": [
    "[Index](Index.ipynb) - [Prev](Basic_on_quantum_information.ipynb) - [Next](Modifying_a_quantum_state.ipynb) "
   ]
  },
  {
   "cell_type": "markdown",
   "metadata": {},
   "source": [
    "## Qubits and their representation <a id ='qubits'></a>\n",
    "Quantum computers are devices that process information by taking advantage of the quantum-\n",
    "mechanical properties (superposition, entanglement and interference) of its building blocks, the qubits. \n",
    "There are many examples of systems that can be used as qubits such as the polarization of a photon, the states of an atom, the nuclear or electron spin, etc. \n",
    "\n",
    "As opposed to a bit, that can only be in state 0 or 1 (on or off), a qubit can be in any state in between these \"classical states\" (like a dimmy light). The state of the qubit is a combination (superposition) of the two classical states 0 and 1 . Mathematically, this can be expresed as:\n",
    "\n",
    "$|\\psi\\rangle = \\alpha|0\\rangle + \\beta|1\\rangle$  \n",
    "\n",
    "where $|\\psi\\rangle$ represents the state of the qubit (also called the \"statevector\"), $|0\\rangle$ and $|1\\rangle$ represent the two classical states (also known as \"basis states\") and the coefficients $\\alpha$ and $\\beta$ (also known as probability amplitudes) represent how much each of the classical states contributes to the qubit state.\n",
    "\n",
    "Here we have used the bra-ket notation $\\langle |\\rangle$. This is a common notation to express quantum states. The bra $\\langle |$ represents a vector. The ket $|\\rangle$  represents a column vector. In particular:\n",
    "\n",
    "$|0\\rangle = \\left(\\begin{array}{c} 1 \\\\ 0 \\end{array}\\right)$\n",
    "\n",
    "$|1\\rangle = \\left(\\begin{array}{c} 0 \\\\ 1 \\end{array}\\right)$\n",
    "\n",
    "Hence:\n",
    "\n",
    "$|\\psi \\rangle = \\alpha \\left(\\begin{array}{c} 1 \\\\ 0 \\end{array}\\right) + \\beta \\left(\\begin{array}{c} 0 \\\\ 1 \\end{array}\\right)= \\left(\\begin{array}{c} \\alpha \\\\ \\beta \\end{array}\\right)$\n",
    "\n",
    "From the above expression, we can notice that if the basis states are known (in this case $|0\\rangle$ and $|1\\rangle$), the state of a qubit is fully defined by a 2D vector with elements $\\alpha$ and $\\beta$.\n",
    "\n",
    "However, even if the qubit can be in any superposition of $|0\\rangle$ and $|1\\rangle$, when we measure the qubit there are only two possible outcomes: 0 or 1 (the classical outcomes). The action of measuring the qubit turns one of the coefficients ($\\alpha$ or $\\beta$) to 0 and the other one to 1. This means that no mater the superposition state of the qubit, after a measurment, the qubit is in either state:\n",
    "\n",
    "$|\\psi \\rangle =  \\left(\\begin{array}{c} 1 \\\\ 0 \\end{array}\\right) = |0\\rangle, (\\alpha = 1 , \\beta= 0)$\n",
    "\n",
    "or\n",
    "\n",
    "$|\\psi \\rangle =  \\left(\\begin{array}{c} 0 \\\\ 1 \\end{array}\\right) = |1\\rangle, (\\alpha = 0 , \\beta= 1)$\n",
    "\n",
    "So, even though we can store more information in the qubit than a bit (for example in one qubit we have two values ($\\alpha,\\beta$), when we measure the qubit the information is lost and we only get yes or no answer (on or off). Which \"answer\" we get (which of the two states above is the outcome) depends on how the basis states contributes to the qubit state in the first place: depends on the values of $\\alpha$ and $\\beta$. The larger the magnitude of the coefficient the more likely it is we measure the associated state. \n",
    "\n",
    "Let us see some examples:\n",
    "\n",
    "1. $|\\psi\\rangle = 0.866|0\\rangle + 0.5|1\\rangle$  \n",
    "\n",
    "2. $|\\psi\\rangle = 0.707|0\\rangle + 0.707|1\\rangle$  \n",
    "\n",
    "In the first example, intuitively, state $|0\\rangle$ is more likely to be measured since $\\alpha \\lt \\beta$. In the second example, intuitively, both states are equally likely to be measured $\\alpha=\\beta$.\n",
    "The actual probability of measuring state $|0\\rangle$ is given by $|\\alpha|^2$ and the actual probability of measuring state $|1\\rangle$ is given by $|\\beta|^2$ (hence the name probability amplitudes). Since the total probability of measuring a state has to be 1.0, it is also a fact that $|\\alpha|^2 + |\\beta|^2 = 1$.\n",
    "\n",
    "Since the probability of measuring a state is given by the square of the magnitud of $\\alpha$ or $\\beta$, states like\n",
    "\n",
    "\n",
    "$|\\psi\\rangle = 0.866|0\\rangle + 0.5|1\\rangle$  \n",
    "\n",
    "$|\\psi\\rangle = -0.866|0\\rangle + 0.5|1\\rangle$\n",
    "\n",
    "$|\\psi\\rangle = -0.866|0\\rangle - 0.5|1\\rangle$\n",
    "\n",
    "$|\\psi\\rangle = 0.866|0\\rangle - 0.5|1\\rangle$\n",
    "\n",
    "are equivalent to us. The probability of measuring $|0\\rangle$ or $|1\\rangle$ is equal in both cases. These states however do interact differently with other qubits, but we will dive into this further in this tutorial.\n",
    "\n",
    "\n",
    "## Bloch sphere\n",
    "\n",
    "The Bloch sphere helps us visualize a qubit state and its transformations. As we mention before, if the basis states are known, the state of a qubit is fully defined by $\\alpha$ and $\\beta$. \n",
    "\n",
    "Previously we saw that $\\alpha$ and $\\beta$ can be positive of negative numbers, but actually in their most general form, these coefficients are complex numbers (of the form $a+ib$). Hence, the state of a qubit is fully described by four numbers. \n",
    "\n",
    "Since the probability of measuring a state is given by the square of the probability amplitudes, certain qubit states are equivalent to us (like the example above). This allows us to ignore some states and assume for example that $\\alpha$ is always real and non-negative. By doing so, the qubit state can fully be defined by three numbers. This is important because it allows us to describe and visualize the state of a qubit in a (weird) 3D. Weird becasue one of the dimensions has imaginary numbers.\n",
    "\n",
    "\n",
    "In this space we can map $\\psi$ in terms of $\\theta, \\phi$ as:\n",
    "\n",
    "$|\\psi\\rangle = \\cos(\\theta/2) |0\\rangle + sin(\\theta/2)\\exp^{i\\phi} |1\\rangle$\n",
    "\n",
    "Where $0 \\lt \\theta \\lt \\pi, 0 \\lt \\phi \\lt 2\\pi$\n",
    "\n",
    "Under this mapping the state of a qubit is represented as a point in \"Bloch sphere\". This is a sphere of radius 1 (consitent with $|\\alpha|^2 +|\\beta|^2 = 1$) where the poles represent the basis states $|0\\rangle$ and $|1\\rangle$"
   ]
  },
  {
   "cell_type": "code",
   "execution_count": null,
   "metadata": {},
   "outputs": [],
   "source": []
  }
 ],
 "metadata": {
  "kernelspec": {
   "display_name": "Python 3 (ipykernel)",
   "language": "python",
   "name": "python3"
  },
  "language_info": {
   "codemirror_mode": {
    "name": "ipython",
    "version": 3
   },
   "file_extension": ".py",
   "mimetype": "text/x-python",
   "name": "python",
   "nbconvert_exporter": "python",
   "pygments_lexer": "ipython3",
   "version": "3.10.3"
  }
 },
 "nbformat": 4,
 "nbformat_minor": 2
}
