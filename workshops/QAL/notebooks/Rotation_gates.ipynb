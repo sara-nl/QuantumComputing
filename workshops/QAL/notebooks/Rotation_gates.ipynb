{
 "cells": [
  {
   "cell_type": "markdown",
   "metadata": {},
   "source": [
    "[Index](Index.ipynb) - [Prev](Qiskit_basics.ipynb) - [Next](Hadamard_gate.ipynb)"
   ]
  },
  {
   "cell_type": "markdown",
   "metadata": {},
   "source": [
    "## Rotation gates <a id ='rotationgates'></a>"
   ]
  },
  {
   "cell_type": "markdown",
   "metadata": {},
   "source": [
    "We will now play with other gates, the rotation gates. Rotation gates are parameterized gates, this means that the way they operate depends on a parameter (angle), which is given as an input. Parametrized gates are very useful because they allow us to manipulate the outcome of the circuit by tunning the parameters.\n",
    "\n",
    "## RZ\n",
    "Let us first try the Rz gate. This gate is also known as the $R_\\phi$ gate (since it is the $\\phi$ angle in Bloch sphere that changes) and it is a rotation around the Z-axis. \n",
    "\n",
    "Before running the code\n",
    "\n",
    "> Q1: What do you expect is the output of a measurment when rotating the qubit around the Z-axis?"
   ]
  },
  {
   "cell_type": "code",
   "execution_count": null,
   "metadata": {},
   "outputs": [],
   "source": [
    "# the quantum packages to import \n",
    "from qiskit import QuantumCircuit, QuantumRegister, ClassicalRegister, execute, Aer, IBMQ\n",
    "from qiskit.visualization import plot_bloch_multivector, plot_histogram\n",
    "import matplotlib.pyplot as plt\n",
    "from mpl_toolkits.axes_grid1.inset_locator import mark_inset, inset_axes"
   ]
  },
  {
   "cell_type": "code",
   "execution_count": null,
   "metadata": {},
   "outputs": [],
   "source": [
    "from math import pi\n",
    "import numpy as np\n",
    "#rotation angle\n",
    "angle = pi\n",
    "\n",
    "# define the simulator\n",
    "simulator = Aer.get_backend('statevector_simulator')\n",
    "\n",
    "#define circuit\n",
    "q = QuantumRegister(1, 'q')\n",
    "c = ClassicalRegister(1, 'c')\n",
    "circuit = QuantumCircuit(q,c)\n",
    "\n",
    "# Define initial_state alpha=1, beta=0 --> state 00\n",
    "initial_state = [1,0]   \n",
    "circuit.initialize(initial_state, 0) \n",
    "\n",
    "# A R-phi rotation 180 degrees\n",
    "circuit.rz(angle,q)\n",
    "\n",
    "# ---- Add extra gates to execute on qubit here----\n",
    "\n",
    "# Add a measurement to the circuit\n",
    "circuit.measure(q,c)\n",
    "\n",
    "# execute the circuit\n",
    "job = execute(circuit, simulator).result()\n",
    "state = job.get_statevector()\n",
    "\n",
    "print(\"State of qubit after execution of Rz = \" + str(state))\n",
    "\n",
    "#visualize crcuit\n",
    "circuit.draw(output='mpl') \n",
    "\n",
    "# visualize state in bloch sphere\n",
    "plot_bloch_multivector(state)"
   ]
  },
  {
   "cell_type": "markdown",
   "metadata": {},
   "source": [
    "> E1: Comment the Rz gate and compare the result before the gate with the results after applying a gate.\n",
    "\n",
    "> Q2: What has changed in the qubit state? Does this influence the measurment?\n",
    "\n",
    "> E2: Uncomment the measurment and run the code again. What do you get?"
   ]
  },
  {
   "cell_type": "markdown",
   "metadata": {},
   "source": [
    "## Rx and Ry\n",
    "\n",
    "Just as with the Rz, we can apply parameterized rotations in the Y and Z axis. "
   ]
  },
  {
   "cell_type": "code",
   "execution_count": null,
   "metadata": {},
   "outputs": [],
   "source": [
    "# visualize bloch sphere\n",
    "plot_bloch_multivector(state)"
   ]
  },
  {
   "cell_type": "markdown",
   "metadata": {},
   "source": [
    "> Q3: What measurment outcome do you expect after rotating the qubit on the X-axis by $\\pi/2$? What about rotating on the Y-axis?"
   ]
  },
  {
   "cell_type": "code",
   "execution_count": null,
   "metadata": {},
   "outputs": [],
   "source": [
    "#rotation angle\n",
    "angle = pi/2\n",
    "\n",
    "# define the simulator\n",
    "simulator = Aer.get_backend('qasm_simulator')\n",
    "\n",
    "#define circuit\n",
    "q = QuantumRegister(1, 'q')\n",
    "c = ClassicalRegister(1, 'c')\n",
    "circuit = QuantumCircuit(q,c)\n",
    "\n",
    "# Define initial_state alpha=1, beta=0 --> state 00\n",
    "initial_state = [1,0]   \n",
    "circuit.initialize(initial_state, 0) \n",
    "\n",
    "# A Rx rotation 90 degrees\n",
    "circuit.rx(angle,q)\n",
    "\n",
    "# ---- Add extra gates to execute on qubit here----\n",
    "\n",
    "# Add a measurement to the circuit\n",
    "circuit.measure(q,c)\n",
    "\n",
    "# execute the circuit\n",
    "job = execute(circuit, simulator).result()\n",
    "counts = job.get_counts()\n",
    "\n",
    "# plot histogram\n",
    "plot_histogram(counts)"
   ]
  },
  {
   "cell_type": "markdown",
   "metadata": {},
   "source": [
    "> Q4: What is the difference between applying an Rx or an Ry rotation? What changes in the qubit state? (hint: you might want to use the statevector_simulator backend to check this)"
   ]
  },
  {
   "cell_type": "markdown",
   "metadata": {},
   "source": [
    "## S and T gates\n",
    "Some rotations have their own name, for example:\n",
    "\n",
    "\n",
    "- S-gate (sometimes known as the $\\sqrt Z$), is a rotation around the Z-axis (R$_z$ or R-$\\phi$) with $\\phi=\\pi/2$\n",
    "\n",
    "- T-gate is a very commonly used gate, is also a Z-axis rotation but with $\\phi=\\pi/4$"
   ]
  },
  {
   "cell_type": "markdown",
   "metadata": {},
   "source": [
    "> Q3: What happens if you apply two consecutive S gates or two consecutive T gates?"
   ]
  },
  {
   "cell_type": "markdown",
   "metadata": {},
   "source": [
    "Circuits that have gates that depend on an parameter, eg. the angle, are called parametrized circuits. Parametrized circuits can be used for example to find the optimal solution of a problem. This is normally done by using a hybrid workflow where the optimization is done classically but the output is computed in a quanutm computer. The two work in tandem to find the solution to a problem. Examples of these type of algorithms are  the variational quantum eigensolver (VQE) and the quanutm approximate optimization algorithm (QAOA) (you will see more about this later)"
   ]
  }
 ],
 "metadata": {
  "kernelspec": {
   "display_name": "Python 3 (ipykernel)",
   "language": "python",
   "name": "python3"
  },
  "language_info": {
   "codemirror_mode": {
    "name": "ipython",
    "version": 3
   },
   "file_extension": ".py",
   "mimetype": "text/x-python",
   "name": "python",
   "nbconvert_exporter": "python",
   "pygments_lexer": "ipython3",
   "version": "3.10.3"
  }
 },
 "nbformat": 4,
 "nbformat_minor": 2
}
