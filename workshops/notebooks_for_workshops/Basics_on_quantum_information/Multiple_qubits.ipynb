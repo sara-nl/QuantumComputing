{
 "cells": [
  {
   "cell_type": "markdown",
   "metadata": {},
   "source": [
    "[Index](../Index.ipynb) - [Prev](Qubits_and_their_representation.ipynb) - [Next](Modifying_a_quantum_state.ipynb)"
   ]
  },
  {
   "cell_type": "markdown",
   "metadata": {},
   "source": [
    "## Multiple qubits <a id ='multiplequbits'></a>\n",
    "\n",
    "In general, a quantum computer does not consist of one qubit but many qubits interacting among each other. That is also where the power of quantum computer comes from! \n",
    "\n",
    "What si then the state of a system of 2-qubits?\n",
    "\n",
    "Lets assume we have qubit 1 in state $|\\psi_1\\rangle>$ and qubit 2 in state $|\\psi_2\\rangle$\n",
    "\n",
    "$|\\psi_1\\rangle = \\alpha_1|0\\rangle + \\beta_1|1\\rangle$\n",
    "\n",
    "$|\\psi_2\\rangle = \\alpha_2|0\\rangle + \\beta_2|1\\rangle$\n",
    "\n",
    "We know that the probability of measuring qubit in state $|0\\rangle$ is given by $|\\alpha_1^2|$ and the probability of measuring $|1\\rangle$ is given by $|\\beta_1^2|$. What is the the probability of measuring qubit 1 in state $|0\\rangle$  and qubit 2 also in $|0\\rangle$? If the measurements are independent, then we know this is equal to \n",
    "\n",
    "$|\\alpha_1^2|$ $|\\alpha_1^2|$ \n",
    "\n",
    "\n",
    "\n",
    "\n",
    "\n",
    "\n",
    "The state of an n-qubit system ($|\\psi\\rangle$) is given by the tensor product of the individual n-qubit state vectors and the basis set is given by the tensor product of the one qubit basis states.\n",
    "\n",
    "The number of basis states of a system increases with the number of qubits as $2^n$ (n=number qubits) and as such it can be fully described by a vector with $2^n$ entries. For example, for a system of 2-qubits each qubit can be in state $|0\\rangle$ or $|1\\rangle$, this means that a 2-qubit system can be measured in states $|00\\rangle$, $|01\\rangle$, $|10\\rangle$ or $|11\\rangle$ (so all possible permutations). These are the basis states of the 2-qubit system. Before measuring, the 2-qubit system can be in any combination of these basis states:\n",
    "\n",
    "$|\\psi\\rangle = \\alpha|00\\rangle + \\beta|01\\rangle +\\gamma|10\\rangle +\\delta|11\\rangle$ \n",
    "\n",
    "and the state $|\\psi\\rangle$ can be fully represented by the vector $[\\alpha, \\beta,\\gamma, \\delta]^T$ given the basis states."
   ]
  }
 ],
 "metadata": {
  "kernelspec": {
   "display_name": "Python 3 (ipykernel)",
   "language": "python",
   "name": "python3"
  },
  "language_info": {
   "codemirror_mode": {
    "name": "ipython",
    "version": 3
   },
   "file_extension": ".py",
   "mimetype": "text/x-python",
   "name": "python",
   "nbconvert_exporter": "python",
   "pygments_lexer": "ipython3",
   "version": "3.10.3"
  }
 },
 "nbformat": 4,
 "nbformat_minor": 2
}
