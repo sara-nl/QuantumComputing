{
 "cells": [
  {
   "cell_type": "markdown",
   "metadata": {},
   "source": [
    "[Index](../Index.ipynb) - [Prev](../Index.ipynb) - [Next](Qubits_and_their_representation.ipynb) "
   ]
  },
  {
   "cell_type": "markdown",
   "metadata": {},
   "source": [
    "## Basics on Quantum information <a id ='basics'></a>\n",
    "\n",
    "*  [Qubits and their representation](Qubits_and_their_representation.ipynb)\n",
    "*  [Modifying a quantum state](Modifying_a_quantum_state.ipynb)\n",
    "*  [Multiple qubits](Multiple_qubits.ipynb)\n",
   ]
  }
 ],
 "metadata": {
  "kernelspec": {
   "display_name": "Python 3",
   "language": "python",
   "name": "python3"
  },
  "language_info": {
   "name": "plaintext"
  },
  "orig_nbformat": 4
 },
 "nbformat": 4,
 "nbformat_minor": 2
}
