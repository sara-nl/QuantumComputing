{
 "cells": [
  {
   "cell_type": "markdown",
   "metadata": {},
   "source": [
    "[Index](../Index.ipynb) - [Prev](Basic_on_quantum_information.ipynb) - [Next](Multiple_qubits.ipynb) "
   ]
  },
  {
   "cell_type": "markdown",
   "metadata": {},
   "source": [
    "## Qubits and their representation <a id ='qubits'></a>\n",
    "Quantum computers are devices that process information by taking advantage of the quantum-\n",
    "mechanical properties (superposition, entanglement and interference) of its building blocks, the qubits.\n",
    " \n",
    "There are many examples of systems that can represented a qubit such as the polarization of a photon, the states of an atom, the nuclear or electron spin, etc. In general, a qubit is a two state system with quantum properties:\n",
    "\n",
    "- superposition\n",
    "- entanglement\n",
    "- interference\n",
    "\n",
    "As opposed to a bit that can only be in state 0 or 1 (off or on), a qubit can be in any state in between these \"classical states\" (like a dimmy light). In other words, the state of the qubit can be represented as a a combination (superposition) of the two classical states 0 and 1 . Mathematically, this can be expresed as:\n",
    "\n",
    "$|\\psi\\rangle = \\alpha|0\\rangle + \\beta|1\\rangle$  \n",
    "\n",
    "where $|\\psi\\rangle$ represents the state of the qubit (also called the state vector), $|0\\rangle$ and $|1\\rangle$ represent the two classical states (also known as basis states) and the coefficients $\\alpha$ and $\\beta$ (also known as probability amplitudes) represent how much each of the classical states contributes to the qubit state.\n",
    "\n",
    "Here we have used the bra-ket notation $\\langle |\\rangle$. It is a common notation to express quantum states. The bra $\\langle |$ represents a vector. The ket $|\\rangle$  represents a column vector. In particular:\n",
    "\n",
    "$|0\\rangle = \\left(\\begin{array}{c} 1 \\\\ 0 \\end{array}\\right)$\n",
    "\n",
    "$|1\\rangle = \\left(\\begin{array}{c} 0 \\\\ 1 \\end{array}\\right)$\n",
    "\n",
    "Hence:\n",
    "\n",
    "$|\\psi \\rangle = \\alpha \\left(\\begin{array}{c} 1 \\\\ 0 \\end{array}\\right) + \\beta \\left(\\begin{array}{c} 0 \\\\ 1 \\end{array}\\right)= \\left(\\begin{array}{c} \\alpha \\\\ \\beta \\end{array}\\right)$\n",
    "\n",
    "Put in a different way, if the basis states are known, the state of a qubit is fully defined by a 2D vector of entries $\\alpha$ and $\\beta$.\n",
    "\n",
    "However, even if the state of a qubit can be in any value between 0 and 1 (any superposition of the basis states), when we measure the qubit there are only two possible outcomes: 0 or 1 (the classical outcomes). The action of measuring the qubit turns one of the coefficients ($\\alpha$ or $\\beta$) to zero and the other one to 1, meaning that after measuring, the qubit's state is either:\n",
    "\n",
    "$|\\psi \\rangle =  \\left(\\begin{array}{c} 1 \\\\ 0 \\end{array}\\right) = |0\\rangle$\n",
    "\n",
    "or\n",
    "\n",
    "$|\\psi \\rangle =  \\left(\\begin{array}{c} 0 \\\\ 1 \\end{array}\\right) = |1\\rangle$\n",
    "\n",
    "Even though we can store more information in the qubit than a bit, when we measure the qubit the information is lost and we only get yes or no answer. Which \"answer\" we get (which basis state is measured) depends on how the basis state contribute to the qubit state in the first place: depends on the values of $\\alpha$ and $\\beta$. The larger the magnitude of these coefficients the more likely it is we measure the associated state. \n",
    "\n",
    "Let us see some examples:\n",
    "\n",
    "$|\\psi\\rangle = 0.866|0\\rangle + 0.5|1\\rangle$  \n",
    "\n",
    "$|\\psi\\rangle = 0.707|0\\rangle + 0.707|1\\rangle$  \n",
    "\n",
    "In the first example, intuitively, state $|0\\rangle$ is more likely to be measured. iIn the second example, intuitively, both states are equally likely to be measured.\n",
    "\n",
    "The actual probability of measuring state $|0\\rangle$ is given by $|\\alpha|^2$ and the actual probability of measuring state $|1\\rangle$ is given by $|\\beta|^2$ (hence the name probability amplitudes). Since the total probability of measuring a state has to be 1.0, it is also a fact that $|\\alpha|^2 + |\\beta|^2 = 1$.\n",
    "\n",
    "\n",
    "## Bloch sphere\n",
    "\n",
    "The Bloch sphere helps us visualize a qubit state and its transformations. As we mention before, if the basis states are known, the state of a qubit is fully defined by $\\alpha$ and $\\beta$. In their general form, these coefficients are complex numbers (of the form $a+ ib$). Hence, the state of a qubit if fully described by four numbers. \n",
    "Since the probability of measuring a state is given by the square of the probability amplitudes, certain qubit states are equivalent to us. This allows us to ignore some states and assume for example that $\\alpha$ is always real and non-negative. By doing so, the qubit state can fully be defined by three numbers. This is important because then we can describe the state of a qubit in 3D and visualize it.\n",
    "\n",
    "\n",
    "We do so by mapping $\\psi$ in term of $\\theta, \\phi$ as:\n",
    "\n",
    "$|i\\psi\\rangle = \\cos(\\theta/2) |0\\rangle + sin(\\theta/2)\\exp^{i\\phi} |1\\rangle$\n",
    "\n",
    "Where $0 \\lt \\theta \\lt \\pi, 0 \\lt \\phi \\lt 2\\pi$\n",
    "\n",
    "Under this mapping the state of a qubit is represented as a point in \"Bloch sphere\" a shpere of radius 1, where the poles represent the \"basis states\".\n",
    "\n"
   ]
  },
  {
   "cell_type": "code",
   "execution_count": null,
   "metadata": {},
   "outputs": [],
   "source": []
  }
 ],
 "metadata": {
  "kernelspec": {
   "display_name": "Python 3 (ipykernel)",
   "language": "python",
   "name": "python3"
  },
  "language_info": {
   "codemirror_mode": {
    "name": "ipython",
    "version": 3
   },
   "file_extension": ".py",
   "mimetype": "text/x-python",
   "name": "python",
   "nbconvert_exporter": "python",
   "pygments_lexer": "ipython3",
   "version": "3.10.3"
  }
 },
 "nbformat": 4,
 "nbformat_minor": 2
}
