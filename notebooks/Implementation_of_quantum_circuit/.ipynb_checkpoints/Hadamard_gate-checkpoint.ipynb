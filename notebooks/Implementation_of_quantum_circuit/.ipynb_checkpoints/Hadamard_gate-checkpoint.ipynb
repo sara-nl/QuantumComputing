{
 "cells": [
  {
   "cell_type": "markdown",
   "metadata": {},
   "source": [
    "[Index](../Index.ipynb) - [Prev](Qiskit_basics.ipynb) - [Next](Measurements.ipynb)"
   ]
  },
  {
   "cell_type": "markdown",
   "metadata": {},
   "source": [
    "## Hadamards <a id='hadamards'></a>\n",
    "\n",
    "The Hadamard gate is probably the most important single-qubit gate. Lets see what it does:"
   ]
  },
  {
   "cell_type": "code",
   "execution_count": null,
   "metadata": {},
   "outputs": [],
   "source": [
    "from qiskit import QuantumCircuit, QuantumRegister, ClassicalRegister, execute, Aer, IBMQ\n",
    "from qiskit.visualization import plot_bloch_multivector, plot_histogram\n",
    "import matplotlib.pyplot as plt\n",
    "from mpl_toolkits.axes_grid1.inset_locator import mark_inset, inset_axes\n",
    "\n",
    "#define circuit\n",
    "q = QuantumRegister(1, 'q')\n",
    "c = ClassicalRegister(1, 'c')\n",
    "circuit = QuantumCircuit(q,c)\n",
    "\n",
    "# Define initial_state alpha=1, beta=0 --> state |0>\n",
    "initial_state = [1,0]   \n",
    "circuit.initialize(initial_state, 0) # Apply initialisation operation to the 0th qubit\n",
    "\n",
    "# A hadamard operation and measurement\n",
    "circuit.h(q)\n",
    "\n",
    "# ---- Add extra gates to execute on qubit here----\n",
    "\n",
    "# Add a measurement to the circuit\n",
    "circuit.measure(q,c)\n",
    "\n",
    "# define the simulator\n",
    "simulator = Aer.get_backend('statevector_simulator')\n",
    "\n",
    "# execute the circuit wiht the simulator and get the output state vector\n",
    "job = execute(circuit, simulator).result()\n",
    "state = job.get_statevector()\n",
    "\n",
    "print(\"State of qubit after measurement = \" + str(state))\n",
    "\n",
    "#visualize crcuit\n",
    "circuit.draw(output='mpl') "
   ]
  },
  {
   "cell_type": "markdown",
   "metadata": {},
   "source": [
    "The Hadamard gate creates a state that is an even superposition of the basis states $|0\\rangle$ and $|1\\rangle$. \n",
    "It is only when we measure the qubit that we \"collapse\" the state to one of these values.\n",
    "Here is when using the qasm_simulator becomes very important, as then we can verify that indeed if we execute several times the circuit we will get about half of the time as output state $|0\\rangle$ and about half of the time state $|1\\rangle$.\n"
   ]
  },
  {
   "cell_type": "code",
   "execution_count": null,
   "metadata": {},
   "outputs": [],
   "source": [
    "# define simulator\n",
    "simulator = Aer.get_backend('qasm_simulator')\n",
    "\n",
    "#define circuit\n",
    "q = QuantumRegister(1, 'q')\n",
    "c = ClassicalRegister(1, 'c')\n",
    "circuit = QuantumCircuit(q,c)\n",
    "\n",
    "# execute the circuit with this simulator\n",
    "job = execute(circuit, simulator).result()\n",
    "counts = job.get_counts()\n",
    "\n",
    "print (\"total counts for |0> are:\",counts)\n",
    "# plot histogram\n",
    "plot_histogram(counts)"
   ]
  },
  {
   "cell_type": "markdown",
   "metadata": {},
   "source": [
    "As seen above, the probability of measuring $|0\\rangle$ or $|1\\rangle$ is now more or less evenly distributed. The "
   ]
  },
  {
   "cell_type": "markdown",
   "metadata": {},
   "source": [
    "> Q1: Can you also set a system in a superposition state with other gates? "
   ]
  },
  {
   "cell_type": "markdown",
   "metadata": {},
   "source": [
    "> Q2 What is the effect of applying HXH? or HZH?"
   ]
  },
  {
   "cell_type": "markdown",
   "metadata": {},
   "source": [
    "Many quantum gates can be expressed as a composition of other gates, hence not all gates are needed in a quantum computer. The minimum set of gates needed to represent all operations is called a \"universal gate set\" or in other words, any set of gates to which any operation possible on a quantum computer can be reduced is a universal gate set. One example of a universal gate set is  {H, Rz, CNOT} \n",
    "\n",
    "This is similar with classical computer, where a (classical) gate set is called universal if, by stringing together enough gates from the set, you can express any Boolean function on any number of bits.\n"
   ]
  },
  {
   "cell_type": "markdown",
   "metadata": {},
   "source": [
    "## Hadamard gates in systems with multiple qubits"
   ]
  },
  {
   "cell_type": "code",
   "execution_count": 1,
   "metadata": {},
   "outputs": [
    {
     "ename": "NameError",
     "evalue": "name 'QuantumRegister' is not defined",
     "output_type": "error",
     "traceback": [
      "\u001b[0;31m---------------------------------------------------------------------------\u001b[0m",
      "\u001b[0;31mNameError\u001b[0m                                 Traceback (most recent call last)",
      "Input \u001b[0;32mIn [1]\u001b[0m, in \u001b[0;36m<module>\u001b[0;34m\u001b[0m\n\u001b[1;32m      1\u001b[0m \u001b[38;5;66;03m#define circuit\u001b[39;00m\n\u001b[0;32m----> 2\u001b[0m q \u001b[38;5;241m=\u001b[39m \u001b[43mQuantumRegister\u001b[49m(\u001b[38;5;241m2\u001b[39m, \u001b[38;5;124m'\u001b[39m\u001b[38;5;124mq\u001b[39m\u001b[38;5;124m'\u001b[39m)\n\u001b[1;32m      3\u001b[0m c \u001b[38;5;241m=\u001b[39m ClassicalRegister(\u001b[38;5;241m2\u001b[39m, \u001b[38;5;124m'\u001b[39m\u001b[38;5;124mc\u001b[39m\u001b[38;5;124m'\u001b[39m)\n\u001b[1;32m      4\u001b[0m circuit2 \u001b[38;5;241m=\u001b[39m QuantumCircuit(q,c)\n",
      "\u001b[0;31mNameError\u001b[0m: name 'QuantumRegister' is not defined"
     ]
    }
   ],
   "source": [
    "#define circuit\n",
    "q = QuantumRegister(2, 'q')\n",
    "c = ClassicalRegister(2, 'c')\n",
    "circuit2 = QuantumCircuit(q,c)\n",
    "\n",
    "# Define initial_state for both qubit to be alpha=1, beta=0 --> state |00>\n",
    "#initial_state = ([1,0], [1,0])   \n",
    "#circuit.initialize(initial_state, 1) # CHECK\n",
    "\n",
    "circuit2.h(q)\n",
    "\n",
    "circuit2.measure(q, c)\n",
    "\n",
    "# define simulator\n",
    "simulator = Aer.get_backend('qasm_simulator')\n",
    "# execute the circuit with this simulator\n",
    "job = execute(circuit2, simulator).result()\n",
    "counts = job.get_counts()\n",
    "\n",
    "print (\"total counts for |00> are:\",counts)\n",
    "# plot histogram\n",
    "plot_histogram(counts)"
   ]
  },
  {
   "cell_type": "code",
   "execution_count": null,
   "metadata": {},
   "outputs": [],
   "source": []
  }
 ],
 "metadata": {
  "kernelspec": {
   "display_name": "Python 3 (ipykernel)",
   "language": "python",
   "name": "python3"
  },
  "language_info": {
   "codemirror_mode": {
    "name": "ipython",
    "version": 3
   },
   "file_extension": ".py",
   "mimetype": "text/x-python",
   "name": "python",
   "nbconvert_exporter": "python",
   "pygments_lexer": "ipython3",
   "version": "3.10.3"
  }
 },
 "nbformat": 4,
 "nbformat_minor": 2
}
