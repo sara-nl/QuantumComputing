{
 "cells": [
  {
   "cell_type": "markdown",
   "metadata": {},
   "source": [
    "[Index](../Index.ipynb) - [Prev](Implementation_of_quantum_circuit.ipynb) - [Next](Hadamards.ipynb)"
   ]
  },
  {
   "cell_type": "markdown",
   "metadata": {},
   "source": [
    "## Rotation gates <a id ='rotationgates'></a>"
   ]
  },
  {
   "cell_type": "markdown",
   "metadata": {},
   "source": [
    "Rotation gates are ortations of the Paulis... more info"
   ]
  },
  {
   "cell_type": "code",
   "execution_count": null,
   "metadata": {},
   "outputs": [],
   "source": [
    "# the quantum packages to import \n",
    "from qiskit import QuantumCircuit, QuantumRegister, ClassicalRegister, execute, Aer, IBMQ\n",
    "from qiskit.visualization import plot_bloch_multivector, plot_histogram\n",
    "import matplotlib.pyplot as plt\n",
    "from mpl_toolkits.axes_grid1.inset_locator import mark_inset, inset_axes"
   ]
  },
  {
   "cell_type": "code",
   "execution_count": null,
   "metadata": {},
   "outputs": [],
   "source": [
    "from math import pi\n",
    "\n",
    "#define circuit\n",
    "q = QuantumRegister(1, 'q')\n",
    "c = ClassicalRegister(1, 'c')\n",
    "circuit = QuantumCircuit(q,c)\n",
    "\n",
    "# Define initial_state alpha=1, beta=0 --> state 00\n",
    "initial_state = [1,0]   \n",
    "circuit.initialize(initial_state, 0) # Apply initialisation operation to the 0th qubit\n",
    "\n",
    "# A R-phi rotation 180 degrees\n",
    "circuit.rz(pi,q)\n",
    "\n",
    "# ---- Add extra gates to execute on qubit here----\n",
    "\n",
    "# Add a measurement to the circuit\n",
    "circuit.measure(q,c)\n",
    "\n",
    "# define the simulator\n",
    "simulator = Aer.get_backend('statevector_simulator')\n",
    "\n",
    "# execute the circuit wiht the simulator and get the output state vector\n",
    "job = execute(circuit, simulator).result()\n",
    "state = job.get_statevector()\n",
    "\n",
    "print(\"State of qubit after execution of Rz and X = \" + str(state))\n",
    "\n",
    "#visualize crcuit\n",
    "circuit.draw(output='mpl') \n"
   ]
  },
  {
   "cell_type": "markdown",
   "metadata": {},
   "source": [
    "> Q1 What changed? Can you achieve the same with a different gate(s)? "
   ]
  },
  {
   "cell_type": "markdown",
   "metadata": {},
   "source": [
    "You can also try to play with some other gates:\n",
    "\n",
    "- Rx or Ry rotations by and angle\n",
    "\n",
    "- S-gate (sometimes known as the $\\sqrt Z$, is an R-$\\phi$ with $\\phi=\\pi/2$)\n",
    "\n",
    "- T-gate is a very commonly used gate, is an R-$\\phi$ with $\\phi=\\pi/4$\n",
    "\n",
    "Circuits that have gates that depend on an parameter, eg. the angle, are called parametrized circuits. Parametrized circuits can be used for example to find the optimal solution of a problem. This is normally done by using a hybrid workflow where the optimization is done classically but the outptu is computed in a quanutm computer. The two work in tandem to find the solution to a problem. Examples of these type of algorithms are  the variational quantum eigensolver (VQE) and the quanutm approximate optimization algorithm (QAOA)."
   ]
  },
  {
   "cell_type": "markdown",
   "metadata": {},
   "source": [
    "> Q2 What happens if you apply two consecutive S gates or two consecutive T gates?"
   ]
  },
  {
   "cell_type": "code",
   "execution_count": null,
   "metadata": {},
   "outputs": [],
   "source": []
  }
 ],
 "metadata": {
  "kernelspec": {
   "display_name": "Python 3 (ipykernel)",
   "language": "python",
   "name": "python3"
  },
  "language_info": {
   "codemirror_mode": {
    "name": "ipython",
    "version": 3
   },
   "file_extension": ".py",
   "mimetype": "text/x-python",
   "name": "python",
   "nbconvert_exporter": "python",
   "pygments_lexer": "ipython3",
   "version": "3.10.3"
  }
 },
 "nbformat": 4,
 "nbformat_minor": 2
}
