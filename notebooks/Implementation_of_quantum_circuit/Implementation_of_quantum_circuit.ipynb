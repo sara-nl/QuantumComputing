{
 "cells": [
  {
   "cell_type": "markdown",
   "metadata": {},
   "source": [
    "[Index](../Index.ipynb) - [Prev](../Index.ipynb) - [Next](Qiskit_basics.ipynb)"
   ]
  },
  {
   "cell_type": "markdown",
   "metadata": {},
   "source": [
    "## Implementation of a quantum circuit <a id ='basiccircuits'></a>\n",
    "\n",
    "* [Qiskit basics](Qiskit_basics.ipynb)\n",
    "* [Rotations](Rotation_gates.ipynb)\n",
    "* [Hadamards](Hadamard_gate.ipynb)\n",
    "* [Measurments](Measurements.ipynb)\n",
    "* [Multiqubit gates](Multiqubit_gates/Multiqubit_gates.ipynb)\n",
    "    * [CNOT](Multiqubit_gates/CNOT_gate.ipynb)\n",
    "    * [SWAP](Multiqubit_gates/SWAP_gate.ipynb)"
   ]
  }
 ],
 "metadata": {
  "kernelspec": {
   "display_name": "Python 3 (ipykernel)",
   "language": "python",
   "name": "python3"
  },
  "language_info": {
   "codemirror_mode": {
    "name": "ipython",
    "version": 3
   },
   "file_extension": ".py",
   "mimetype": "text/x-python",
   "name": "python",
   "nbconvert_exporter": "python",
   "pygments_lexer": "ipython3",
   "version": "3.10.3"
  }
 },
 "nbformat": 4,
 "nbformat_minor": 2
}
