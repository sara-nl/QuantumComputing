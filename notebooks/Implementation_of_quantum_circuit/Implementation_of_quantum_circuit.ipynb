{
 "cells": [
  {
   "cell_type": "markdown",
   "metadata": {},
   "source": [
    "[Index](../Index.ipynb) - [Prev](../Index.ipynb) - [Next](Qiskit_basics.ipynb)"
   ]
  },
  {
   "cell_type": "markdown",
   "metadata": {},
   "source": [
    "## Implementation of a quantum circuit <a id ='basiccircuits'></a>\n",
    "\n",
    "* [Qiskit basics](Qiskit_basics.ipynb)\n",
    "* [Hadamards](Hadamards.ipynb)\n",
    "* [Measurments](Measurements.ipynb)\n",
    "* [Multiqubit gates](Multiqubit_gates/Multiqubit_gates.ipynb)\n",
    "    * [CNOT](Multiqubit_gates/CNOT_gate.ipynb)\n",
    "    * [SWAP](Multiqubit_gates/SWAP_gate.ipynb)"
   ]
  }
 ],
 "metadata": {
  "kernelspec": {
   "display_name": "Python 3",
   "language": "python",
   "name": "python3"
  },
  "language_info": {
   "name": "plaintext"
  },
  "orig_nbformat": 4
 },
 "nbformat": 4,
 "nbformat_minor": 2
}
