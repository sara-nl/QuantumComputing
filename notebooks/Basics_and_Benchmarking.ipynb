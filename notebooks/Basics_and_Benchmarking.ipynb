{
 "cells": [
  {
   "cell_type": "markdown",
   "metadata": {},
   "source": [
    "# Quantum computing basics and Benchmarking Random Circuits"
   ]
  },
  {
   "cell_type": "markdown",
   "metadata": {},
   "source": [
    "In this tutorial we will go through the basics of quantum computing and explain some of the problems encountered when trying to define benchmarks for quantum software and we will have a look at some performance metrics of two well quantum python libraries: Qiskit (Abraham et al., 2019(https://qiskit.org/)) and Qulacs (“Qulacs”, 2018(https://github.com/qulacs/qulacs)). \n",
    "\n",
    "\n",
    "## Contents \n",
    "\n",
    "1. [Introduction](#introduction)\n",
    "\n",
    "    1.1. [Quantum computing](#quantumcomp)\n",
    "    \n",
    "    1.2. [Benchmarking quantum simulators](#quantumsim)\n",
    "    \n",
    "    1.3. [Random Circuits](#randomcircuits)\n",
    "    \n",
    "    1.4. [Qiskit and Qulacs](#qulacs)\n",
    "    \n",
    "2. [Running on LISA](#lisa)    \n",
    "\n",
    "3. [Qubits, basic gates and circuits](#basiccircuits)\n",
    "\n",
    "    3.1. [Hadamards](#hadamards)\n",
    "    \n",
    "    3.2. [Measurments](#measurements)\n",
    "    \n",
    "    3.3. [Multiplequbit gates](#multiplequbits)    \n",
    "    \n",
    "      3.3.1 [CNOT](#cnot)       \n",
    "    \n",
    "      3.3.2 [SWAP](#swap)\n",
    "    \n",
    "      3.3.3 [Toffoli](#toffoli)\n",
    "          \n",
    "4. [Circuits](#circuits)\n",
    "\n",
    "5. [Benchmarking gates: Hadamard,CNOT,T-gate](#timing)\n",
    "   \n",
    "\n",
    "6. [Random circuits](#RC)\n",
    "        \n",
    "    3.1. [Implementation 1](#RC1)\n",
    "    \n",
    "    3.2. [Implmentation 2](#RC2)\n",
    "    \n",
    "    3.3. [Implmentation 3](#RC3)\n",
    "    \n",
    "6. [Conclusion](#conclusion)"
   ]
  },
  {
   "cell_type": "markdown",
   "metadata": {},
   "source": [
    "## 1. Introduction <a id='introduction'></a>\n",
    "\n",
    "### 1.1. Quantum computing <a id='quantumcomp'></a>\n",
    "In recent years quantum computing has become a buzzword and the possibility of a fully working quantum computer is becoming closer and closer. \n",
    "\n",
    "Both, quantum knowledge and technology have grown exponentially fast, even faster than classical computing in its early years, but still developing a non-trivial size quantum computer is not straight forward. We will probably have to wait some more years to witness their full power and applicability (although IBM has announced their roadmap with 1000+ qubits by the end of 2023!. \n",
    "\n",
    "The quantum computers available nowadays (eg. IBM, Google, QuTech, etc.) are what we call \"Noisy Intermediate-Scale Quantum devices\" (NISQ). They are quantum computers capable of executing quantum algorithms and calculations but where the sources of errors limits how reliable they are. \n",
    "\n",
    "NISQ devices can be benchmarked using the \"quantum volume\" (introduced by IBM), which takes into account not only the number of qubits (called the width of a circuit) but also the number of operations (called the depth of a circuit) a quantum computer can handle. The depth of a circuit, is influenced by things such as the number of qubits, how qubits are interconnected, gate and measurement errors, device cross talk, circuit compiler efficiency, and more.\n",
    "Therefore, it is a good indicator of the relative complexity of problems that can be solved by a quantum computer. The larger the number, the more powerful the quantum computer is  and the higher the potential for exploring solutions to real world problems across industry, government, and research is. More info can be found at https://medium.com/qiskit/what-is-quantum-volume-anyway-a4dff801c36f\n",
    "\n",
    "Classical simulation of quantum computation is vital for the study of new algorithms and architectures. As experimental researchers move closer to realising quantum computers of sufficient complexity to be useful, their work must be guided by an understanding of what tasks we can hope to perform. This in turn means we must explore an algorithm’s scaling, its robustness versus errors and imperfections, and the relevance of limitations of the underlying hardware. Because of these requirements simulation tools are needed on many different classical architectures; while a workstation may be sufficient for the initial stages of examining an algorithm, further study of scaling and robustness may require more powerful computational resources. Flexible, multi-platform supporting simulators of quantum computers are therefore essential. Quantum simulators, allow quantum algorithm designers to simulate the execution of their quantum circuits on a quantum computer. The simulator defines a low-level quantum assembly language namely Quantum Code which allows the users to describe their circuits in a simple textual source code file. The source code file is then used as the input of the simulator which executes its content.\n",
    "\n",
    "Further it is important these simulations are very efficient since they are often repeated many times, for example to study the influence of many parameters, or the behaviour of circuits under noise. But it is expensive to exactly simulate a quantum system using a classical system, since a high-dimensional complex vector must be maintained with high fidelity. Both the memory requirements, and the time required to simulate an elementary circuit operation, grow exponentially with the number of qubits. To simulate quantum computers even of the size already experimentally realised, it is necessary that a classical simulator take full advantage of the performance optimisations possible of high performance classical computing.\n",
    "\n"
   ]
  },
  {
   "cell_type": "markdown",
   "metadata": {},
   "source": [
    "## Basics on Quantum information\n",
    "Information in a quantum computer is stored in qubits.\n",
    "A qubit is a two state system with quantum properties, this means that as opposed to a bit that can only be in state 0 or 1 (on or off), a state of a qubit (denoted $|\\psi>$) can be in a combination (superposition) of the two states (called basis states),\n",
    "\n",
    "$|\\psi> = \\alpha|0> + \\beta|1>$\n",
    "\n",
    "The qubit is not 0 or 1 (on or off), but a little bit of both (like a dimmy light). How on or how off depends on the coefficients $\\alpha$ and $\\beta$ (called probability amplitudes).\n",
    "\n",
    "Before we measure a qubit there are two possible outcomes: 0 or 1 (the basis states of the measurment), but when the qubit is measured we \"force\" it to collapse into one of them. For the example above, the probability of measuring one state or the other (|0> or |1>) depends on how they contribute to the total state in the first place: depends on the values of $\\alpha$ and $\\beta$. The larger the magnitud of the probability amplitud the more likely it is we measure the associated state (as a side note, this values can also be negative!). The probability of actually measuring state |0> is given by $|\\alpha|^2$ and the probability of measuring state |1> is $|\\beta|^2$. Since the total probability of measuring one state has to be 1.0, we also know that $|\\alpha|^2 + |\\beta|^2 = 1$. \n",
    "\n",
    "Based on the above, it is not surprising that as opposed to a classical bit which can be described by only one number: 0 or 1, a qubit needs two (complex) numbers to be fully described: the probability amplitudes. A qubit can be fully described as a 2D vector:\n",
    "\n",
    "$\\begin{bmatrix}\n",
    "           \\alpha \\\\\n",
    "           \\beta \\\\\n",
    "           \\end{bmatrix}$\n",
    "\n",
    "In general however, a quantum computer does not consist of one qubit but many qubits interacting among them (how and which of them can interact depends on the topology of the actual hardware). The state of a quantum computer ($|\\psi>$) is therefore a combination of these qubit states and hence a combination of the basis states of the n-qubit system. \n",
    "\n",
    "The number of basis states of a system increases with the number of qubits as $2^n$ (n=number qubits) and hence the state of the quantum computer with n-qubits is fully described by a vector with $2^n$ entries (the probability amplitudes of the basis states of all qubits).\n",
    "\n",
    "For example, for a system of 2-qubits each qubit can be in state |0> or |1>, this means that a 2-qubit system can  be measured in states |00>, |01>, |10> or |11> (so all possible permutations). These are the basis states. Before measuring, the 2-qubit system can be any combination of this basis states:\n",
    "\n",
    "$|\\psi> = \\alpha|00> + \\beta|01> +\\gamma|10> +\\delta|11>$ \n",
    "\n",
    "and can be fully represented by the vector $[\\alpha, \\beta,\\gamma, \\delta]^T$\n",
    "\n",
    "Modifying a quanutm state means modifiying the probability amplitudes that describe it (the entries in the above vector). Measurments are a type of operation that do this. They \"turn\" all probability amplitudes to zero, except for one, which will have a value of 1.0 (basically they project the quantum state into one of the basis states). \n",
    "There are however many other operations that can modify the entries of such a \"quantum state\" vector and hence the quantum state of an n-qubit system. \n",
    "These operations (called quantum gates) can be used to manipulate the quantum state into a given outcome, hence we can use them to create algorithms. A quantum algorithm is just a sequence of gates with a given prupose. \n",
    "A quantum gate can be represented as $2^n$x$2^n$ unitary matrix (n the number of qubits in the system). The application of quantum gates to qubits corresponds to the multiplication of the n-qubit quantum state vector with the quantum gate matrix and results in a modification of the $2^n$ of the quantum state vector. \n",
    "\n",
    "Some gates are comparable to classical gates. For example the classical NOT gate can be compared to the quantum X gate. In classical computing the NOT-gate converts a 0 into a 1 and a 1 into a 0. The quantum X-gate swaps the probability amplitudes of both states and converts $|\\psi> = \\alpha |0> + \\beta|1>$ into $|\\psi>= \\beta|0> + \\alpha|0>$, which basically means the probability of measuring 0 or 1 is swap when we apply the X gate.\n",
    "For more examples of quantum gates we refer the reader to https://en.wikipedia.org/wiki/Quantum_logic_gate. For a more indepth knowledge of quantum gates we recommend for example: https://arxiv.org/pdf/1110.2998.pdf. How these gates are physically implemented depends on the type of qubits: trapped ions, NV centers, photons, etc. \n",
    "\n",
    "Most quantum gates act only in a small number of qubits (mostly due to experimental limitations).This is not a limitation as there exist sets of one- and two-qubit quantum gates which are universal for quantum computation: any operation possible on a quantum computer can be reduced to this set of gates. Interestingly, this also means that most gates can be computationally represented by relatively sparse matrices. \n",
    "\n",
    "One classification of quantum gates is the Clifford vs non-Clifford gates(https://en.wikipedia.org/wiki/Clifford_gates). The Clifford gates are important, because a universal gate set consists of all the Clifford gates plus one non-Clifford gate. The Clifford-gates include the Pauli-gates (I, X, Y and Z), the Hadamard gate, the S gate and the controlled-X gate. The non-Clifford gate group is an infinite group with all the other quantum gates. \n",
    "\n",
    "Clifford gates are interesting for quantum simulators because they can be simulated in polynomial time, while non-Clifford gates are exponentially hard to simulate on a classical computers (Gottesman-Knill theorem). For more information about the Gottesman-Knill theorem, reading \"Improved Simulation of Stabilizer Circuits\" by Scott Aaronson and Daniel Gottesman (Aaronson and Gottesman, 2004) is recommended. Inn practice this allows one to simulate circuits with  thousands  of  qubits.   It  also  means  that  a quantum computer will need to use gates outside of theClifford  group  in  order  to  achieve  useful  speedups  overclassical computation.  The full power of quantum computation can be recovered by adding a single non-Cliffordgate to the Clifford group. \n",
    "\n",
    "\n",
    "### 1.2. Benchmarking quantum simulators<a id='quantumsim'></a>\n",
    "\n",
    "As mentioned before, a quantum simulator is a program that simulates how a quantum computer works; the exact calculation of the effects of every single gate on the qubits. Quantum simulators are used to increase and facilitate the development of quantum algorithms, their testing and debugging while non-trivial size quantum computer become available. They also allow for hardware-software co-design (Haner et al. https://arxiv.org/abs/1604.06460).\n",
    "The need of quantum simulators has lead to the development of many different frameworks and libraries (for a reasonably complete list we refer the reader to https://www.quantiki.org/wiki/list-qc-simulators), which rises the question: **which one should we use for a given problem?** Beyond understanding the different capabilitites of the softwares and libraries it is important to understand their functionality and performance in order to chose the most appropiate one for a given application/problem.\n",
    "\n",
    "Quantum simulators can differ from one an other on how the quantum state is stored, what gates are implemented, how measurments are performed, type of error sources that can be included, etc. These differences make it difficult to define a benchmark. \n",
    "\n",
    "In table below we present some of the differences among some libraries. If you want to look more into these different libraries Quantum Open Source Foundation https://qosf.org/ has a more complete list of them. \n",
    "\n",
    "|Library | explanation | link|\n",
    "| :------ | :------------- | :---- |\n",
    "| Cirq | Cirq is a Python library for writing, manipulating, and optimizing quantum circuits and running them against quantum computers and simulators. | https://github.com/quantumlib/Cirq | \n",
    "| PennyLane | A cross-platform Python library for quantum machine learning, automatic differentiation, and optimization of hybrid quantum-classical computations | https://pennylane.ai/ |\n",
    "| ProjectQ | Powerful open source software for quantum computing | https://projectq.ch/ |\n",
    "| QuEST | The Quantum Exact Simulation Toolkit is a high performance simulator of universal quantum circuits, state-vectors and density matrices. | https://github.com/quest-kit/QuEST |\n",
    "| Quantum++ | Quantum++ is a modern C++11 general purpose quantum computing library, composed solely of template header files. | https://github.com/softwareQinc/qpp |\n",
    "| Quantum Inspire | Run your own quantum algorithms on one of our simulators or hardware backends and experience the possibilities of quantum computing. | https://www.quantum-inspire.com/ |\n",
    "| Qiskit | Qiskit is an open-source framework for working with quantum computers at the level of circuits, pulses, and algorithms. | https://qiskit.org/ |\n",
    "| Qulacs | Qulacs is a python/C++ library for fast simulation of large, noisy, or parametric quantum circuits. | https://github.com/qulacs/qulacs |\n",
    "| Strawberry Fields | Strawberry Fields is a full-stack Python library for designing, simulating, and optimizing continuous variable quantum optical circuits. | https://github.com/xanaduai/strawberryfields |\n",
    "\n",
    "\n",
    "One of the main issues with quantum simulators are their limitations: they are normally memory bound and network bandwith limited. Trying to classically simulate a quantum system is very expensive... which is why we want quantum computers!\n",
    "\n",
    "As mentioned before, the size of the quantum states and quantum gates scales exponentially with the number of qubits. This also implies that the time and memory it takes to create them and operate with them in a classical computer in general scales exponentially, which of course limits the amount of qubits we can currently simulate in a computer. With this in mind, it is interesting to compare how the execution time and memory requirements scale with the number of qubits and depth (number of operations) of the circuit for the different quantum simulators, so basically how complex can the algorithms we want to simulate be. \n",
    "\n",
    "In previous papers (Jones et al., 2018) random circuits have been used to benchmark the performance of quantum simulators. Here, we will follow the same approach. \n",
    "\n",
    "\n",
    "\n",
    "### 1.3. Random circuits<a id='randomcircuits'></a>\n",
    "\n",
    "As mentioned before, given a quantum system of n-qubits, there is a continuous set of possible states: all of the different combination of the $2n$ basis states (different values of the probability amplitudes). \n",
    "The capacity of exploring and operating in all states is what quantum computers are all about. Classically this could take many many computational hours, months, even years, but using the quantum properties of the system this can be done very efficiently. An interesting question however is: how can we check we are exploring all states? One way of assesing this is by randomly producing n-qubit states and verifying that they are picked uniformly. \n",
    "This task although possible is also not straight forward for a quantum computer, the reason behind this is that most of the possible states are what we call \"entangled states\". Entangled states are not only difficult to create (assuming the standard set of single qubit rotations and two or three qubits entangling gates) but also highly unstable: they tend to decohere quickly due to interactions with an outside environment, which essentially drives the qubits to an unentangled states (like all qubits |0>). \n",
    "\n",
    "This can however be done by running random circuits of sufficient circuit depth. Random quantum circuits are circuits that can generate quantum random states: when fed a constant input, they produce a random quantum state in each execution. Executing it many times yields a sample of quantum states that contains fresh randomness inherent to the quantum evaluation. So, how do we generate quantum random states? As in the classical case, we need to randomly evolve the input quantum state. In the case of quantum, this needs to be understood in terms of random unitary transformations: we need to contruct random unitary transformation. The simplest way of achieving this is by selecting single and two-qubit gates from a universal gate set. \n",
    "\n",
    "\n",
    "Sampling the output distribution of a random  quantum circuit is a hard computational task and hence not possible with a classical computer. The randomness of the process ensures that there are no nice properties that could be exploited by a classical simulation. So the task of simulating arbitrary random circuits will require a full simulation of the n-qubits, and therefore the required classical resources will scale exponentially with $n$. \n",
    "In short, the output distribution of strings cannot be simulated in a short amount of time by a classical computer. This is basically what Google proved in their 2019 experiment of \"quantum supremacy\" using 53 qubits.\n",
    "\n",
    "\n",
    "In this tutorial we will implement and test different random circuits on two libraries: Qiskit and Qulacs and we will analyze their performance and properties.\n",
    "\n",
    "\n",
    "\n",
    "\n",
    "\n"
   ]
  },
  {
   "cell_type": "markdown",
   "metadata": {
    "pycharm": {
     "name": "#%% md\n"
    }
   },
   "source": [
    "###  1.4. Qiskit and Qulacs <a id='qulacs'></a>\n",
    "\n",
    "Before going into the actual code, below some summary properties of these simulators (for more info we refer the reader to the documentation pages of the software https://qiskit.org/documentation/, http://docs.qulacs.org/en/latest/guide/2.0_python_advanced.html#).\n",
    "\n",
    "#### Qiskit\n",
    "* The qubits are stored in a QuantumRegister and the measurement of the qubits are stored in a \"ClassicalRegister\". \n",
    "* The QuantumRegister and ClassicalRegister make the QuantumCircuit.\n",
    "* If we pass the entire quantum and classical registers as arguments to measure, the function will by default make a total measurement on the system, and store each qubit’s measurement results to the corresponding index in the ClassicalRegister: classical register numbers are backwards (based on the bit string  as usually defined in classical computer such that the LSB (least significant bit) is the right-most index)\n",
    "* The QuantumCircuit object is just a list of instructions, which aren’t actually carried out until we run it on some simulator (backend)\n",
    "* To execute the circuit on a certain backend you have to execute the whole circuit with that backend. That creates an object that handles a job, from the job you can extract the result.\n",
    "* In the case of the 'qasm_simulator' backend the output is the probability of a given measurment after 1024 circuit run\n",
    "* In the case of the 'statevector_simulator' backend, the circuit is executed a single shot and it returns the final quantum statevector of the simulation (wavefunction, 2n amplitudes) after evolving the zero state through the circuit\n",
    "* Both these backends are still classical (not calling any quanutm devices)\n",
    "* Qiskit Uses QASM simulator as quantum assembly\n",
    "* N-qubit Clifford operator are stored as a length 2N StabilizerTable \n",
    "* You can get intermediate states from a simulator by applying a snapshot(slot) instruction at various spots in the circuit\n",
    "* gates are represented as np.arrays\n",
    "* quantum registers and classical registers are a QASM string register\n"
   ]
  },
  {
   "cell_type": "markdown",
   "metadata": {},
   "source": [
    "#### Qulacs \n",
    "\n",
    "It is not a well known library, but it has some great features that are useful for researchers. One of the most important features are that it can run on a GPU for faster simulations, in this notebook we will only use qulacs on a CPU. It also claims to compress circuits to simulate faster than other libraries. Nowadays there is also a Cirq interface for Qulacs (https://github.com/qulacs/cirq-qulacs).\n",
    "\n",
    "The core simulation program is written in C/C++ associated with a lightweight python interface.\n",
    "\n",
    "Some details:\n",
    "* Quantum states allocates and manages 2n complex arrays on the CPU/GPU with the precision of complex128.\n",
    "* Necessary memory is secured at the time of instance creation and released when the instance is destroyed\n",
    "* All the gates are stored in a QuantumCircuit of a certain amount of qubits. \n",
    "* Quantum states have classical registers as arrays of integers with variable length. The classical register is used to write the result of the Instrument operation or to describe a gate that executes conditions as the result of the classical register. \n",
    "* Special gates are those that have a pre-specified gate matrix and can only perform limited deformations on quantum gates. For example, Pauli gate, rotation Pauli gate, projection measurement, etc. are supported. The advantage of a special gate is that the update function of the quantum state is more efficient than a general gate with limited properties. \n",
    "* Gates can be defined as dense or sparse matrices\n",
    "* With a lot of qubits you will get an out of memory error, because Qulacs is not memory efficient. \n",
    "* You need a separate QuantumState and this state has to be set to the one or zero state for measurement.\n",
    "* QASM is used as quantum assembly language.\n",
    "* To execute the circuit on the quantum state you have to update that state with the circuit.\n",
    "* It measures a vector of the quantum state.\n",
    "* By combining quantum gates into a single quantum gate, the number of quantum gates can be reduced and the time required for numerical calculations can be reduced. (Of course, if the number of target qubits increases, or if a quantum gate with a dedicated function is synthesized into a quantum gate without a dedicated function, the total calculation time may not decrease. It depends.)\n"
   ]
  },
  {
   "cell_type": "markdown",
   "metadata": {},
   "source": [
    "\n",
    "Every library applies gates differently, Qulacs puts the gates in a queue that will be executed after calling all the gates, while Qiskit applies the gates immediately and measures the qubit at the end.\n",
    "\n",
    "Every library also differs in the gate set available, in the table below we present this gates:\n",
    "\n",
    "\n",
    "| Quantum simulators | Language | Can run on | Single-Qubit Gates | Multiqubit Gates|\n",
    "| :----------------- |:---------| :------------- | ------------------ | --------------- |\n",
    "| Qiskit | Python | CPU | X, Y, Z, H, S, S†, T, T†, Rx, Ry, Rz, U1, U2, U3 | CNOT, CZ, CY, SWAP, Toffoli, CSWAP \n",
    "| Qulacs | Python/C++ | CPU or GPU | I, X, Y, Z, H, S, S†, T, T†,sqrtX, sqrtX†, sqrtY, sqrtY†, P0, P1, RX, RY, RZ, U1, U2, U3 | CNOT, CZ, SWAP |\n"
   ]
  },
  {
   "cell_type": "markdown",
   "metadata": {},
   "source": [
    "## 2. Running on LISA  <a id='lisa'></a>\n",
    "Requires loading some system modules"
   ]
  },
  {
   "cell_type": "code",
   "execution_count": null,
   "metadata": {},
   "outputs": [],
   "source": [
    "#!module purge\n",
    "#import IPython\n",
    "\n",
    "#IPython.Application.instance().kernel.do_shutdown(True) #automatically restarts kernel\n",
    "\n",
    "#!module load 2019 cuDNN/7.6.5.32-CUDA-10.1.243 Python/3.7.5-foss-2019b\n",
    "#!module list"
   ]
  },
  {
   "cell_type": "markdown",
   "metadata": {},
   "source": [
    "Then we can create a virualenvironment so that there is no overlap with other user or system space packages"
   ]
  },
  {
   "cell_type": "code",
   "execution_count": null,
   "metadata": {},
   "outputs": [],
   "source": [
    "#![ ! -d \"quantum_env\" ] && virtualenv quantum_env; source quantum_env/bin/activate"
   ]
  },
  {
   "cell_type": "markdown",
   "metadata": {},
   "source": [
    "Finally we activate this for the current notebook"
   ]
  },
  {
   "cell_type": "code",
   "execution_count": null,
   "metadata": {},
   "outputs": [],
   "source": [
    "#!ipython kernel install --user --name=quantum_env"
   ]
  },
  {
   "cell_type": "code",
   "execution_count": null,
   "metadata": {},
   "outputs": [],
   "source": [
    "#!pip install install qiskit qulacs-gpu"
   ]
  },
  {
   "cell_type": "code",
   "execution_count": null,
   "metadata": {},
   "outputs": [],
   "source": [
    "#Optional for matrix and vector visualization (check with Damian)\n",
    "#pip install git+https://github.com/qiskit-community/qiskit-textbook.git#subdirectory=qiskit-textbook-src"
   ]
  },
  {
   "cell_type": "code",
   "execution_count": null,
   "metadata": {},
   "outputs": [],
   "source": [
    "#!which pip"
   ]
  },
  {
   "cell_type": "code",
   "execution_count": 2,
   "metadata": {},
   "outputs": [],
   "source": [
    "from qiskit import QuantumCircuit, QuantumRegister, ClassicalRegister, execute, Aer, IBMQ\n",
    "\n",
    "# imports to plot the graphs\n",
    "import matplotlib.pyplot as plt\n",
    "from mpl_toolkits.axes_grid1.inset_locator import mark_inset, inset_axes\n",
    "from qiskit.visualization import plot_histogram\n",
    "import numpy as np\n",
    "\n",
    "\n"
   ]
  },
  {
   "cell_type": "markdown",
   "metadata": {
    "pycharm": {
     "name": "#%% md\n"
    }
   },
   "source": [
    "## 3. Qubits, basic gates and circuits  <a id ='basiccircuits'></a>\n"
   ]
  },
  {
   "cell_type": "markdown",
   "metadata": {},
   "source": [
    "\n",
    "Let's start by first just setting up a circuit:  \n",
    "1. We define the quantum register of one qubit \n",
    "2. We define the classical register (to store the measurments of this qubit). \n",
    "3. We create (instanciate) a quantum circuit\n",
    "4. We measure the qubit\n",
    "\n",
    "This is followed by 1) the execution of the circuit, 2) the analysis of the results and 3) the plotting of the results\n"
   ]
  },
  {
   "cell_type": "code",
   "execution_count": 3,
   "metadata": {},
   "outputs": [
    {
     "name": "stdout",
     "output_type": "stream",
     "text": [
      "State of qubit before measurement = [1.+0.j 0.+0.j]\n",
      "State of qubit after measurement = [1.+0.j 0.+0.j]\n"
     ]
    },
    {
     "data": {
      "image/png": "[encoded data removed]",
      "text/plain": [
       "<Figure size 504x360 with 1 Axes>"
      ]
     },
     "execution_count": 3,
     "metadata": {},
     "output_type": "execute_result"
    }
   ],
   "source": [
    "# defining the device \n",
    "q = QuantumRegister(1, 'q')\n",
    "c = ClassicalRegister(1, 'c')\n",
    "\n",
    "circuit = QuantumCircuit(q,c)\n",
    "\n",
    "# check quantum state using the 'state_vector' backend\n",
    "state = execute(circuit, Aer.get_backend('statevector_simulator')).result().get_statevector()\n",
    "print(\"Initial state of qubit = \" + str(state))\n",
    "\n",
    "# measure the circuit\n",
    "circuit.measure(q, c)\n",
    "\n",
    "# execute the circuit using the 'qasm_simulator' backend\n",
    "# qasm_simulator runs the circuit 1024 times and output the measurment (0 or 1 in this case) \n",
    "job = execute(circuit, Aer.get_backend('qasm_simulator')).result()\n",
    "counts = job.get_counts()\n",
    "\n",
    "# check quantum state after measurement using the 'state_vector' backend\n",
    "state = execute(circuit, Aer.get_backend('statevector_simulator')).result().get_statevector()\n",
    "print(\"State of qubit after measurement = \" + str(state))\n",
    "\n",
    "# plot histogram\n",
    "plot_histogram(counts)\n",
    "\n"
   ]
  },
  {
   "cell_type": "markdown",
   "metadata": {},
   "source": [
    "Unless specified differently, qubits are always initialize in the |0> state. Since we have done nothing to the qubit, we expect to always measure the |0> state. \n",
    "The histogram above shows that indeed this is true: in all runs (1024 by default), we measured |0> with a probability of 1.0. Below a scheme of how such a simple circuit looks like:\n"
   ]
  },
  {
   "cell_type": "code",
   "execution_count": null,
   "metadata": {},
   "outputs": [],
   "source": [
    "#Here how the circuit look like:\n",
    "circuit.draw(output='mpl')"
   ]
  },
  {
   "cell_type": "markdown",
   "metadata": {},
   "source": [
    "Now lets add some gates:"
   ]
  },
  {
   "cell_type": "code",
   "execution_count": 10,
   "metadata": {},
   "outputs": [
    {
     "name": "stdout",
     "output_type": "stream",
     "text": [
      "Initial state of qubit = [1.+0.j 0.+0.j]\n",
      "State qubit after X gate = [0.+0.j 1.+0.j]\n",
      "State of qubit after measurement = [0.+0.j 1.+0.j]\n"
     ]
    },
    {
     "data": {
      "image/png": "[encoded data removed]",
      "text/plain": [
       "<Figure size 504x360 with 1 Axes>"
      ]
     },
     "execution_count": 10,
     "metadata": {},
     "output_type": "execute_result"
    }
   ],
   "source": [
    "# defining the device \n",
    "circuit = ()\n",
    "q = QuantumRegister(1, 'q')\n",
    "c = ClassicalRegister(1, 'c')\n",
    "circuit = QuantumCircuit(q, c)\n",
    "\n",
    "state = execute(circuit, Aer.get_backend('statevector_simulator')).result().get_statevector()\n",
    "print(\"Initial state of qubit = \" + str(state))\n",
    "\n",
    "# An X gate flips the qubit\n",
    "circuit.x(q)\n",
    "\n",
    "# ---- Add any extra gates here----\n",
    "\n",
    "# check quantum state using the 'state_vector' backend\n",
    "state = execute(circuit, Aer.get_backend('statevector_simulator')).result().get_statevector()\n",
    "print(\"State qubit after X gate = \" + str(state))\n",
    "\n",
    "circuit.measure(q, c)\n",
    "\n",
    "# execute the circuit\n",
    "job = execute(circuit, Aer.get_backend('qasm_simulator')).result()\n",
    "counts = job.get_counts()\n",
    "# check quantum state after measurement using the 'state_vector' backend\n",
    "state = execute(circuit, Aer.get_backend('statevector_simulator')).result().get_statevector()\n",
    "print(\"State of qubit after measurement = \" + str(state))\n",
    "\n",
    "#plot histogram\n",
    "plot_histogram(counts)"
   ]
  },
  {
   "cell_type": "markdown",
   "metadata": {},
   "source": [
    "#### Q1: What happens if you apply a Z or a Y gate? What about two consecutive X gates?\n",
    "\n",
    "Now lets apply an Rz rotation on our qubit:"
   ]
  },
  {
   "cell_type": "code",
   "execution_count": 9,
   "metadata": {},
   "outputs": [
    {
     "name": "stdout",
     "output_type": "stream",
     "text": [
      "Initial qubit state = [1.+0.j 0.+0.j]\n",
      "State of qubit after Rz = [ 1.+0.j -0.+0.j]\n",
      "State of qubit after measurement = [ 1.+0.j -0.+0.j]\n"
     ]
    },
    {
     "data": {
      "image/png": "[encoded data removed]",
      "text/plain": [
       "<Figure size 504x360 with 1 Axes>"
      ]
     },
     "execution_count": 9,
     "metadata": {},
     "output_type": "execute_result"
    }
   ],
   "source": [
    "from math import pi\n",
    "\n",
    "# defining the device \n",
    "circuit = ()\n",
    "q = QuantumRegister(1, 'q')\n",
    "c = ClassicalRegister(1, 'c')\n",
    "circuit = QuantumCircuit(q, c)\n",
    "\n",
    "# --- Add here any commands to initialize your qubit----\n",
    "\n",
    "# check quantum state using the 'state_vector' backend\n",
    "state = execute(circuit, Aer.get_backend('statevector_simulator')).result().get_statevector()\n",
    "print(\"Initial qubit state = \" + str(state))\n",
    "\n",
    "# A R-phi rotation 180 degrees\n",
    "circuit.rz(pi,q)\n",
    "\n",
    "# check quantum state using the 'state_vector' backend\n",
    "state = execute(circuit, Aer.get_backend('statevector_simulator')).result().get_statevector()\n",
    "print(\"State of qubit after Rz = \" + str(state))\n",
    "\n",
    "circuit.measure(q, c)\n",
    "\n",
    "# execute the circuit\n",
    "job = execute(circuit, Aer.get_backend('qasm_simulator')).result()\n",
    "counts = job.get_counts()\n",
    "\n",
    "# check quantum state after measurement using the 'state_vector' backend\n",
    "state = execute(circuit, Aer.get_backend('statevector_simulator')).result().get_statevector()\n",
    "print(\"State of qubit after measurement = \" + str(state))\n",
    "\n",
    "#plot histogram\n",
    "plot_histogram(counts)"
   ]
  },
  {
   "cell_type": "markdown",
   "metadata": {},
   "source": [
    "#### Q2 What changed? Which other gate does the same?\n",
    "\n",
    "#### Q3 What happens if you apply Rz to a qubit in intial state |1>? How do you \"initialize it in the |1> state?\n",
    "\n",
    "One way is to do this using the initialize command below, but you can also achieve this with a gate.\n"
   ]
  },
  {
   "cell_type": "code",
   "execution_count": null,
   "metadata": {},
   "outputs": [],
   "source": [
    "#initial_state = [0.+0.j,1+0.j]  #two entries due to complex number c = a + jb\n",
    "#circuit.initialize(initial_state, 0)"
   ]
  },
  {
   "cell_type": "markdown",
   "metadata": {},
   "source": [
    "You can also try to play with some other gates:\n",
    "\n",
    "- Rx or Ry rotatiosn by and angle\n",
    "\n",
    "- S-gate (sometimes known as the $\\sqrt Z$, is an R-$\\phi$ with $\\phi=\\pi/2$). Not its own inverse \n",
    "\n",
    "- T-gate is a very commonly used gate, is an R-$\\phi$ with $\\phi=\\pi/4$. Not its own inverse\n",
    "\n",
    "Gates that depend on an angle are very much used in parametrized circuits, for example in optimizations. The angles of the gates are the parameters we try to optimize for a given outcome. In general the optimization step is done using a classical routine and the classical and quanutm circuti work in \"tandem\" to achieve this.\n"
   ]
  },
  {
   "cell_type": "markdown",
   "metadata": {},
   "source": [
    "#### Q4 What happens if you apply two consecutive S gates or two consecutive T gates?"
   ]
  },
  {
   "cell_type": "markdown",
   "metadata": {},
   "source": [
    "### 3.1. Hadamards <a id='hadamards'></a>\n",
    "\n",
    "The Hadamard gate is probably the most important single-qubit gates in quantum circuits and therefore it deserves an entire section."
   ]
  },
  {
   "cell_type": "code",
   "execution_count": 15,
   "metadata": {
    "scrolled": true
   },
   "outputs": [
    {
     "name": "stdout",
     "output_type": "stream",
     "text": [
      "State of qubit after H gate = [0.70710678+0.j 0.70710678+0.j]\n",
      "State of qubit after measurement = [1.+0.j 0.+0.j]\n"
     ]
    },
    {
     "data": {
      "image/png": "[encoded data removed]",
      "text/plain": [
       "<Figure size 504x360 with 1 Axes>"
      ]
     },
     "execution_count": 15,
     "metadata": {},
     "output_type": "execute_result"
    }
   ],
   "source": [
    "# defining the device \n",
    "circuit = ()\n",
    "q = QuantumRegister(1, 'q')\n",
    "c = ClassicalRegister(1, 'c')\n",
    "circuitH = QuantumCircuit(q, c)\n",
    "\n",
    "# A hadamard operation and measurement\n",
    "#circuitH.h(q)\n",
    "\n",
    "# check quantum state using the 'state_vector' backend\n",
    "state = execute(circuitH, Aer.get_backend('statevector_simulator')).result().get_statevector()\n",
    "print(\"State of qubit after H gate = \" + str(state))\n",
    "\n",
    "circuitH.measure(q, c)\n",
    "\n",
    "state = execute(circuitH, Aer.get_backend('statevector_simulator')).result().get_statevector()\n",
    "print(\"State of qubit after measurement = \" + str(state))\n",
    "\n",
    "# execute the circuit\n",
    "job = execute(circuitH, Aer.get_backend('qasm_simulator')).result()\n",
    "\n",
    "# count how many times a given state (0 or 1) was measured\n",
    "counts = job.get_counts()\n",
    "\n",
    "#plot histogram\n",
    "plot_histogram(counts)"
   ]
  },
  {
   "cell_type": "code",
   "execution_count": null,
   "metadata": {},
   "outputs": [],
   "source": [
    "#To visualize how the circuit looks like uncomment the line below:\n",
    "#circuitH.draw(output='mpl')"
   ]
  },
  {
   "cell_type": "markdown",
   "metadata": {},
   "source": [
    "As seen above, the probability of measuring $|0>$ or $|1>$ is now more or less evenly distributed. The Hadamard gate takes the qubit initialized at |0> and creates a superposition of the basis states. By doing so, it \"distributes\" the probability among the basis states. Once measured however, a qubit collapses to either |0> or |1>."
   ]
  },
  {
   "cell_type": "markdown",
   "metadata": {},
   "source": [
    "#### Q5 Can you also set a system in a superposition state with other gates? Hint you need a rotation and a Pauli\n",
    "#### Q6 What is the effect of applying HXH? or HZH?"
   ]
  },
  {
   "cell_type": "markdown",
   "metadata": {},
   "source": [
    "Many quantum gates can be expressed as a composition of other gates, hence not all gates are needed in a quantum computer. The minimum set of gates needed to represent all operations is called a Universal gate set or in other words any set of gates to which any operation possible on a quantum computer can be reduced. One example of a universal set is  {H, Rz, CNOT} (we will explore the last one in a bit).\n",
    "\n",
    "This is similar with classical computer, where a (classical) gate set is called universal if, by stringing together enough gates from the set, you canexpress any Boolean function on any number of bits.\n",
    "\n",
    "As a side note, all single gates can be written in a general unitary form $U3(\\theta, \\phi, \\lambda)$. Before running a circuit on a real quantum hardware, all single-qubit operations are compiled down to this form. \n",
    "For this reason they are sometimes called the physical gates."
   ]
  },
  {
   "cell_type": "markdown",
   "metadata": {},
   "source": [
    "### 3. 2 Measurments <a id='measurements'></a>\n",
    "So far, all of our measurments are done in the Z-basis, but there is nothing intrinsically special about it.\n",
    "We can \"create\" our own measurments in any basis.\n",
    "\n",
    "In the quick exercises above, we saw you could create an X-gate by sandwiching our Z-gate between two H-gates:\n",
    "X=HZH. Starting in the Z-basis, the H-gate switches our qubit to the X-basis, the Z-gate peforms a NOT in the X-basis, and the final H-gate returns our qubit to the Z-basis.\n",
    "\n",
    "Following the same logic, we can creat a measurment in the X-basis (or any other basis) by sandwiching our Z-measurement between two H-gates."
   ]
  },
  {
   "cell_type": "code",
   "execution_count": null,
   "metadata": {},
   "outputs": [],
   "source": [
    "def x_measurement(qc,qubit,cbit):\n",
    "    \"\"\"Measure 'qubit' in the X-basis, and store the result in 'cbit'\"\"\"\n",
    "    qc.h(qubit)\n",
    "    qc.measure(qubit, cbit)\n",
    "    qc.h(qubit)\n",
    "    return qc\n",
    "\n",
    "def y_measurement(qc,qubit,cbit):\n",
    "    \"\"\"Measure 'qubit' in the Y-basis, and store the result in 'cbit'\"\"\"\n",
    "    qc.s(qubit)\n",
    "    qc.h(qubit)\n",
    "    qc.measure(qubit, cbit)\n",
    "    qc.h(qubit)\n",
    "    qc.sdg(qubit)\n",
    "    return qc\n",
    "\n",
    "\n",
    "# Initialise our qubit and measure it\n",
    "circuit = ()\n",
    "q = QuantumRegister(1, 'q')\n",
    "c = ClassicalRegister(1, 'c')\n",
    "circuitM = QuantumCircuit(q, c)\n",
    "\n",
    "# check quantum state using the 'state_vector' backend\n",
    "state = execute(circuitM, Aer.get_backend('statevector_simulator')).result().get_statevector()\n",
    "print(\"State of qubit before measurment = \" + str(state))\n",
    "\n",
    "# Z measurement\n",
    "#circuitM.measure(q, c)\n",
    "# X measurment\n",
    "#x_measurement(circuitM, 0, 0)\n",
    "# Y measurment\n",
    "y_measurement(circuitM, 0, 0)\n",
    "\n",
    "# execute the circuit\n",
    "job = execute(circuitM, Aer.get_backend('qasm_simulator')).result()\n",
    "\n",
    "# check quantum state using the 'state_vector' backend\n",
    "state = execute(circuitM, Aer.get_backend('statevector_simulator')).result().get_statevector()\n",
    "print(\"State of qubit after measurment = \" + str(state))\n",
    "\n",
    "# count how many times a given state (0 or 1) was measured\n",
    "counts = job.get_counts()\n",
    "\n",
    "#plot histogram\n",
    "plot_histogram(counts)"
   ]
  },
  {
   "cell_type": "markdown",
   "metadata": {},
   "source": [
    "#### Q7 What happens when you measure in different basis? Do you get what you expected?"
   ]
  },
  {
   "cell_type": "markdown",
   "metadata": {},
   "source": [
    "Measuring in different bases allows us to also witness Heisenberg’s famous \"uncertainty principle\" in action. Having certainty of measuring a state in the Z-basis removes all certainty of measuring a specific state in the X-basis, and vice versa. A common misconception is that the uncertainty is due to the limits in our equipment, but here we can see the uncertainty is actually part of the nature of the qubit.\n",
    "\n",
    "For example, if we put our qubit in the state |0>, our measurement in the Z-basis is certain to be |0>, but our measurement in the X-basis is completely random! (|+> or |->). Similarly, if we put our qubit in the state |->, our measurement in the X-basis is certain to be |-> but now any measurement in the Z-basis will be completely random."
   ]
  },
  {
   "cell_type": "markdown",
   "metadata": {},
   "source": [
    "### 3.3 Multiqubit gates <a id='multiplequbits'></a>\n",
    "So far we have only used single qubit gates, but what happens when we have a circuit with more than one qubit?"
   ]
  },
  {
   "cell_type": "code",
   "execution_count": null,
   "metadata": {
    "scrolled": true
   },
   "outputs": [],
   "source": [
    "# defining the device \n",
    "q = QuantumRegister(2, 'q')\n",
    "c = ClassicalRegister(2, 'c')\n",
    "circuitH2 = QuantumCircuit(q, c)\n",
    "\n",
    "#-- Add code to apply Hadamard and to measure qubit. To apply the Hadamard only to one qubit: h(0)\n",
    "\n",
    "state = execute(circuitH2, Aer.get_backend('statevector_simulator')).result().get_statevector()\n",
    "print(\"State of Qubit before measurment = \" + str(state))\n",
    "\n",
    "\n",
    "# execute the circuits\n",
    "job = execute(circuitH2, Aer.get_backend('qasm_simulator')).result()\n",
    "counts = job.get_counts()\n",
    "\n",
    "state = execute(circuitH2, backend).result().get_statevector()\n",
    "print(\"State of Qubit after measurment = \" + str(state))\n",
    "plot_histogram(counts)"
   ]
  },
  {
   "cell_type": "code",
   "execution_count": null,
   "metadata": {},
   "outputs": [],
   "source": [
    "#To visualize how the circuit looks like uncomment the line below:\n",
    "#circuitH2.draw(output='mpl')"
   ]
  },
  {
   "cell_type": "markdown",
   "metadata": {},
   "source": [
    "The application of a Hadamard gate to each of the qubits (q0 and q1) \"distributes\" the probability of measuring them between |0> or |1>. This means that the total state of the system can be either |00>, |01>, |10>, |11>, all of these states are equally likely.\n",
    "\n",
    "#### Q8 What happens if you only apply H to only one of the qubits? It is the same for both qubits?"
   ]
  },
  {
   "cell_type": "markdown",
   "metadata": {},
   "source": [
    "#### 3.3.1 CNOT <a id='cnot'></a>\n",
    "The CNOT (or controlled X) is a two qubit control gate and is highly use to create entangled states.\n",
    "It flips the second qubit (the target qubit) if and only if the first qubit (the control qubit) is |1>. Let's see some examples:"
   ]
  },
  {
   "cell_type": "code",
   "execution_count": null,
   "metadata": {},
   "outputs": [],
   "source": [
    "# defining the device \n",
    "q = QuantumRegister(2, 'q')\n",
    "c = ClassicalRegister(2, 'c')\n",
    "circuitCNOT = QuantumCircuit(q, c)\n",
    "\n",
    "\n",
    "# A cnot operation: q0 is the control qubit\n",
    "circuitCNOT.cnot(0,1)\n",
    "\n",
    "state = execute(circuitCNOT, Aer.get_backend('statevector_simulator')).result().get_statevector()\n",
    "print(\"State of Qubit before measurment = \" + str(state))\n",
    "\n",
    "circuitCNOT.measure(q,c)\n",
    "\n",
    "# execute the circuit\n",
    "job = execute(circuitCNOT, Aer.get_backend('qasm_simulator')).result()\n",
    "\n",
    "# count how many times a given state was measured\n",
    "counts = job.get_counts()\n",
    "plot_histogram(counts)"
   ]
  },
  {
   "cell_type": "code",
   "execution_count": null,
   "metadata": {},
   "outputs": [],
   "source": [
    "##To visualize how the circuit looks like uncomment the line below:\n",
    "#circuitCNOT.draw(output='mpl')"
   ]
  },
  {
   "cell_type": "markdown",
   "metadata": {},
   "source": [
    "Both q0 and q1 are initialized in state |0>, the initial quantum state of the system is |00>. After, the CNOT is applied using q0 as the control qubit and q1 as the target qubit. Since the control qubit is |0>, the CNOT has no effect on the target qubit. The state of the system does not change. When measured, we observe state |00> with probability 1.0.\n",
    "\n",
    "#### Q9: What happens if we apply an X gate to q0 before the CNOT?\n",
    "#### Q10: What happens if we apply a Hadamard to the control qubit (q0) before the CNOT?\n"
   ]
  },
  {
   "cell_type": "markdown",
   "metadata": {},
   "source": [
    "The Hadamard gate sets q0 in state |0> with ~0.5 probability and in state |1> with ~0.5 probability.\n",
    "For the 0.5 probability where q0 is |0>, applying a CNOT does nothing on q1. In this case the quantum state of the system is |00>.\n",
    "For the 0.5 probability where q0 is |1>, applying a CNOT flips q1 to state |1>. In this case the quantum state of the system is |11>. Therefore, there is an equal probability of meassuring |00> and |11>.\n",
    "\n",
    "The quantum state created by the above circuit can be written as \n",
    "\n",
    "$|\\psi> = 1/ \\sqrt(2)|00> + 1\\sqrt(2)|11>$ \n",
    "\n",
    "and is one of the so called \"Bell states\" (https://en.wikipedia.org/wiki/Bell_state). The Bell states are maximally entangled, that means that measuring one already \"defines\" the value of the other. If we measure q0 at state |0>, we know q1 is also in state |0>, if we measure q0 in |1> we know q1 is also in state |1>. They are somehow linked and this \"link\" is called entanglement.\n",
    "\n",
    "More formally (for the curious) an entangle state is a state of the system that can not be described by the individual qubits, only by the whole multi-qubit register (https://en.wikipedia.org/wiki/Quantum_entanglement). \n",
    "\n",
    "#### Q11: There are three other Bell states of 2-qubits:\n",
    "\n",
    "$|\\psi> = 1/ \\sqrt(2)|00> - 1\\sqrt(2)|11>$ \n",
    "\n",
    "$|\\psi> = 1/ \\sqrt(2)|01> + 1\\sqrt(2)|10>$ \n",
    "\n",
    "$|\\psi> = 1/ \\sqrt(2)|01> - 1\\sqrt(2)|10>$ \n",
    "\n",
    "#### Can you create them?\n",
    "\n",
    "The same method can also be used to entangle n qubits. Lets try for example 4:"
   ]
  },
  {
   "cell_type": "code",
   "execution_count": 23,
   "metadata": {},
   "outputs": [
    {
     "name": "stdout",
     "output_type": "stream",
     "text": [
      "State of Qubit before measurment = [0.70710678+0.j 0.        +0.j 0.        +0.j 0.        +0.j\n",
      " 0.        +0.j 0.        +0.j 0.        +0.j 0.        +0.j\n",
      " 0.        +0.j 0.        +0.j 0.        +0.j 0.        +0.j\n",
      " 0.        +0.j 0.        +0.j 0.        +0.j 0.70710678+0.j]\n",
      "State of Qubit after measurment = [1.+0.j 0.+0.j 0.+0.j 0.+0.j 0.+0.j 0.+0.j 0.+0.j 0.+0.j 0.+0.j 0.+0.j\n",
      " 0.+0.j 0.+0.j 0.+0.j 0.+0.j 0.+0.j 0.+0.j]\n"
     ]
    },
    {
     "data": {
      "image/png": "[encoded data removed]",
      "text/plain": [
       "<Figure size 504x360 with 1 Axes>"
      ]
     },
     "execution_count": 23,
     "metadata": {},
     "output_type": "execute_result"
    }
   ],
   "source": [
    "# number of qubits\n",
    "n = 4\n",
    "\n",
    "# defining the device \n",
    "q = QuantumRegister(n, 'q')\n",
    "c = ClassicalRegister(n, 'c')\n",
    "circuitnCNOT = QuantumCircuit(q, c)\n",
    "\n",
    "circuitnCNOT.h(0)\n",
    "# using q_0 always as contol qubit\n",
    "for i in range(1,n):\n",
    "    circuitnCNOT.cnot(0,i)\n",
    "    \n",
    "state = execute(circuitnCNOT, Aer.get_backend('statevector_simulator')).result().get_statevector()\n",
    "print(\"State of Qubit before measurment = \" + str(state))\n",
    "\n",
    "circuitnCNOT.measure(q,c)\n",
    "\n",
    "state = execute(circuitnCNOT, Aer.get_backend('statevector_simulator')).result().get_statevector()\n",
    "print(\"State of Qubit after measurment = \" + str(state))\n",
    "\n",
    "# plot the histogram with probabilities of measuring a one or a zero.\n",
    "counts = execute(circuitnCNOT, Aer.get_backend('qasm_simulator')).result().get_counts()\n",
    "plot_histogram(counts)"
   ]
  },
  {
   "cell_type": "markdown",
   "metadata": {},
   "source": [
    "Again, if we only measure qubit q0, we already know the state of the other n-qubits. The CNOT gate is also known as CX gate. There are also CZ and CY gates."
   ]
  },
  {
   "cell_type": "markdown",
   "metadata": {},
   "source": [
    "#### 3.3.2 SWAP gate <a id='swap'></a>\n",
    "\n",
    "Sometimes we need to move information around in a quantum computer. For some qubit implementations, this could be done by physically moving them. Another option is simply to move the state between two qubits. This is done using the SWAP gate.\n",
    "\n"
   ]
  },
  {
   "cell_type": "code",
   "execution_count": 24,
   "metadata": {},
   "outputs": [
    {
     "name": "stdout",
     "output_type": "stream",
     "text": [
      "State of Qubit before swap = [ 0.70710678-8.65956056e-17j -0.70710678+8.65956056e-17j\n",
      "  0.        +0.00000000e+00j  0.        +0.00000000e+00j]\n",
      "State of Qubit after swap = [ 0.70710678-8.65956056e-17j  0.        +0.00000000e+00j\n",
      " -0.70710678+8.65956056e-17j  0.        +0.00000000e+00j]\n",
      "State of Qubit after gates = [ 0.70710678-8.65956056e-17j  0.        +0.00000000e+00j\n",
      "  0.        +0.00000000e+00j -0.70710678+8.65956056e-17j]\n"
     ]
    }
   ],
   "source": [
    "# defining the device \n",
    "q = QuantumRegister(2, 'q')\n",
    "c = ClassicalRegister(2, 'c')\n",
    "circuitSWAP = QuantumCircuit(q, c)\n",
    "\n",
    "circuitSWAP.x(0)\n",
    "circuitSWAP.h(0)\n",
    "\n",
    "state = execute(circuitSWAP, backend = Aer.get_backend('statevector_simulator')).result().get_statevector()\n",
    "print(\"State of Qubit before swap = \" + str(state))\n",
    "\n",
    "# apply SWAP\n",
    "circuitSWAP.swap(0,1)\n",
    "state = execute(circuitSWAP, backend = Aer.get_backend('statevector_simulator')).result().get_statevector()\n",
    "print(\"State of Qubit after swap = \" + str(state))\n",
    "\n",
    "# swap a 1 from a to b\n",
    "circuitSWAP.cx(0,1) # copies 1 from a to b\n",
    "circuitSWAP.cx(1,0) # uses the 1 on b to rotate the state of a to 0\n",
    "\n",
    "state = execute(circuitSWAP, backend = Aer.get_backend('statevector_simulator')).result().get_statevector()\n",
    "print(\"State of Qubit after gates = \" + str(state))\n",
    "\n"
   ]
  },
  {
   "cell_type": "markdown",
   "metadata": {},
   "source": [
    "#### 3.3.3 Toffoli gate (CXX) <a id='toffoli'></a>\n",
    "\n",
    "An other important multi qubit gate is the Toffoli gate. The Toffoli gate is a three-qubit gate with two controls and one target. It performs an X on the target only if both controls are in the state |1>. The final state of the target is then equal to either the AND or the NAND of the two controls, depending on whether the initial state of the target was |0> or |1>. A Toffoli can also be thought of as a controlled-controlled-NOT, and is also called the CCX gate."
   ]
  },
  {
   "cell_type": "markdown",
   "metadata": {},
   "source": [
    "## 4. Circuits  <a id='circuits'></a>\n",
    "\n",
    "Now that we are a bit familiar with some fo the basic gates and measurments, lets try to create a \"full circuit\".\n",
    "We will start wiht a full adder. A full adder is a circuit that performs addition of numbers. In many computers and other kinds of processors adders are used in the arithmetic logic units or ALU. They are also used in other parts of the processor, where they are used to calculate addresses, table indices, increment and decrement operators and similar operations. Specifically, a full adder adds binary numbers and accounts for values carried in as well as out.\n",
    "\n",
    "### 4. 1 Full Adder  <a id='fulladder'></a>"
   ]
  },
  {
   "cell_type": "markdown",
   "metadata": {},
   "source": [
    "TODO: Add something on classical registers and ancillas?     \n",
    "https://qiskit.org/textbook/ch-gates/oracles.html"
   ]
  },
  {
   "cell_type": "code",
   "execution_count": 25,
   "metadata": {},
   "outputs": [
    {
     "data": {
      "image/png": "[encoded data removed]",
      "text/plain": [
       "<Figure size 504x360 with 1 Axes>"
      ]
     },
     "execution_count": 25,
     "metadata": {},
     "output_type": "execute_result"
    }
   ],
   "source": [
    "# Full adder code for 4+5 (0100 + 0101)\n",
    "first='0100'\n",
    "second='0101'\n",
    "\n",
    "a = QuantumRegister(4)   # First number\n",
    "b = QuantumRegister(4+1) # Second number, then sum (store final sum here, hence the +1)\n",
    "c = QuantumRegister(4) # Carry bits\n",
    "cl = ClassicalRegister(4+1) # Classical output\n",
    "\n",
    "# Combining all of them into one quantum circuit\n",
    "qc = QuantumCircuit(a, b, c, cl)\n",
    "\n",
    "# encode values of 'first' and 'second' in registers a and b using X gates \n",
    "for i in range(4):\n",
    "    if first[i] == \"1\":\n",
    "        qc.x(a[4 - (i+1)]) \n",
    "    if second[i] == \"1\":\n",
    "        qc.x(b[4 - (i+1)]) \n",
    "\n",
    "n = 4 # bits of binary digits\n",
    "\n",
    "# Implementing a carry gate that is applied on all (c[i], a[i], b[i]) with output fed to c[i+1]\n",
    "for i in range(n-1):\n",
    "    qc.ccx(a[i], b[i], c[i+1])\n",
    "    qc.cx(a[i], b[i])\n",
    "    qc.ccx(c[i], b[i], c[i+1])\n",
    "\n",
    "#For the last iteration of the carry gate, instead of feeding the result to c[n], \n",
    "#we use b[n] (b carries the sum), which is why c has only n bits, with c[n-1] being the last carry bit\n",
    "qc.ccx(a[n-1], b[n-1], b[n])\n",
    "qc.cx(a[n-1], b[n-1])\n",
    "qc.ccx(c[n-1], b[n-1], b[n])\n",
    "\n",
    "#Reversing the gate operation performed on b[n-1]\n",
    "qc.cx(c[n-1], b[n-1])\n",
    "\n",
    "#Reversing the gate operations performed during the carry gate implementations\n",
    "#This is done to ensure the sum gates are fed with the correct input bit states\n",
    "for i in range(n-1):\n",
    "    qc.ccx(c[(n-2)-i], b[(n-2)-i], c[(n-1)-i])\n",
    "    qc.cx(a[(n-2)-i], b[(n-2)-i])\n",
    "    qc.ccx(a[(n-2)-i], b[(n-2)-i], c[(n-1)-i])\n",
    "    #These two operations act as a sum gate; if a control bit is at                \n",
    "    #the 1> state then the target bit b[(n-2)-i] is flipped\n",
    "    qc.cx(c[(n-2)-i], b[(n-2)-i])\n",
    "    qc.cx(a[(n-2)-i], b[(n-2)-i])\n",
    "    \n",
    "#Measure qubits and store results in classical register cl\n",
    "for i in range(n+1):\n",
    "    qc.measure(b[i], cl[i])\n",
    "    \n",
    "counts = execute(qc, Aer.get_backend('qasm_simulator')).result().get_counts()\n",
    "plot_histogram(counts)\n"
   ]
  },
  {
   "cell_type": "markdown",
   "metadata": {},
   "source": [
    "### 4.2 Grover's algorithm\n",
    "Grover's algorithm is a quantum algorithm that finds with high probability the unique input to a black box function that produces a particular output value, using just $O(\\sqrt N)$ evaluations of the function, where N is the size of the function's domain (https://en.wikipedia.org/wiki/Grover%27s_algorithm).\n",
    "This is achieve by exploting quantum parallelism!\n",
    "\n",
    "TODO: Recheck https://qiskit.org/textbook/ch-algorithms/grover.html\n"
   ]
  },
  {
   "cell_type": "code",
   "execution_count": 26,
   "metadata": {},
   "outputs": [
    {
     "data": {
      "image/png": "[encoded data removed]",
      "text/plain": [
       "<Figure size 504x360 with 1 Axes>"
      ]
     },
     "execution_count": 26,
     "metadata": {},
     "output_type": "execute_result"
    }
   ],
   "source": [
    "#Grover's algorithm to find state 11\n",
    "\n",
    "def initialize_s(qc, qubits):\n",
    "    \"\"\"Apply a H-gate to 'qubits' in qc\"\"\"\n",
    "    for q in qubits:\n",
    "        qc.h(q)\n",
    "    return qc\n",
    "\n",
    "# Find a value for which a function is true, state for which f will flip phase\n",
    "q = QuantumRegister(2,'q')\n",
    "c = ClassicalRegister(2,'c')\n",
    "grover_circuit = QuantumCircuit(q,c)\n",
    "\n",
    "# initialize in superposition all states\n",
    "grover_circuit = initialize_s(grover_circuit, [0,1])\n",
    "\n",
    "# apply oracle: because system is in superposition, oracle applied to all states at once (quanutm parallelism)\n",
    "# but it will only flip phase of state we are searching\n",
    "grover_circuit.cz(0,1) \n",
    "\n",
    "# If we measure here, still all states are equally likely, since we have only flipped the phase!\n",
    "#\n",
    "# Diffusion operator (U_s)\n",
    "grover_circuit.h([0,1]) # hadamard to both qubits\n",
    "grover_circuit.z([0,1]) # flip phase 00\n",
    "grover_circuit.cz(0,1)\n",
    "grover_circuit.h([0,1]) # hadamard to both again\n",
    "\n",
    "grover_circuit.measure(q,c)\n",
    "\n",
    "counts = execute(grover_circuit, Aer.get_backend('qasm_simulator')).result().get_counts()\n",
    "plot_histogram(counts)"
   ]
  },
  {
   "cell_type": "markdown",
   "metadata": {},
   "source": [
    "In this example, the oracle was quite simple (just a controlled-z), but in general the oracle needs to be constructed. There are recepies to do this depending on your problem.\n",
    "After the \"flip\" oracle has been applied we need to make use of the constructive and destructive interference of states to \"increase\" the probability of the state we are looking for. This is called the Diffusion operator"
   ]
  },
  {
   "cell_type": "markdown",
   "metadata": {},
   "source": [
    "## 5. Benchmarking:  Hadamard, CNOT, T-gate <a id='timing'></a>\n",
    "In order to optimize circuits, it is important to understand how different gates perform. This means, understanding how the simulation time and memory allocation of these gates scales with the number of qubits. \n",
    " \n",
    "Below we define a code  in Qiskit that computes the average time and memory allocation a circuit of n-qubits takes to run. Every circuit is run 10 times. For comparision, we also implemented the code in Qulacs.\n",
    "\n",
    "#### Hadamard gate\n"
   ]
  },
  {
   "cell_type": "code",
   "execution_count": 27,
   "metadata": {},
   "outputs": [
    {
     "name": "stdout",
     "output_type": "stream",
     "text": [
      "[0.00321241 0.00288077 0.00301272 0.00313517 0.00325332 0.00340396\n",
      " 0.00367068 0.00369395 0.00368355 0.00387104 0.0040724  0.00440927\n",
      " 0.00497352 0.00643525 0.00758866 0.01244068 0.02224537 0.0292406\n",
      " 0.02859559 0.05990955 0.10128042 0.23005646 0.43098531]\n",
      "[334284.  334284.  334284.  334284.  334284.  334284.  334284.  334284.\n",
      " 334284.  334284.  334284.  334548.  334812.  335340.  336844.8 339218.8\n",
      " 347720.  354156.  370496.  403280.4 502203.  632834.2 895348.2]\n"
     ]
    }
   ],
   "source": [
    "# QISKIT Hadamard using state vector backend\n",
    "from qiskit import QuantumCircuit, QuantumRegister, ClassicalRegister, execute, Aer, IBMQ\n",
    "from qulacs import Observable, QuantumState, QuantumCircuit as QC\n",
    "import time\n",
    "import tracemalloc\n",
    "import resource\n",
    "import matplotlib.pyplot as plt\n",
    "#from mpl_toolkits.axes_grid1.inset_locator import mark_inset, inset_axes\n",
    "#from qiskit.visualization import plot_histogram\n",
    "import numpy as np\n",
    "\n",
    "# Amount of qubits we are going to simulate\n",
    "qisQubitsH = 25\n",
    "# number of times to run benchmark \n",
    "times = 20\n",
    "\n",
    "# Arrays to store results for running time and memory allocation\n",
    "qisHadamards = np.array([], dtype=float)\n",
    "qisHadamardsmem = np.array([], dtype=float)\n",
    "\n",
    "for p in range(2, qisQubitsH):\n",
    "    tt_tot = 0.0\n",
    "    rss_tot = 0.0\n",
    "\n",
    "    for t in range(times):\n",
    "        \n",
    "        tracemalloc.start()\n",
    "        t_start = time.perf_counter()\n",
    "        \n",
    "        # defining the device \n",
    "        q = QuantumRegister(p, 'q')\n",
    "        c = ClassicalRegister(p, 'c')\n",
    "        circ = QuantumCircuit(q, c)\n",
    "\n",
    "        circ.h(q)\n",
    "        \n",
    "        backend = Aer.get_backend('statevector_simulator')\n",
    "        state = execute(circ, backend).result().get_statevector()\n",
    "        \n",
    "        #circ.measure(q, c)\n",
    "\n",
    "        t_stop = time.perf_counter()\n",
    "        t_tot = t_stop - t_start\n",
    "        tt_tot += t_tot\n",
    "      \n",
    "        snapshot = tracemalloc.take_snapshot()\n",
    "        top_stats = snapshot.statistics('lineno')\n",
    "        tracemalloc.stop()\n",
    "        max_rss = resource.getrusage(resource.RUSAGE_SELF).ru_maxrss\n",
    "        rss_tot += max_rss\n",
    "        \n",
    "        del q\n",
    "        del c\n",
    "        del circ\n",
    "        del state\n",
    "        \n",
    "    rss_avg = rss_tot / times\n",
    "    qisHadamardsmem = np.append(qisHadamardsmem, [rss_avg])\n",
    "\n",
    "    t_avg = tt_tot / times\n",
    "    qisHadamards = np.append(qisHadamards, [t_avg])\n",
    "    \n",
    "print(qisHadamards)\n",
    "print (qisHadamardsmem)\n"
   ]
  },
  {
   "cell_type": "markdown",
   "metadata": {},
   "source": [
    "The code for the timing Hadamards in Qulacs:"
   ]
  },
  {
   "cell_type": "code",
   "execution_count": 28,
   "metadata": {},
   "outputs": [
    {
     "name": "stdout",
     "output_type": "stream",
     "text": [
      "[2.12671002e-05 1.76657006e-05 1.72605985e-05 1.88432983e-05\n",
      " 1.89314029e-05 1.90266990e-05 2.00502996e-05 2.38570021e-05\n",
      " 3.33264004e-05 4.67584003e-05 8.04928000e-05 1.14547399e-04\n",
      " 1.77330099e-04 3.30542898e-04 6.05684698e-04 1.26206650e-03\n",
      " 2.63289860e-03 7.70396490e-03 1.81361912e-02 5.08830686e-02\n",
      " 1.19916943e-01 2.56810993e-01 5.19339957e-01]\n",
      "[895428. 895428. 895428. 895428. 895428. 895428. 895428. 895428. 895428.\n",
      " 895428. 895428. 895428. 895428. 895428. 895428. 895428. 895428. 895428.\n",
      " 895428. 895428. 895428. 895428. 895428.]\n"
     ]
    }
   ],
   "source": [
    "#QULACS Hadamard\n",
    "from qiskit import QuantumCircuit, QuantumRegister, ClassicalRegister, execute, Aer, IBMQ\n",
    "from qulacs import Observable, QuantumState, QuantumCircuit as QC\n",
    "import time\n",
    "import tracemalloc\n",
    "import resource\n",
    "import matplotlib.pyplot as plt\n",
    "from mpl_toolkits.axes_grid1.inset_locator import mark_inset, inset_axes\n",
    "from qiskit.visualization import plot_histogram\n",
    "import numpy as np\n",
    "\n",
    "# Amount of qubits we are going to simulate\n",
    "qulQubitsH = 25\n",
    "# number of times to run benchmark \n",
    "times = 10\n",
    "\n",
    "# Arrays to store results for running time and memory allocation\n",
    "qulHadamards = np.array([], dtype=float)\n",
    "qulHadamardsmem = np.array([], dtype=float)\n",
    "\n",
    "for p in range(2, qulQubitsH):\n",
    "    tt_tot = 0.0\n",
    "    rss_tot = 0.0\n",
    "    \n",
    "    for t in range(times):\n",
    "        tracemalloc.start()\n",
    "        t_start = time.perf_counter()\n",
    "       \n",
    "        # defining the device\n",
    "        state = QuantumState(p)\n",
    "        state.set_zero_state()\n",
    "        circuit = QC(p)\n",
    "\n",
    "        # apply Hadamard on every qubit\n",
    "        for i in range(p):\n",
    "            circuit.add_H_gate(i)\n",
    "        #measure done by defualt\n",
    "            \n",
    "        # execute\n",
    "        circuit.update_quantum_state(state)\n",
    "        output = state\n",
    "        \n",
    "        t_stop = time.perf_counter()\n",
    "        t_tot = t_stop - t_start\n",
    "        tt_tot += t_tot\n",
    "        \n",
    "        snapshot = tracemalloc.take_snapshot()\n",
    "        top_stats = snapshot.statistics('lineno')\n",
    "        tracemalloc.stop()\n",
    "        max_rss = resource.getrusage(resource.RUSAGE_SELF).ru_maxrss\n",
    "        rss_tot += max_rss\n",
    "        \n",
    "        del circuit\n",
    "        del state\n",
    "    \n",
    "    rss_avg = rss_tot / times\n",
    "    qulHadamardsmem = np.append(qulHadamardsmem, [rss_avg])\n",
    "          \n",
    "    t_avg = tt_tot / times\n",
    "    qulHadamards = np.append(qulHadamards, [t_avg])\n",
    "\n",
    "print(qulHadamards)\n",
    "print(qulHadamardsmem)"
   ]
  },
  {
   "cell_type": "markdown",
   "metadata": {
    "pycharm": {
     "is_executing": false,
     "name": "#%% md\n"
    }
   },
   "source": [
    "Plotting..."
   ]
  },
  {
   "cell_type": "code",
   "execution_count": 29,
   "metadata": {
    "pycharm": {
     "is_executing": false,
     "name": "#%%\n"
    },
    "scrolled": false
   },
   "outputs": [
    {
     "data": {
      "image/png": "[encoded data removed]",
      "text/plain": [
       "<Figure size 750x750 with 1 Axes>"
      ]
     },
     "metadata": {
      "needs_background": "light"
     },
     "output_type": "display_data"
    }
   ],
   "source": [
    "# Some range adjustments\n",
    "y1 = []\n",
    "if qisQubitsH <= qulQubitsH: \n",
    "    for i in range(qulQubitsH - qisQubitsH): \n",
    "        qisHadamards = np.append(qisHadamards, [np.nan])\n",
    "        qisHadamardsmem = np.append(qisHadamardsmem, [np.nan])\n",
    "    y1 = range(2, qulQubitsH)\n",
    "elif qisQubitsH > qulQubitsH:\n",
    "    for i in range(qisQubitsH - qulQubitsH): \n",
    "        qulHadamards = np.append(qulHadamards, [np.nan])\n",
    "        qulHadamardsmem = np.append(qulHadamardsmem, [np.nan])\n",
    "      \n",
    "    y1 = range(2, qisQubitsH)\n",
    "else:\n",
    "    y1 = range(2, qisQubitsH)\n",
    "\n",
    "\n",
    "# TIME\n",
    "fig, ax = plt.subplots(1, 1, figsize=(5, 5), dpi=150) \n",
    "ax.plot(y1, qisHadamards, 'c', label='Qiskit_statevec', linewidth=2, marker='^', markersize=4)\n",
    "ax.plot(y1, qulHadamards, 'm', label='Qulacs', linewidth=2, marker='x', markersize=4)\n",
    "plt.xticks(np.arange(2, qisQubitsH, step=4))\n",
    "plt.title('Hadamards', fontsize=14)\n",
    "\n",
    "plt.xlabel('$n$ qubits', fontsize=14)\n",
    "plt.ylabel('time in seconds', fontsize=14)\n",
    "ax.legend()\n",
    "\n",
    "plt.show()"
   ]
  },
  {
   "cell_type": "markdown",
   "metadata": {},
   "source": [
    "The Hadamard is a single qubit gate and is part of the Cliford gates.\n",
    "Therefore, we expect the computational time to increase polynomial with the number of qubits if the the Gottesman-Knill theorem is implemented. \n",
    "\n",
    "\n",
    "Qiskit makes use of the Gottesman-Knill theorem to simulate the Clifford gates efficiently and therefore we see a linear increase in simualtion time with number of qubits.\n",
    "\n",
    "***Why is then exponential?\n"
   ]
  },
  {
   "cell_type": "code",
   "execution_count": 30,
   "metadata": {},
   "outputs": [
    {
     "data": {
      "image/png": "[encoded data removed]",
      "text/plain": [
       "<Figure size 750x750 with 1 Axes>"
      ]
     },
     "metadata": {
      "needs_background": "light"
     },
     "output_type": "display_data"
    }
   ],
   "source": [
    "# memory allocation\n",
    "fig, ax = plt.subplots(1, 1, figsize=(5, 5), dpi=150) \n",
    "ax.plot(y1, qisHadamardsmem, 'c', label='Qiskit_statevec', linewidth=2, marker='^', markersize=4)\n",
    "ax.plot(y1, qulHadamardsmem, 'm', label='Qulacs', linewidth=2, marker='x', markersize=4)\n",
    "plt.xticks(np.arange(2, qisQubitsH, step=4))\n",
    "plt.title('Hadamards', fontsize=14)\n",
    "plt.xlabel('$n$ qubits', fontsize=14)\n",
    "plt.ylabel('mem allocation', fontsize=14)\n",
    "ax.legend()\n",
    "plt.show()"
   ]
  },
  {
   "cell_type": "markdown",
   "metadata": {},
   "source": [
    "*** TODO: can we get more insight into this?*** \n",
    "    I would have expected and increase with teh number of qubits, but this seems not to happen. Is this becasue we are dealing wiht single gate qubits?"
   ]
  },
  {
   "cell_type": "markdown",
   "metadata": {},
   "source": [
    "#### CNOT gate"
   ]
  },
  {
   "cell_type": "code",
   "execution_count": null,
   "metadata": {},
   "outputs": [],
   "source": [
    "#QISKIT CNOT statevector\n",
    "from qiskit import QuantumCircuit, QuantumRegister, ClassicalRegister, execute, Aer, IBMQ\n",
    "from qulacs import Observable, QuantumState, QuantumCircuit as QC\n",
    "import time\n",
    "import tracemalloc\n",
    "import resource\n",
    "import matplotlib.pyplot as plt\n",
    "from mpl_toolkits.axes_grid1.inset_locator import mark_inset, inset_axes\n",
    "from qiskit.visualization import plot_histogram\n",
    "import numpy as np\n",
    "\n",
    "# Amount of qubits we are going to simulate\n",
    "qisQubitsCNOT = 20\n",
    "times = 10\n",
    "\n",
    "# Array for the results to plot them afterwards\n",
    "qisCNOT = np.array([], dtype=float)\n",
    "qisCNOTmem = np.array([], dtype=float)\n",
    "for p in range(2, qisQubitsCNOT):\n",
    "    tt_tot = 0.0\n",
    "    rss_tot = 0.0\n",
    "    \n",
    "    for t in range(times):\n",
    "        tracemalloc.start()\n",
    "        t_start = time.perf_counter()\n",
    "        \n",
    "        # defining the device \n",
    "        q = QuantumRegister(p, 'q')\n",
    "        c = ClassicalRegister(p, 'c')\n",
    "        circ = QuantumCircuit(q, c)\n",
    "\n",
    "        circ.h(0)\n",
    "        for i in (range(1, p)): \n",
    "            circ.cnot(0, i)\n",
    "\n",
    "        # the default backend\n",
    "        backend = Aer.get_backend('statevector_simulator')\n",
    "        state = execute(circ, backend).result().get_statevector()\n",
    "                    \n",
    "        snapshot = tracemalloc.take_snapshot()\n",
    "        top_stats = snapshot.statistics('lineno')\n",
    "        tracemalloc.stop()\n",
    "        max_rss = resource.getrusage(resource.RUSAGE_SELF).ru_maxrss\n",
    "        rss_tot += max_rss\n",
    "        \n",
    "        t_stop = time.perf_counter()\n",
    "        t_tot = t_stop - t_start\n",
    "        tt_tot += t_tot   \n",
    "                        \n",
    "        del q\n",
    "        del c\n",
    "        del circ\n",
    "        del state\n",
    "        \n",
    "    rss_avg = rss_tot / float(times)\n",
    "    qisCNOTmem = np.append(qisCNOTmem, [rss_avg])\n",
    "        \n",
    "    t_avg = tt_tot / times\n",
    "    qisCNOT= np.append(qisCNOT, [t_avg])\n",
    "\n",
    "print(len(qisCNOT))\n",
    "print(qisCNOTmem)"
   ]
  },
  {
   "cell_type": "code",
   "execution_count": null,
   "metadata": {},
   "outputs": [],
   "source": [
    "#QULACS CNOT\n",
    "from qiskit import QuantumCircuit, QuantumRegister, ClassicalRegister, execute, Aer, IBMQ\n",
    "from qulacs import Observable, QuantumState, QuantumCircuit as QC\n",
    "import time\n",
    "import tracemalloc\n",
    "import resource\n",
    "import matplotlib.pyplot as plt\n",
    "from mpl_toolkits.axes_grid1.inset_locator import mark_inset, inset_axes\n",
    "from qiskit.visualization import plot_histogram\n",
    "import numpy as np\n",
    "\n",
    "# Amount of qubits we are going to simulate\n",
    "qulQubitsCNOT = 20\n",
    "times = 10\n",
    "\n",
    "# Array for the results to plot them afterwards\n",
    "qulCNOT = np.array([], dtype=float)\n",
    "qulCNOTmem = np.array([], dtype=float)\n",
    "for p in range(2, qulQubitsCNOT):\n",
    "    tt_tot = 0.0\n",
    "    rss_tot = 0.0\n",
    "\n",
    "    for t in range(times):\n",
    "        t_start = time.perf_counter()\n",
    "        tracemalloc.start()\n",
    "        state = QuantumState(p)\n",
    "        state.set_zero_state()\n",
    "\n",
    "        circuit = QC(p)\n",
    "        \n",
    "        \n",
    "        for i in range(1, p):\n",
    "            circuit.add_CNOT_gate(0, i)\n",
    "\n",
    "        circuit.update_quantum_state(state)\n",
    "        output = state\n",
    "\n",
    "        t_stop = time.perf_counter()\n",
    "        t_tot = t_stop - t_start\n",
    "        tt_tot += t_tot\n",
    "        \n",
    "        snapshot = tracemalloc.take_snapshot()\n",
    "        top_stats = snapshot.statistics('lineno')\n",
    "        tracemalloc.stop()\n",
    "        max_rss = resource.getrusage(resource.RUSAGE_SELF).ru_maxrss\n",
    "        rss_tot += max_rss\n",
    "        del circuit\n",
    "        del state\n",
    "    \n",
    "    rss_avg = rss_tot / times\n",
    "    qulCNOTmem = np.append(qulCNOTmem, [rss_avg])\n",
    "        \n",
    "    t_avg = tt_tot / times\n",
    "    qulCNOT = np.append(qulCNOT, [t_avg])\n",
    "\n",
    "print(len(qulCNOT))\n",
    "print(qulCNOTmem)"
   ]
  },
  {
   "cell_type": "markdown",
   "metadata": {},
   "source": [
    "Plotting ..."
   ]
  },
  {
   "cell_type": "code",
   "execution_count": null,
   "metadata": {},
   "outputs": [],
   "source": [
    "# Some range adjustments\n",
    "y1 = []\n",
    "if qisQubitsCNOT < qulQubitsCNOT: \n",
    "    for i in range(qulQubitsCNOT - qisQubitsCNOT): \n",
    "        qisCNOT = np.append(qisCNOT, [np.nan])\n",
    "        qisCNOTmem = np.append(qisCNOTmem, [np.nan])\n",
    "        qisCNOT_qasm = np.append(qisCNOT, [np.nan])\n",
    "        qisCNOTmem_qasm = np.append(qisCNOTmem, [np.nan])\n",
    "    y1 = range(2, qulQubitsH)\n",
    "elif qisQubitsCNOT >= qulQubitsCNOT:\n",
    "    for i in range(qisQubitsCNOT - qulQubitsCNOT): \n",
    "        qulCNOT = np.append(qulCNOT, [np.nan])\n",
    "        qulCNOTmem = np.append(qulCNOTmem, [np.nan])\n",
    "    y1 = range(2, qisQubitsCNOT)\n",
    "else:\n",
    "    y1 = range(2, qisQubitsCNOT)\n",
    "\n",
    "# TIME\n",
    "fig, ax = plt.subplots(1, 1, figsize=(5, 5), dpi=150) \n",
    "\n",
    "# the whole graph\n",
    "ax.plot(y1, qisCNOT, 'c', label='Qiskit_statevector', linewidth=2, marker='^', markersize=4)\n",
    "ax.plot(y1, qulCNOT, 'm', label='Qulacs', linewidth=2, marker='x', markersize=4)\n",
    "#plt.xticks(np.arange(2, qisQubitsCNOT, step=4))\n",
    "plt.title('CNOT', fontsize=14)\n",
    "\n",
    "plt.xlabel('$n$ qubits', fontsize=14)\n",
    "plt.ylabel('time in seconds', fontsize=14)\n",
    "ax.legend()\n",
    "plt.show()"
   ]
  },
  {
   "cell_type": "markdown",
   "metadata": {},
   "source": [
    "***Again...Qiskit timing seems to increase linearly (the CNOT is also a Clifford gate) using the qasm_simulator backend, but not in the state_vector backend. Qulacs performs better***"
   ]
  },
  {
   "cell_type": "code",
   "execution_count": null,
   "metadata": {},
   "outputs": [],
   "source": [
    "# memory allocation\n",
    "fig, ax = plt.subplots(1, 1, figsize=(5, 5), dpi=150) \n",
    "\n",
    "# the whole graph\n",
    "ax.plot(y1, qisCNOTmem, 'c', label='Qiskit_statevector', linewidth=2, marker='^', markersize=4)\n",
    "ax.plot(y1, qisCNOTmem_qasm, 'c', label='Qiskit_qasm', linewidth=2, marker='o', markersize=4)\n",
    "ax.plot(y1, qulCNOTmem, 'm', label='Qulacs', linewidth=2, marker='x', markersize=4)\n",
    "#plt.xticks(np.arange(2, qisQubitsCNOT, step=4))\n",
    "plt.title('CNOT', fontsize=14)\n",
    "ax.legend()\n",
    "plt.xlabel('$n$ qubits', fontsize=14)\n",
    "plt.ylabel('mem allocation', fontsize=14)\n",
    "plt.show()"
   ]
  },
  {
   "cell_type": "markdown",
   "metadata": {},
   "source": [
    "*** TODO: I have to say I was expecting an increase in memory allocation when using entangling gates, I woudl expect larger and larger matrices/vectors. Can we check this somehow?***"
   ]
  },
  {
   "cell_type": "markdown",
   "metadata": {},
   "source": [
    "#### T gate"
   ]
  },
  {
   "cell_type": "code",
   "execution_count": null,
   "metadata": {},
   "outputs": [],
   "source": [
    "# QISKIT T-gate statevector\n",
    "from qiskit import QuantumCircuit, QuantumRegister, ClassicalRegister, execute, Aer, IBMQ\n",
    "from qulacs import Observable, QuantumState, QuantumCircuit as QC\n",
    "import time\n",
    "import tracemalloc\n",
    "import resource\n",
    "import matplotlib.pyplot as plt\n",
    "from mpl_toolkits.axes_grid1.inset_locator import mark_inset, inset_axes\n",
    "from qiskit.visualization import plot_histogram\n",
    "import numpy as np\n",
    "# Amount of qubits we are going to simulate\n",
    "qisQubitsT = 20\n",
    "times = 10\n",
    "\n",
    "# Array for the results to plot them afterwards\n",
    "qisT = np.array([], dtype=float)\n",
    "qisTmem = np.array([], dtype=float)\n",
    "for p in range(2, qisQubitsT):\n",
    "    tt_tot = 0.0\n",
    "    rss_tot = 0.0\n",
    "    for t in range(times):\n",
    "        tracemalloc.start()\n",
    "        t_start = time.perf_counter()\n",
    "\n",
    "        # defining the device \n",
    "        q = QuantumRegister(p, 'q')\n",
    "        c = ClassicalRegister(p, 'c')\n",
    "        circT = QuantumCircuit(q, c)\n",
    "        circT.t(q)\n",
    "\n",
    "        # the default backend\n",
    "        backend = Aer.get_backend('statevector_simulator')\n",
    "        state = execute(circT, backend).result().get_statevector()\n",
    "\n",
    "\n",
    "        snapshot = tracemalloc.take_snapshot()\n",
    "        top_stats = snapshot.statistics('lineno')\n",
    "        tracemalloc.stop()\n",
    "        max_rss = resource.getrusage(resource.RUSAGE_SELF).ru_maxrss\n",
    "        rss_tot += max_rss\n",
    "\n",
    "        t_stop = time.perf_counter()\n",
    "        t_tot = t_stop - t_start\n",
    "\n",
    "        tt_tot += t_tot\n",
    "    \n",
    "        del q\n",
    "        del c\n",
    "        del circT\n",
    "        del state\n",
    "        \n",
    "    rss_avg = rss_tot / times \n",
    "    qisTmem = np.append(qisTmem, [rss_avg])\n",
    "\n",
    "    t_avg = tt_tot / times\n",
    "    qisT= np.append(qisT, [t_avg])\n",
    "\n",
    "print(qisT)"
   ]
  },
  {
   "cell_type": "code",
   "execution_count": null,
   "metadata": {},
   "outputs": [],
   "source": [
    "#QISKIT Tgate qasm\n",
    "from qiskit import QuantumCircuit, QuantumRegister, ClassicalRegister, execute, Aer, IBMQ\n",
    "from qulacs import Observable, QuantumState, QuantumCircuit as QC\n",
    "import time\n",
    "import tracemalloc\n",
    "import resource\n",
    "import matplotlib.pyplot as plt\n",
    "from mpl_toolkits.axes_grid1.inset_locator import mark_inset, inset_axes\n",
    "from qiskit.visualization import plot_histogram\n",
    "import numpy as np\n",
    "# Amount of qubits we are going to simulate\n",
    "qisQubitsT = 20\n",
    "times = 10\n",
    "\n",
    "# Array for the results to plot them afterwards\n",
    "qisT_qasm = np.array([], dtype=float)\n",
    "qisTmem_qasm = np.array([], dtype=float)\n",
    "for p in range(2, qisQubitsT):\n",
    "    tt_tot = 0.0\n",
    "    rss_tot = 0.0\n",
    "    for t in range(times):\n",
    "        tracemalloc.start()\n",
    "        t_start = time.perf_counter()\n",
    "\n",
    "        # defining the device \n",
    "        q = QuantumRegister(p, 'q')\n",
    "        c = ClassicalRegister(p, 'c')\n",
    "        circT = QuantumCircuit(q, c)\n",
    "        circT.t(q)\n",
    "\n",
    "        # the default backend\n",
    "        job = execute(circT, Aer.get_backend('qasm_simulator')).result()\n",
    "\n",
    "        snapshot = tracemalloc.take_snapshot()\n",
    "        top_stats = snapshot.statistics('lineno')\n",
    "        tracemalloc.stop()\n",
    "        max_rss = resource.getrusage(resource.RUSAGE_SELF).ru_maxrss\n",
    "        rss_tot += max_rss\n",
    "\n",
    "        t_stop = time.perf_counter()\n",
    "        t_tot = t_stop - t_start\n",
    "\n",
    "        tt_tot += t_tot\n",
    "    \n",
    "        del q\n",
    "        del c\n",
    "        del circT\n",
    "        del job\n",
    "        \n",
    "    rss_avg = rss_tot / times \n",
    "    qisTmem_qasm = np.append(qisTmem_qasm, [rss_avg])\n",
    "\n",
    "    t_avg = tt_tot / times\n",
    "    qisT_qasm= np.append(qisT_qasm, [t_avg])\n",
    "\n",
    "print(qisT)"
   ]
  },
  {
   "cell_type": "code",
   "execution_count": null,
   "metadata": {},
   "outputs": [],
   "source": [
    "#QULACS T-gate\n",
    "from qiskit import QuantumCircuit, QuantumRegister, ClassicalRegister, execute, Aer, IBMQ\n",
    "from qulacs import Observable, QuantumState, QuantumCircuit as QC\n",
    "import time\n",
    "import tracemalloc\n",
    "import resource\n",
    "import matplotlib.pyplot as plt\n",
    "from mpl_toolkits.axes_grid1.inset_locator import mark_inset, inset_axes\n",
    "from qiskit.visualization import plot_histogram\n",
    "import numpy as np\n",
    "\n",
    "# Amount of qubits we are going to simulate\n",
    "qulQubitsT = 20\n",
    "times = 10\n",
    "\n",
    "# Array for the results to plot them afterwards\n",
    "qulT = np.array([], dtype=float)\n",
    "qulTmem = np.array([], dtype=float)\n",
    "\n",
    "for p in range(2, qulQubitsT):\n",
    "    tt_tot = 0.0\n",
    "    rss_tot = 0.0\n",
    "    for t in range(times):\n",
    "        tracemalloc.start()       \n",
    "\n",
    "        state = QuantumState(p)\n",
    "        state.set_zero_state()\n",
    "\n",
    "        circuit = QC(p)\n",
    "        t_start = time.perf_counter()\n",
    "        \n",
    "        for i in range(p):\n",
    "            # check\n",
    "            circuit.add_T_gate(i)\n",
    "\n",
    "        circuit.update_quantum_state(state)\n",
    "        output = state\n",
    "        snapshot = tracemalloc.take_snapshot()\n",
    "        top_stats = snapshot.statistics('lineno')\n",
    "        tracemalloc.stop()\n",
    "        max_rss = resource.getrusage(resource.RUSAGE_SELF).ru_maxrss\n",
    "        rss_tot += max_rss\n",
    "        \n",
    "        del circuit\n",
    "        del state\n",
    "\n",
    "        t_stop = time.perf_counter()\n",
    "        t_tot = t_stop - t_start\n",
    "\n",
    "        tt_tot += t_tot\n",
    "        \n",
    "    rss_avg = rss_tot / times \n",
    "    qulTmem = np.append(qulTmem, [rss_avg])\n",
    "\n",
    "    t_avg = tt_tot / times\n",
    "    qulT = np.append(qulT, [t_avg])\n",
    "\n",
    "print(qulT)\n",
    "print(qulTmem)\n"
   ]
  },
  {
   "cell_type": "code",
   "execution_count": null,
   "metadata": {},
   "outputs": [],
   "source": [
    "y1 = []\n",
    "if qisQubitsT <= qulQubitsT: \n",
    "    for i in range(qulQubitsT - qisQubitsT): \n",
    "        qisT = np.append(qisT, [np.nan])\n",
    "        qisTmem = np.append(qisTmem, [np.nan])\n",
    "        qisT_qasm = np.append(qisT, [np.nan])\n",
    "        qisTmem_qasm = np.append(qisTmem, [np.nan])\n",
    "    y1 = range(2, qulQubitsT)\n",
    "elif qisQubitsT > qulQubitsT:\n",
    "    for i in range(qisQubitsT - qulQubitsT): \n",
    "        qulT = np.append(qulT, [np.nan])\n",
    "        qulTmem = np.append(qulTmem, [np.nan])\n",
    "    y1 = range(2, qisQubitsT)\n",
    "else:\n",
    "    y1 = range(2, qisQubitsT)\n",
    "\n",
    "# TIME\n",
    "fig, ax = plt.subplots(1, 1, figsize=(5, 5), dpi=150) \n",
    "ax.plot(y1, qisT, 'c', label='Qiskit_statevector', linewidth=2, marker='^', markersize=4)\n",
    "ax.plot(y1, qulT, 'm', label='Qulacs', linewidth=2, marker='x', markersize=4)\n",
    "#plt.xticks(np.arange(2, qisQubitsCNOT, step=4))\n",
    "plt.title('T-gate', fontsize=14)\n",
    "\n",
    "plt.xlabel('$n$ qubits', fontsize=14)\n",
    "plt.ylabel('time in seconds', fontsize=14)\n",
    "ax.legend()\n",
    "\n",
    "plt.show()"
   ]
  },
  {
   "cell_type": "markdown",
   "metadata": {},
   "source": [
    "The T gate is a rotation around the z axis by θ=π/4.\n",
    "Here we can see, that now also the simulation time using the qasm_simulator backend also increases exponentially after some qubits. The T-gate is not a Clifford gate."
   ]
  },
  {
   "cell_type": "code",
   "execution_count": null,
   "metadata": {},
   "outputs": [],
   "source": [
    "fig, ax = plt.subplots(1, 1, figsize=(5, 5), dpi=150) \n",
    "ax.plot(y1, qisTmem, 'c', label='Qiskit_statevector', linewidth=2, marker='^', markersize=4)\n",
    "ax.plot(y1, qisTmem_qasm, 'c', label='Qiskit_qasm', linewidth=2, marker='o', markersize=4)\n",
    "ax.plot(y1, qulTmem, 'm', label='Qulacs', linewidth=2, marker='x', markersize=4)\n",
    "#plt.xticks(np.arange(2, qisQubitsCNOT, step=4))\n",
    "plt.title('T-gate', fontsize=14)\n",
    "\n",
    "plt.xlabel('$n$ qubits', fontsize=14)\n",
    "plt.ylabel('memory allocation', fontsize=14)\n",
    "ax.legend()\n",
    "\n",
    "plt.show()"
   ]
  },
  {
   "cell_type": "markdown",
   "metadata": {},
   "source": [
    "## 3 Random circuits<a id='RC'></a>\n",
    "\n",
    "### 3.1. Implementation 1 <a id='RC1'></a>\n",
    "\n",
    "A random circuit contains  a  random  sequence  of  gates from a given set. Here we will follow the algorithm from https://arxiv.org/abs/1608.00263 to generate the random circuits. The topology is fixed (a linear array or a grid depending on 1D or 2D) for a given depth and number of qubits, but it randomises the sequence of single qubit gates. The total number of gates goes like $O(n*d), d=$depth of circuit and the ratio between single and control gates is fixed to 1.2 $\\pm$ 0.2\n",
    "\n",
    "The general algorithm goes as follow:\n",
    "- Start with a cycle of Hadmards \n",
    "- Follow by some controlled-phase (CZ) gates \n",
    "- Folow by single-qubit gates chosen at random from the set {X1/2,Y1/2,T} at all qubits that are not occupied by the CZ gates at the same cycle (subject to the restrictions below). \n",
    "\n",
    "Single-qubit gates are placed subject to the following rules:\n",
    "- Place a gate at qubit q only if this qubit is occupied by a CZ gate in the previous cycle\n",
    "- Place  a  T  gate  at  qubit q if there are no single-qubit gates in the previous cycles at qubit q except for the initial cycle of Hadamard gates.\n",
    "- Any  gate  at  qubit q should be different from the gate at qubit q in the previous cycle\n",
    "\n",
    "As a brief background, if we think of the probability amplitudes of a single qubit as a vector in a 3D sphere, all single qubit gates modify the vector by rotating it in the \"Bloch\" sphere. The X gate rotates it 180 degrees. The T-gate is a single qubit 45 degree shift and the X1/2(Y1/2) are a $\\pi/2= 90^\\circ$ rotations around the X(Y) axis in the Bloch sphere. The Controlled Z (CZ) is a two-qubit gate and is the controlled version of the Z gate (same as CNOT being the controlled version of the X-gate). This gate applies a Z operation (change of sign in the |1> state) on the target qubit when the control is |1>. It can also be described as a conditional operation that performs a sign shift only when the two qubit state is |11>.\n",
    "\n"
   ]
  },
  {
   "cell_type": "code",
   "execution_count": null,
   "metadata": {},
   "outputs": [],
   "source": [
    "# Random Circuit 1 qiskit statevector\n",
    "# amount of qubits we are going to run\n",
    "from qiskit import QuantumCircuit, QuantumRegister, ClassicalRegister, execute, Aer, IBMQ\n",
    "from qulacs import Observable, QuantumState, QuantumCircuit as QC\n",
    "import time\n",
    "import tracemalloc\n",
    "import resource\n",
    "import matplotlib.pyplot as plt\n",
    "from mpl_toolkits.axes_grid1.inset_locator import mark_inset, inset_axes\n",
    "from qiskit.visualization import plot_histogram\n",
    "import numpy as np\n",
    "import random\n",
    "\n",
    "depth = 20\n",
    "width = 20\n",
    "\n",
    "qisRC1t = np.array([], dtype=float)\n",
    "qisRC1m = np.array([], dtype=float)\n",
    "\n",
    "# array with every possible gate for this implementation \n",
    "arr = ['T', 'X(1/2)', 'Y(1/2)']\n",
    "\n",
    "qubitsArrayCZ_prev = width*[False]\n",
    "qubitsArrayT_prev = width*[False]\n",
    "qubitsArrayX_prev = width*[False]\n",
    "qubitsArrayY_prev = width*[False]\n",
    "\n",
    "qubitsArrayCZ = width*[False]\n",
    "qubitsArrayT = width*[False]\n",
    "qubitsArrayX = width*[False]\n",
    "qubitsArrayY = width*[False]\n",
    "\n",
    "# initializing variable\n",
    "CZGate = True\n",
    "CZ = width/2.0\n",
    "counter = 0 \n",
    "times = 10\n",
    "\n",
    "#ratio_tot = 0.0\n",
    "ratio_avg = 0.0\n",
    "\n",
    "for w in range(2, width):\n",
    "    print (\"width {}\".format(w))\n",
    "    tt_tot = 0.0\n",
    "    rss_tot = 0.0\n",
    "    ratio_tot = 0.0\n",
    "    # Randomly applying the random circuit gate set\n",
    "    for t in range(0, times):\n",
    "        CZ_tot = 0.0\n",
    "        T_tot = 0.0\n",
    "        X_tot = 0.0\n",
    "        Y_tot = 0.0\n",
    "        single_tot = 0.0\n",
    "        \n",
    "        tracemalloc.start()  \n",
    "        t_start = time.perf_counter()\n",
    "    \n",
    "        # defining the device \n",
    "        q = QuantumRegister(w, 'q')\n",
    "        c = ClassicalRegister(w, 'c')\n",
    "        circR1 = QuantumCircuit(q, c)\n",
    "    \n",
    "        # apply cycle Hadamards\n",
    "        circR1.h(q)\n",
    "    \n",
    "        for i in range(0, depth):\n",
    "            if w < 4:\n",
    "                initCZgates = int(w/2.0)\n",
    "            else:\n",
    "                initCZgates = int((w)/4.0) # decide on this one\n",
    "            # apply CZ randomly\n",
    "            for j in range(0, initCZgates):\n",
    "                while CZGate:\n",
    "                    q0 = random.randint(0, w - 2 )\n",
    "                    q1 = q0 + 1\n",
    "                    if i == 0:\n",
    "                        if qubitsArrayCZ[q0] == False and qubitsArrayCZ[q1] == False:\n",
    "                            circR1.cz(q0,q1)\n",
    "                            qubitsArrayCZ[q0] = True\n",
    "                            qubitsArrayCZ[q1] = True\n",
    "                            CZGate = False\n",
    "                    elif i != 0 and qubitsArrayCZ_prev[q0] == False:\n",
    "                        if qubitsArrayCZ[q0] == False and qubitsArrayCZ[q1] == False:\n",
    "                            circR1.cz(q0,q1)\n",
    "                        \n",
    "                            qubitsArrayCZ[q0] = True\n",
    "                            qubitsArrayCZ[q1] = True\n",
    "                            CZGate = False\n",
    "                    else:\n",
    "                        counter += 1\n",
    "                    if counter > 2:\n",
    "                        break\n",
    "                counter = 0 \n",
    "                        \n",
    "                CZGate = True\n",
    "        \n",
    "            # apply single gate at random in rest qubits if previous gate is CZ:\n",
    "            for q in range(0, w):   \n",
    "           \n",
    "                if qubitsArrayCZ[q] == False:\n",
    "                    if i == 0:\n",
    "                        while True:\n",
    "                            rGate = np.random.choice(arr)\n",
    "                            if rGate == 'T' and qubitsArrayT_prev[q] == False:\n",
    "                                circR1.t(q)\n",
    "                                qubitsArrayT[q] = True \n",
    "                                break\n",
    "                            elif rGate == 'X(1/2)' and qubitsArrayX_prev[q] == False:\n",
    "                                circR1.x(q)\n",
    "                                qubitsArrayX[q] = True\n",
    "                                break\n",
    "                            elif rGate == 'Y(1/2)' and qubitsArrayY_prev[q] == False:\n",
    "                                circR1.y(q)\n",
    "                                qubitsArrayY[q] = True\n",
    "                                break\n",
    "                            else:\n",
    "                                counter = counter + 1\n",
    "                            if counter > 10:\n",
    "                                break\n",
    "\n",
    "                    elif i != 0 and qubitsArrayCZ_prev[q] == True:\n",
    "                        while True:\n",
    "                            rGate = np.random.choice(arr)\n",
    "                            if rGate == 'T' and qubitsArrayT_prev[q] == False:\n",
    "                                circR1.t(q)\n",
    "                                qubitsArrayT[q] = True \n",
    "                                break\n",
    "                            elif rGate == 'X(1/2)' and qubitsArrayX_prev[q] == False:\n",
    "                                circR1.x(q)\n",
    "                                qubitsArrayX[q] = True\n",
    "                                break\n",
    "                            elif rGate == 'Y(1/2)' and qubitsArrayY_prev[q] == False:\n",
    "                                circR1.y(q)\n",
    "                                qubitsArrayY[q] = True\n",
    "                                break\n",
    "                            else:\n",
    "                                counter += 1\n",
    "                            if counter > 10:\n",
    "                                break\n",
    "                    counter = 0\n",
    "            # compute ratio control and single gates\n",
    "            CZ = qubitsArrayCZ.count(True)\n",
    "            T = qubitsArrayT.count(True)\n",
    "            X = qubitsArrayX.count(True)\n",
    "            Y = qubitsArrayY.count(True)\n",
    "            \n",
    "            single = T + Y + X\n",
    "            CZ_tot += CZ\n",
    "            T_tot += T\n",
    "            Y_tot += Y\n",
    "            X_tot += X\n",
    "            single_tot += single\n",
    "            qubitsArrayT_prev = qubitsArrayT\n",
    "            qubitsArrayX_prev = qubitsArrayX\n",
    "            qubitsArrayY_prev = qubitsArrayY\n",
    "            qubitsArrayCZ_prev = qubitsArrayCZ\n",
    "            qubitsArrayT = [ False for x in range(width)]\n",
    "            qubitsArrayX = [ False for x in range(width)]\n",
    "            qubitsArrayY = [ False for x in range(width)]\n",
    "            qubitsArrayCZ = [ False for x in range(width)]\n",
    "            # compute ratio control and single gates\n",
    "\n",
    "        # the default backend\n",
    "        backend = Aer.get_backend('statevector_simulator')\n",
    "        state = execute(circR1, backend).result().get_statevector()\n",
    "\n",
    "        snapshot = tracemalloc.take_snapshot()\n",
    "        top_stats = snapshot.statistics('lineno')\n",
    "        tracemalloc.stop()\n",
    "        max_rss = resource.getrusage(resource.RUSAGE_SELF).ru_maxrss\n",
    "        rss_tot += max_rss\n",
    "\n",
    "        t_stop = time.perf_counter()\n",
    "        t_tot = t_stop - t_start\n",
    "\n",
    "        tt_tot += t_tot\n",
    "\n",
    "        if t < times - 1:\n",
    "            del q\n",
    "            del c\n",
    "            del circR1\n",
    "            del state        \n",
    "\n",
    "\n",
    "        #print (\" Time {}\".format(t))\n",
    "        #print (\"Ratio single/controlled: {}\".format(single_tot/(CZ_tot/2.0)))\n",
    "        #print (\" T gates: {}\".format(T_tot))\n",
    "        #print (\" X gates: {}\".format(X_tot))\n",
    "        #print (\" Y gates: {}\".format(Y_tot))\n",
    "        #print (\" CZ gates: {}\".format(CZ_tot/2.0))\n",
    "       # print (\" Total  gates: {}\".format(CZ_tot/2.0 + single_tot))\n",
    "        #print (\"time: {}\".format(t_tot))\n",
    "        ratio_tot += (single_tot/(CZ_tot/2.0))\n",
    "    ratio_avg = ratio_tot/times\n",
    "    ratio_tot = 0.0\n",
    "    rss_avg = rss_tot / times \n",
    "    qisRC1m = np.append(qisRC1m, [rss_avg])\n",
    "    t_avg = tt_tot / times\n",
    "    qisRC1t = np.append(qisRC1t, [t_avg])\n",
    "    #print (\"time_av: {}\".format(t_avg))\n",
    "    print (\"ratio_av: {}\".format(ratio_avg))\n",
    "print (qisRC1t)\n",
    "print(qisRC1m)              \n",
    " "
   ]
  },
  {
   "cell_type": "code",
   "execution_count": null,
   "metadata": {},
   "outputs": [],
   "source": [
    "# to visualize last random circuit:\n",
    "circR1.draw(output='mpl')\n",
    "\n"
   ]
  },
  {
   "cell_type": "code",
   "execution_count": null,
   "metadata": {},
   "outputs": [],
   "source": [
    "y1 = range(2, width)\n",
    "\n",
    "# TIME\n",
    "fig, ax = plt.subplots(1, 1, figsize=(5, 5), dpi=150) \n",
    "ax.plot(y1, qisRC1t, 'c', label='Qiskit_RC1', linewidth=2, marker='^', markersize=4)\n",
    "#ax.plot(y1, qulT, 'm', label='Qulacs', linewidth=2, marker='x', markersize=4)\n",
    "#plt.xticks(np.arange(2, qisQubitsCNOT, step=4))\n",
    "plt.title('Random circuit 1', fontsize=14)\n",
    "\n",
    "plt.xlabel('$n$ qubits', fontsize=14)\n",
    "plt.ylabel('time in seconds', fontsize=14)\n",
    "ax.legend()\n",
    "\n",
    "plt.show()"
   ]
  },
  {
   "cell_type": "code",
   "execution_count": null,
   "metadata": {},
   "outputs": [],
   "source": [
    "# memory\n",
    "fig, ax = plt.subplots(1, 1, figsize=(5, 5), dpi=150) \n",
    "ax.plot(y1, qisRC1m, 'c', label='Qiskit_RC1', linewidth=2, marker='^', markersize=4)\n",
    "#ax.plot(y1, qulT, 'm', label='Qulacs', linewidth=2, marker='x', markersize=4)\n",
    "#plt.xticks(np.arange(2, qisQubitsCNOT, step=4))\n",
    "plt.title('Random circuit 1', fontsize=14)\n",
    "\n",
    "plt.xlabel('$n$ qubits', fontsize=14)\n",
    "plt.ylabel('memory allocated', fontsize=14)\n",
    "ax.legend()\n",
    "\n",
    "plt.show()"
   ]
  },
  {
   "cell_type": "markdown",
   "metadata": {},
   "source": [
    "For the memory we are measuring the maximum resident set size (portion of memory occupied by a process that is held in main memory (RAM)) it takes to run.\n",
    "\n",
    "**TODO implement this in qulacs, maybe improve where and how the time of the circuit is measured**"
   ]
  },
  {
   "cell_type": "markdown",
   "metadata": {},
   "source": [
    "### 3.2 Implementation 2  <a id='RC2'></a>\n",
    "Below a random circuit with no restrictions at all, using the same gate set as before:"
   ]
  },
  {
   "cell_type": "code",
   "execution_count": null,
   "metadata": {
    "pycharm": {
     "is_executing": false
    }
   },
   "outputs": [],
   "source": [
    "# Random Circuit 2 qiskit statevector\n",
    "from qiskit import QuantumCircuit, QuantumRegister, ClassicalRegister, execute, Aer, IBMQ\n",
    "from qulacs import Observable, QuantumState, QuantumCircuit as QC\n",
    "import time\n",
    "import tracemalloc\n",
    "import resource\n",
    "import matplotlib.pyplot as plt\n",
    "from mpl_toolkits.axes_grid1.inset_locator import mark_inset, inset_axes\n",
    "from qiskit.visualization import plot_histogram\n",
    "import numpy as np\n",
    "import random\n",
    "\n",
    "qisRC2t = np.array([], dtype=float)\n",
    "qisRC2m = np.array([], dtype=float)\n",
    "\n",
    "qisQubitsRC2 = 20\n",
    "times = 10\n",
    "\n",
    "for k in range(2, qisQubitsRC2):\n",
    "    tt_tot = 0.0\n",
    "    rss_tot = 0.0     \n",
    "    for t in range(times):\n",
    "        tracemalloc.start()\n",
    "        t_start = time.perf_counter()\n",
    "\n",
    "        # defining the device\n",
    "        q = QuantumRegister(k, 'q')\n",
    "        c = ClassicalRegister(k, 'c')\n",
    "        circR1 = QuantumCircuit(q, c)\n",
    "\n",
    "        for i in range(depth):\n",
    "            amount = np.random.randint(0, 3)\n",
    "            for j in range(amount):\n",
    "                # chosing a random gate and applying it on a random circuit\n",
    "                rGate = np.random.choice(arr)\n",
    "                i0 = np.random.randint(0, k)\n",
    "                i1 = np.random.randint(0, k)\n",
    "                while i0 == i1: i1 = np.random.randint(0, k)\n",
    "\n",
    "                if rGate == 'H':\n",
    "                    circR1.h(q[i0])\n",
    "                elif rGate == 'T':\n",
    "                    circR1.t(q[i0])\n",
    "                elif rGate == 'X':\n",
    "                    circR1.x(q[i0])\n",
    "                elif rGate == 'Y':\n",
    "                    circR1.y(q[i0])\n",
    "                elif rGate == 'C(Z)':\n",
    "                    circR1.cz(q[i0], q[i1])\n",
    "\n",
    "        circR1.measure(q, c)\n",
    "\n",
    "        # the default backend to run the whole circuit\n",
    "        backend = Aer.get_backend('qasm_simulator')\n",
    "        job_sim = execute(circR1, backend)\n",
    "        result = job_sim.result()\n",
    "        \n",
    "        snapshot = tracemalloc.take_snapshot()\n",
    "        top_stats = snapshot.statistics('lineno')\n",
    "        tracemalloc.stop()\n",
    "        max_rss = resource.getrusage(resource.RUSAGE_SELF).ru_maxrss\n",
    "        rss_tot += max_rss \n",
    "\n",
    "        t_stop = time.perf_counter()\n",
    "        t_tot = t_stop - t_start\n",
    "        tt_tot += t_tot\n",
    "        \n",
    "    rss_avg = rss_tot / times\n",
    "    qisRC2m = np.append(qisRC2m, [t_avg])\n",
    "        \n",
    "    t_avg = tt_tot / times\n",
    "    qisRC2t = np.append(qisRC2t, [t_avg])\n",
    "    \n",
    "print(qisRC2t)"
   ]
  },
  {
   "cell_type": "markdown",
   "metadata": {},
   "source": [
    "The code for measuring the time it takes to run this random circuit implementation in Qulacs:"
   ]
  },
  {
   "cell_type": "code",
   "execution_count": null,
   "metadata": {},
   "outputs": [],
   "source": [
    "# Random Circuit 2 qulacs\n",
    "from qiskit import QuantumCircuit, QuantumRegister, ClassicalRegister, execute, Aer, IBMQ\n",
    "from qulacs import Observable, QuantumState, QuantumCircuit as QC\n",
    "import time\n",
    "import tracemalloc\n",
    "import resource\n",
    "import matplotlib.pyplot as plt\n",
    "from mpl_toolkits.axes_grid1.inset_locator import mark_inset, inset_axes\n",
    "from qiskit.visualization import plot_histogram\n",
    "import numpy as np\n",
    "import random\n",
    "\n",
    "qulRC2t = np.array([], dtype=float)\n",
    "qulRC2m = np.array([], dtype=float)\n",
    "\n",
    "qulQubitsRC2 = 20\n",
    "times = 10\n",
    "\n",
    "for k in range(2, qulQubitsRC2):\n",
    "    rss_tot = 0.0\n",
    "    tt_tot = 0.0\n",
    "    for t in range(times):\n",
    "        tracemalloc.start()\n",
    "        t_start = time.perf_counter()\n",
    "\n",
    "        state = QuantumState(k)\n",
    "        state.set_zero_state()\n",
    "\n",
    "        circuit = QC(k)\n",
    "\n",
    "        for i in range(depth):\n",
    "            amount = np.random.randint(0, 3)\n",
    "            for j in range(amount):\n",
    "                rGate = np.random.choice(arr)\n",
    "                i0 = np.random.randint(0, k)\n",
    "                i1 = np.random.randint(0, k)\n",
    "                while i0 == i1: i1 = np.random.randint(0, k)\n",
    "\n",
    "                if rGate == 'H':\n",
    "                    circuit.add_H_gate(i0)\n",
    "                elif rGate == 'T':\n",
    "                    circuit.add_T_gate(i0)\n",
    "                elif rGate == 'X':\n",
    "                    circuit.add_X_gate(i0)\n",
    "                elif rGate == 'Y':\n",
    "                    circuit.add_Y_gate(i0)\n",
    "                elif rGate == 'C(Z)':\n",
    "                    circuit.add_CZ_gate(i0, i1)\n",
    "\n",
    "        circuit.update_quantum_state(state)\n",
    "        output = state\n",
    "        del circuit\n",
    "        del state\n",
    "                \n",
    "        snapshot = tracemalloc.take_snapshot()\n",
    "        top_stats = snapshot.statistics('lineno')\n",
    "        tracemalloc.stop()\n",
    "        max_rss = resource.getrusage(resource.RUSAGE_SELF).ru_maxrss\n",
    "\n",
    "        rss_tot += max_rss\n",
    "\n",
    "        t_stop = time.perf_counter()\n",
    "        t_tot = t_stop - t_start\n",
    "\n",
    "        tt_tot += t_tot\n",
    "        \n",
    "    rss_avg = rss_tot / times\n",
    "    qulRC2m = np.append(qulRC2m, [rss_avg])\n",
    "\n",
    "    t_avg = tt_tot / times\n",
    "    qulRC2t = np.append(qulRC2t, [t_avg])\n",
    "\n",
    "print(qulRC2t)"
   ]
  },
  {
   "cell_type": "markdown",
   "metadata": {},
   "source": [
    "This is so you can play with the amount of qubits and still can plot the graph without problems. "
   ]
  },
  {
   "cell_type": "code",
   "execution_count": null,
   "metadata": {},
   "outputs": [],
   "source": [
    "y2 = []\n",
    "if qisQubitsRC2 < qulQubitsRC2: \n",
    "    for i in range(qulQubitsRC2 - qisQubitsRC2): \n",
    "        qisRC2t = np.append(qisRC2t, [np.nan])\n",
    "    y2 = range(2, qulQubitsRC2)\n",
    "    n = qulQubitaRC2\n",
    "elif qisQubitsRC1 > qulQubitsRC2:\n",
    "    for i in range(qisQubitsRC2 - qulQubitsRC2): \n",
    "        qulRC2t = np.append(qulRC2t, [np.nan])\n",
    "    y2 = range(2, qisQubitsRC2)\n",
    "    n = qisQubitsRC2\n",
    "else:\n",
    "    y2 = range(2, qisQubitsRC2)\n",
    "    n = qulQubitsRC2\n",
    "    \n",
    "print (len(y2))\n",
    "print (len(qulRC2t))"
   ]
  },
  {
   "cell_type": "markdown",
   "metadata": {
    "pycharm": {
     "is_executing": false,
     "name": "#%% md\n"
    }
   },
   "source": [
    "Below we will put these results in a graph in which you can see the time it takes to execute the random circuits on the increasing amount of qubits. "
   ]
  },
  {
   "cell_type": "code",
   "execution_count": null,
   "metadata": {
    "pycharm": {
     "is_executing": false,
     "name": "#%%\n"
    }
   },
   "outputs": [],
   "source": [
    "#TIME\n",
    "fig, ax = plt.subplots(1, 1, figsize=(5, 5), dpi=150) \n",
    "# the whole graph\n",
    "plt.plot(y2, qisRC2t, 'c', label='Qiskit_RC2', linewidth=2, marker='^', markersize=4)\n",
    "plt.plot(y2, qulRC2t, 'm', label='Qulacs', linewidth=2, marker='x', markersize=4)\n",
    "ax.plot(y1, qisRC1t, 'c', label='Qiskit_RC1', linewidth=2, marker='o', markersize=4)\n",
    "plt.xticks(np.arange(2, qisQubitsRC1, step=2))\n",
    "plt.title('Random Circuit 1', fontsize=14)\n",
    "\n",
    "plt.xlabel('$n$ qubits', fontsize=14)\n",
    "plt.ylabel('time in seconds', fontsize=14)\n",
    "plt.legend()\n",
    "plt.xticks(np.arange(2, n, step=2))\n",
    "\n",
    "# show the whole graph\n",
    "plt.show()"
   ]
  },
  {
   "cell_type": "markdown",
   "metadata": {},
   "source": [
    "Probably the extra time of RC1 is due to all the logic, figure out if we can improve this timing to point out the effect of a given ratio between single and control gates and also the T gate"
   ]
  },
  {
   "cell_type": "markdown",
   "metadata": {},
   "source": [
    "In this graph Qulacs is the most efficient. In this case Qiskit can not simulate 67 qubits, this is because the T- and the CZ-gate are not Clifford gates, their simulation scales exponentially! From this result we can conclued that the Clifford gates are only gates that are optimized in Qiskit."
   ]
  },
  {
   "cell_type": "code",
   "execution_count": null,
   "metadata": {},
   "outputs": [],
   "source": [
    "# MEMORY\n",
    "#fig, ax = plt.subplots(1, 1, figsize=(5, 5), dpi=150) \n",
    "\n",
    "# the whole graph\n",
    "plt.plot(y2, qisRC1m, 'c', label='Qiskit', linewidth=2, marker='^', markersize=4)\n",
    "plt.plot(y2, qulRC1m, 'm', label='Qulacs', linewidth=2, marker='x', markersize=4)\n",
    "plt.xticks(np.arange(2, qisQubitsRC1, step=2))\n",
    "plt.title('Random Circuit 1', fontsize=14)\n",
    "\n",
    "plt.xlabel('$n$ qubits', fontsize=14)\n",
    "plt.ylabel('Maximum resident set size', fontsize=14)\n",
    "plt.legend()\n",
    "\n",
    "plt.xticks(np.arange(2, n, step=2))\n",
    "\n",
    "# show the whole graph\n",
    "plt.show()"
   ]
  },
  {
   "cell_type": "markdown",
   "metadata": {},
   "source": [
    "### 3.3 Implementation 3  <a id='RC3'></a>\n",
    "Below a random circuit consisting of only Clifford gates"
   ]
  },
  {
   "cell_type": "code",
   "execution_count": null,
   "metadata": {},
   "outputs": [],
   "source": [
    "#QISKIT random circuit 3 only clifford gates\n",
    "# Random Circuit 2 qulacs\n",
    "from qiskit import QuantumCircuit, QuantumRegister, ClassicalRegister, execute, Aer, IBMQ\n",
    "from qulacs import Observable, QuantumState, QuantumCircuit as QC\n",
    "import time\n",
    "import tracemalloc\n",
    "import resource\n",
    "import matplotlib.pyplot as plt\n",
    "from mpl_toolkits.axes_grid1.inset_locator import mark_inset, inset_axes\n",
    "from qiskit.visualization import plot_histogram\n",
    "import numpy as np\n",
    "import random\n",
    "\n",
    "# the amount of qubits we will run\n",
    "qisQubitsClif = 20\n",
    "times = 10\n",
    "qisClifT = np.array([], dtype=float)\n",
    "\n",
    "# an array with every Clifford gate\n",
    "clifford = ['H', 'S', 'X', 'Y', 'Z', 'CX']  \n",
    "\n",
    "q = QuantumRegister(qisQubitsClif, 'q')\n",
    "c = ClassicalRegister(qisQubitsClif, 'c')\n",
    "circ = QuantumCircuit(q, c)\n",
    "\n",
    "for a in range(2, qisQubitsClif):\n",
    "    tt_tot = 0.0\n",
    "    for t in range(times):\n",
    "        t_start = time.perf_counter()\n",
    "        q = QuantumRegister(a, 'q')\n",
    "        c = ClassicalRegister(a, 'c')\n",
    "        circ = QuantumCircuit(q, c)\n",
    "\n",
    "        for i in range(depth):\n",
    "            amount = np.random.randint(0, 3)\n",
    "\n",
    "            for i in range(amount):\n",
    "                # chosing a random Clifford gate\n",
    "                rGate = np.random.choice(clifford)\n",
    "                i0 = np.random.randint(0, a)\n",
    "                i1 = np.random.randint(0, a)\n",
    "                while i0 == i1: i1 = np.random.randint(0, a)\n",
    "\n",
    "                if rGate == 'H':\n",
    "                    circ.h(q[i0])\n",
    "                elif rGate == 'S':\n",
    "                    circ.s(q[i0])\n",
    "                elif rGate == 'X':\n",
    "                    circ.x(q[i0])\n",
    "                elif rGate == 'Y':\n",
    "                    circ.y(q[i0])\n",
    "                elif rGate == 'Z':\n",
    "                    circ.z(q[i0])\n",
    "                elif rGate == 'CX':\n",
    "                    circ.cx(q[i0], q[i1])\n",
    "\n",
    "        circ.measure(q, c)\n",
    "\n",
    "        backend = Aer.get_backend('qasm_simulator')\n",
    "        job_sim = execute(circ, backend)\n",
    "        sim_result = job_sim.result()\n",
    "\n",
    "        t_stop = time.perf_counter()\n",
    "        t_tot = t_stop - t_start\n",
    "        tt_tot += t_tot\n",
    "\n",
    "    t_avg = tt_tot / times\n",
    "    qisClifT = np.append(qisClifT, [t_avg])\n",
    "\n",
    "print(qisClifT)"
   ]
  },
  {
   "cell_type": "code",
   "execution_count": null,
   "metadata": {},
   "outputs": [],
   "source": [
    "#Qulacs random circuit 3 only clifford gates\n",
    "from qiskit import QuantumCircuit, QuantumRegister, ClassicalRegister, execute, Aer, IBMQ\n",
    "from qulacs import Observable, QuantumState, QuantumCircuit as QC\n",
    "import time\n",
    "import tracemalloc\n",
    "import resource\n",
    "import matplotlib.pyplot as plt\n",
    "from mpl_toolkits.axes_grid1.inset_locator import mark_inset, inset_axes\n",
    "from qiskit.visualization import plot_histogram\n",
    "import numpy as np\n",
    "import random\n",
    "\n",
    "# the amount of qubits we will run\n",
    "qulQubitsClif = 20\n",
    "times = 10\n",
    "qulClifT = np.array([], dtype=float)\n",
    "\n",
    "for a in range(2, qulQubitsClif):\n",
    "    tt_tot = 0.0\n",
    "    for t in range(times):\n",
    "        t_start = time.perf_counter()\n",
    "\n",
    "        state = QuantumState(a)\n",
    "        state.set_zero_state()\n",
    "\n",
    "        circuit = QC(a)\n",
    "\n",
    "        for i in range(depth):\n",
    "            amount = np.random.randint(0, 3)\n",
    "            for j in range(amount):\n",
    "                rGate = np.random.choice(clifford)\n",
    "                i0 = np.random.randint(0, a)\n",
    "                i1 = np.random.randint(0, a)\n",
    "                while i0 == i1: i1 = np.random.randint(0, a)\n",
    "\n",
    "                if rGate == 'H':\n",
    "                    circuit.add_H_gate(i0)\n",
    "                elif rGate == 'S':\n",
    "                    circuit.add_S_gate(i0)\n",
    "                elif rGate == 'X':\n",
    "                    circuit.add_X_gate(i0)\n",
    "                elif rGate == 'Y':\n",
    "                    circuit.add_Y_gate(i0)\n",
    "                elif rGate == 'Z':\n",
    "                    circuit.add_Z_gate(i0)\n",
    "                elif rGate == 'CX':\n",
    "                    circuit.add_CNOT_gate(i0, i1)\n",
    "\n",
    "        circuit.update_quantum_state(state)\n",
    "        output = state\n",
    "        del circuit\n",
    "        del state\n",
    "\n",
    "        t_stop = time.perf_counter()\n",
    "\n",
    "        t_tot = t_stop - t_start\n",
    "        tt_tot += t_tot\n",
    "\n",
    "    t_avg = tt_tot / times\n",
    "    qulClifT = np.append(qulClifT, [t_avg])\n",
    "\n",
    "print(qulClifT)"
   ]
  },
  {
   "cell_type": "code",
   "execution_count": null,
   "metadata": {},
   "outputs": [],
   "source": [
    "fig, ax = plt.subplots(1, 1, figsize=(5, 5), dpi=150) \n",
    "y4 = []\n",
    "if qisQubitsClif < qulQubitsClif: \n",
    "    for i in range(qulQubitsClif - qisQubitsClif): \n",
    "        qisClifT = np.append(qisClifT, [np.nan])\n",
    "    y4 = range(2, qulQubitsClif)\n",
    "elif qisQubitsClif > qulQubitsClif:\n",
    "    for i in range(qisQubitsClif - qulQubitsClif): \n",
    "        qulClifT = np.append(qulClifT, [np.nan])\n",
    "    y4 = range(2, qisQubitsClif)\n",
    "else:\n",
    "    y4 = range(2, qisQubitsClif)  \n",
    "    \n",
    "# the whole graph\n",
    "\n",
    "ax.plot(y4, qisClifT, 'c', label='Qiskit', linewidth=2, marker='^', markersize=4)\n",
    "ax.plot(y4, qulClifT, 'm', label='Qulacs', linewidth=2, marker='x', markersize=4)\n",
    "plt.xticks(np.arange(2, qisQubitsRC1, step=2))\n",
    "plt.xticks(np.arange(2, qisQubitsClif, step=4))\n",
    "plt.title('Time Clifford gates', fontsize=14)\n",
    "\n",
    "plt.xlabel('$n$ qubits', fontsize=14)\n",
    "plt.ylabel('time in seconds', fontsize=14)\n",
    "ax.legend()\n",
    "\n",
    "# show the whole graph\n",
    "plt.show()"
   ]
  },
  {
   "cell_type": "markdown",
   "metadata": {},
   "source": [
    "## 3. Conclusion <a id='conclusion'></a>\n",
    "\n",
    "To further develop quantum algorithms it is necessary to have quantum software. Already there are a lot of different quantum software and libraries, therefore it would be great to look at the performances of some libraries. In this notebook we saw that a lot of research papers use random circuits to benchmark quantum and with quantum software and libraries most compare the time and memory it takes to execute a circuit. The problem with quantum simulators is that there are a lot and they are all different, this means it is difficult to compare these software and libraries with each other in a benchmark. \n",
    "\n",
    "In this notebook we have looked at the two python libraries Qiskit and Qulacs. These libraries have been chosen, because they are different from each other and interesting for researchers. Qiskit is a full-stack library with a lot of documentation and beginners guides, Qulacs is said to run fast and can run on a GPU. \n",
    "\n",
    "From the benchmarks in this notebook the conclusion is that Qulacs for circuits with 20 or less qubits the fastest is, because it compresses circuits to simulate them faster. But Qiskit is best for using Clifford gates on more then 20 qubits. Qulacs uses more maximum resident set size then Qiskit. "
   ]
  },
  {
   "cell_type": "markdown",
   "metadata": {
    "pycharm": {
     "name": "#%% md\n"
    }
   },
   "source": [
    "## References <a id='references'></a>\n",
    "\n",
    "1. Aaronson, S., & Gottesman, D. (2004). Improved simulation of stabilizer circuits.Physical ReviewA,70(5), 1–15. https://doi.org/10.1103/physreva.70.052328\n",
    "\n",
    "2. Abraham,  H.,  Akhalwaya,  I.  Y.,  Aleksandrowicz,  G.,  Alexander,  T.,  Alexandrowics,  G.,  Arbel,E.,  Asfaw,  A.,  Azaustre,  C.,  AzizNgoueya,  Barkoutsos,  P.,  Barron,  G.,  Bello,  L.,  Ben-Haim,  Y.,  Bevenius,  D.,  Bishop,  L.  S.,  Bosch,  S.,  Bravyi,  S.,  Bucher,  D.,  Cabrera,  F.,. . .  yotamvakninibm. (2019). Qiskit: An open-source framework for quantum computing.https://doi.org/10.5281/zenodo.2562110\n",
    "\n",
    "3. Asfaw, A., Bello, L., Ben-Haim, Y., Bravyi, S., Capelluto, L., Vazquez, A. C., Ceroni, J., Chen, R.,Frisch, A., Gambetta, J., Garion, S., Gil, L., Gonzalez, S. D. L. P., Harkins, F., Imamichi,T., McKay, D., Mezzacapo, A., Minev, Z., Movassagh, R., . . .  Wootton, J. (2020). Learnquantum computation using qiskit. http://community.qiskit.org/textbook\n",
    "\n",
    "4. Emerson, J. (2004). Pseudo-random unitary operators for quantum information processing.Sci-ence,302(5653). https://doi.org/10.1126/science.1090790\n",
    "\n",
    "5. Fingerhuth,  M.,  Babej,  T.,  &  Wittek,  P.  (2018).  Open  source  software  in  quantum  computing.PLOS ONE,13(12), 1–28. https://doi.org/10.1371/journal.pone.0208561\n",
    "\n",
    "6. Jones, T., Brown, A., Bush, I., & Benjamin, S. (2018). Quest and high performance simulation ofquantum computers. https://arxiv.org/pdf/1802.08032.pdf\n",
    "\n",
    "7. Qulacs. (2018). https://github.com/qulacs/qulacs"
   ]
  }
 ],
 "metadata": {
  "kernelspec": {
   "display_name": "Python 3",
   "language": "python",
   "name": "python3"
  },
  "language_info": {
   "codemirror_mode": {
    "name": "ipython",
    "version": 3
   },
   "file_extension": ".py",
   "mimetype": "text/x-python",
   "name": "python",
   "nbconvert_exporter": "python",
   "pygments_lexer": "ipython3",
   "version": "3.8.3"
  },
  "pycharm": {
   "stem_cell": {
    "cell_type": "raw",
    "metadata": {
     "collapsed": false
    },
    "source": []
   }
  }
 },
 "nbformat": 4,
 "nbformat_minor": 2
}
