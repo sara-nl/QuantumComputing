{
 "cells": [
  {
   "cell_type": "markdown",
   "metadata": {},
   "source": [
    "[Index](../Index.ipynb) - [Up](Basic_on_quantum_information.ipynb)"
   ]
  },
  {
   "cell_type": "markdown",
   "metadata": {},
   "source": [
    "## Quantum circuits <a id ='quantumcircuits'></a>\n",
    "\n",
    "Let us here introduce shortly the notion of quantum circuits. Quantum circuits are graphical representations of a quantum algorithm, read from the left to the right. On the very left, the individual qubits, the quantum registers can be found written under each other.  From there on to the right, there is a line, called a wire, that describes the evolution of the register during computation.  On this wire, one can apply unitary operations at a certain point, by means of quantum gates. Finally, the state is measured.\n",
    "\n"
   ]
  }
 ],
 "metadata": {
  "language_info": {
   "name": "plaintext"
  },
  "orig_nbformat": 4
 },
 "nbformat": 4,
 "nbformat_minor": 2
}
