{
 "cells": [
  {
   "cell_type": "markdown",
   "metadata": {},
   "source": [
    "[Index](../Index.ipynb) - [Up](Basic_on_quantum_information.ipynb)"
   ]
  },
  {
   "cell_type": "markdown",
   "metadata": {},
   "source": [
    "## Multiple qubits <a id ='multiplequbits'></a>\n",
    "\n",
    "In general, a quantum computer does not consist of one qubit but many qubits interacting among each other. That is also where the power of quantum computer comes from! \n",
    "\n",
    "The state of an n-qubit system ($|\\psi\\rangle$) is given by the tensor product of the individual n-qubit state vectors and the basis set is given by the tensor product of the one qubit basis states.\n",
    "\n",
    "The number of basis states of a system increases with the number of qubits as $2^n$ (n=number qubits) and as such it can be fully described by a vector with $2^n$ entries. For example, for a system of 2-qubits each qubit can be in state $|0\\rangle$ or $|1\\rangle$, this means that a 2-qubit system can be measured in states $|00\\rangle$, $|01\\rangle$, $|10\\rangle$ or $|11\\rangle$ (so all possible permutations). These are the basis states of the 2-qubit system. Before measuring, the 2-qubit system can be in any combination of these basis states:\n",
    "\n",
    "$|\\psi\\rangle = \\alpha|00\\rangle + \\beta|01\\rangle +\\gamma|10\\rangle +\\delta|11\\rangle$ \n",
    "\n",
    "and the state $|\\psi\\rangle$ can be fully represented by the vector $[\\alpha, \\beta,\\gamma, \\delta]^T$ given the basis states."
   ]
  }
 ],
 "metadata": {
  "language_info": {
   "name": "plaintext"
  },
  "orig_nbformat": 4
 },
 "nbformat": 4,
 "nbformat_minor": 2
}
