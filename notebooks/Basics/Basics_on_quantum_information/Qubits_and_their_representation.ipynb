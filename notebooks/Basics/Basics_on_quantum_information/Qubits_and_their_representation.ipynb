{
 "cells": [
  {
   "cell_type": "markdown",
   "metadata": {},
   "source": [
    "## Qubits and their representation <a id ='qubits'></a>\n",
    "\n",
    "Information in a quantum computer is stored in qubits.\n",
    "A qubit is a two state system with quantum properties. As opposed to a bit that can only be in state 0 or 1 (on or off), a qubit can have any value in between (like a dimmy light): a qubit can be in a combination (superposition) of the \"basis states\" $|0>$ and $|1>$:\n",
    "\n",
    "$|\\psi> = \\alpha|0> + \\beta|1>$  \n",
    "\n",
    "$| \\psi >$ (the state vector) is the sum of the two basis states:\n",
    "\n",
    "The qubit can not only have the value of $0$ or $1$ (on or off), but can be in any state in between (like a dimmy light). How on or how off depends on the coefficients $\\alpha$ and $\\beta$ (called probability amplitudes).\n",
    "\n",
    "Before we measure a qubit there are two possible outcomes: 0 or 1 (the basis states of the measurment), but when the qubit is measured we \"force\" it to collapse into one of this states. For the example above, the probability of measuring one state or the other (|0> or |1>) depends on how they contribute to the total state in the first place: depends on the values of $\\alpha$ and $\\beta$. The larger the magnitud of the probability amplitud the more likely it is we measure the associated state. \n",
    "\n",
    "The actual probability of measuring state |0> is given by $|\\alpha|^2$ and the actual probability of measuring state |1> is $|\\beta|^2$ ($\\alpha$ and $\\beta$ can also be negative or complex numbers!). Since the total probability of measuring a state has to be 1.0, we also know that $|\\alpha|^2 + |\\beta|^2 = 1$. \n",
    "\n",
    "As opposed to a classical bit, which can be described by only one number: 0 or 1, for a qubit we have to specify the basis states (if not the default) and two (complex) numbers: the probability amplitude. Therefore, once the basis set is given, a qubit can be fully described as a 2D vector:\n",
    "\n",
    "\\begin{bmatrix}\n",
    "           \\alpha \\\\\n",
    "           \\beta \\\\\n",
    "           \\end{bmatrix} \n",
    "\n",
    "where $\\alpha$ and $\\beta$ in their general form are of the type : $a+ib$. "
   ]
  }
 ],
 "metadata": {
  "language_info": {
   "name": "plaintext"
  },
  "orig_nbformat": 4
 },
 "nbformat": 4,
 "nbformat_minor": 2
}
