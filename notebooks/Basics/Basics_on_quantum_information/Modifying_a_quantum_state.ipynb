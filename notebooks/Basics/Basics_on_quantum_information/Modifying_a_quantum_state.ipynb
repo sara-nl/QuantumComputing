{
 "cells": [
  {
   "cell_type": "markdown",
   "metadata": {},
   "source": [
    "[Index](../Index.ipynb) - [Prev](Multiple_qubits.ipynb) - [Next](Quantum_circuits.ipynb) "
   ]
  },
  {
   "cell_type": "markdown",
   "metadata": {},
   "source": [
    "## Modifying a quantum state <a id ='modifyingastate'></a>\n",
    "\n",
    "Now that we are a bit familiar with qubits, the next question is: how can we manipulate them? How can we modify the state of an n-qubit system? \n",
    "\n",
    "Modifying a quantum state means modifiying the probability amplitudes that describe it, e.g. the entries in the vector $[\\alpha, \\beta,\\gamma, \\delta]^T$ that corrspond to a 2-qubit system:\n",
    "\n",
    "$|\\psi\\rangle = \\alpha|00\\rangle + \\beta|01\\rangle +\\gamma|10\\rangle +\\delta|11\\rangle$ \n",
    "\n",
    "Measurments are a type of operation that do this. They \"turn\" all probability amplitudes to zero, except for one, which will have a value of 1.0 (basically they project the quantum state into one of the basis states). \n",
    "There are however many other operations that can modify the entries of such a vector and therefore of the quantum state of an n-qubit system. These operations (called quantum gates) can be used to manipulate the quantum state into a given outcome, we can use them to solve a problem. A quantum algorithm is just a sequence of gates with a given prupose. \n",
    "\n",
    "A quantum gate can be represented as $2^n \\times 2^n$ unitary matrix (n - the number of qubits in the system). The application of quantum gates to qubits corresponds to the multiplication of the n-qubit quantum state vector with the quantum gate matrix and results in a modification of the $2^n$ quantum state vector. \n",
    "\n",
    "Some gates are comparable to classical gates. For example, the classical NOT gate can be compared to the quantum X gate. In classical computing, the NOT-gate converts a 0 into a 1 and a 1 into a 0. The quantum X-gate swaps the probability amplitudes of both states and converts $|\\psi\\rangle = \\alpha |0\\rangle + \\beta|1\\rangle$ into $|\\psi\\rangle= \\beta|1\\rangle + \\alpha|0\\rangle$, which basically means the probability of measuring 0 or 1 is swapped when we apply the X gate. For more examples of quantum gates we refer the reader to [this page](https://en.wikipedia.org/wiki/Quantum_logic_gate). For a more indepth knowledge of quantum gates we also recommend [this paper](https://arxiv.org/pdf/1110.2998.pdf). How these gates are physically implemented depends on the type of qubits: superconductors, trapped ions, NV centers, photons, etc. \n",
    "\n",
    "Most quantum gates act only in a small number of qubits (mostly due to experimental limitations). This is not a limitation as there exist sets of one- and two-qubit quantum gates which are universal for quantum computation: any operation possible on a quantum computer can be reduced to this set of gates. "
   ]
  }
 ],
 "metadata": {
  "kernelspec": {
   "display_name": "Python 3",
   "language": "python",
   "name": "python3"
  },
  "language_info": {
   "name": "plaintext"
  },
  "orig_nbformat": 4
 },
 "nbformat": 4,
 "nbformat_minor": 2
}
