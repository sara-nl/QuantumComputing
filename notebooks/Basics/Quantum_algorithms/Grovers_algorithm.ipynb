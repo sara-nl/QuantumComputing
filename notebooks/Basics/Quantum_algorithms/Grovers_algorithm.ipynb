{
 "cells": [
  {
   "cell_type": "markdown",
   "metadata": {},
   "source": [
    "# Grover's algorithm <a id='grovers'></a>\n",
    "\n",
    "Grover's algorithm, also known as the quantum search algorithm, refers to a quantum algorithm for unstructured search that finds with high probability the unique input to a black box function that produces a particular output value [9]"
   ]
  },
  {
   "cell_type": "code",
   "execution_count": null,
   "metadata": {},
   "outputs": [],
   "source": [
    "#Grover's algorithm to find state 11\n",
    "\n",
    "def initialize_s(qc, qubits):\n",
    "    \"\"\"Apply a H-gate to 'qubits' in qc\"\"\"\n",
    "    for q in qubits:\n",
    "        qc.h(q)\n",
    "    return qc\n",
    "\n",
    "# Find a value for which a function is true, state for which f will flip phase\n",
    "q = QuantumRegister(2,'q')\n",
    "c = ClassicalRegister(2,'c')\n",
    "grover_circuit = QuantumCircuit(q,c)\n",
    "\n",
    "# initialize circuit in a superposition off all states using hadamard gates\n",
    "grover_circuit = initialize_s(grover_circuit, [0,1])\n",
    "\n",
    "# apply oracle\n",
    "# because system is in superposition, the oracle is applied to all states at the same time (quantum parallelism)\n",
    "# but it will only flip the phase of the state we are searching\n",
    "grover_circuit.cz(0,1) \n",
    "\n",
    "# If we measure here, still all states are equally likely, since we have only flipped the phase!\n",
    "\n",
    "# Diffusion operator (U_s)\n",
    "grover_circuit.h([0,1]) # hadamard to both qubits\n",
    "grover_circuit.z([0,1]) # flip phase 00\n",
    "grover_circuit.cz(0,1)\n",
    "grover_circuit.h([0,1]) # hadamard to both again\n",
    "\n",
    "grover_circuit.measure(q,c)\n",
    "\n",
    "counts = execute(grover_circuit, Aer.get_backend('qasm_simulator')).result().get_counts()\n",
    "plot_histogram(counts)"
   ]
  },
  {
   "cell_type": "code",
   "execution_count": null,
   "metadata": {},
   "outputs": [],
   "source": [
    "grover_circuit.draw(output='mpl')"
   ]
  },
  {
   "cell_type": "markdown",
   "metadata": {},
   "source": [
    "In this example, the oracle was quite simple (just a controlled-z), but in general the oracle needs to be constructed. There are recepies to do this depending on your problem.\n",
    "After the \"flip\" oracle has been applied we need to make use of the constructive and destructive interference of states to \"increase\" the probability of the state we are looking for. This is called the Diffusion operator"
   ]
  }
 ],
 "metadata": {
  "language_info": {
   "name": "plaintext"
  },
  "orig_nbformat": 4
 },
 "nbformat": 4,
 "nbformat_minor": 2
}
