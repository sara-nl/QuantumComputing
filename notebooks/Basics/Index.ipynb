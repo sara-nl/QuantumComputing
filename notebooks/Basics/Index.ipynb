{
 "cells": [
  {
   "cell_type": "markdown",
   "metadata": {},
   "source": [
    "# Quantum computing basics"
   ]
  },
  {
   "cell_type": "markdown",
   "metadata": {},
   "source": [
    "In this tutorial we will go through the basics of quantum computing: qubit definition, basic gates, measurments and circuit structures. We will use [Qiskit quantum computing SDK](https://qiskit.org/). The notebook assumes you have qiskit libraries as well as matplotlib installed. \n",
    "\n",
    "\n",
    "## Contents \n",
    "\n",
    "*  [Basics on Quantum Information](Basics_on_quantum_information/Basic_on_quantum_information.ipynb)\n",
    "    *  [Qubits and their representation](Basics_on_quantum_information/Qubits_and_their_representation.ipynb)\n",
    "    *  [Multiple qubits](Basics_on_quantum_information/Multiple_qubits.ipynb)\n",
    "    *  [Modifying a quantum state](Basics_on_quantum_information/Modifying_a_quantum_state.ipynb)\n",
    "    *  [Quantum circuits](Basics_on_quantum_information/Quantum_circuits.ipynb)\n",
    "\n",
    "*  [Implementation of a quantum circuit](Implementation_of_quantum_circuit/Implementation_of_quantum_circuit.ipynb)\n",
    "    * [Qiskit basics](Implementation_of_quantum_circuit/Qiskit_basics.ipynb)\n",
    "    * [Hadamards](Implementation_of_quantum_circuit/Hadamards.ipynb)\n",
    "    * [Measurments](Implementation_of_quantum_circuit/Measurements.ipynb)\n",
    "    * [Multiqubit gates](Implementation_of_quantum_circuit/Multiqubit_gates/Multiqubit_gates.ipynb)\n",
    "        * [CNOT](Implementation_of_quantum_circuit/Multiqubit_gates/CNOT_gate.ipynb)\n",
    "        * [SWAP](Implementation_of_quantum_circuit/Multiqubit_gates/SWAP_gate.ipynb)\n",
    "        \n",
    "*  [Quantum algorithms](Quantum_algorithms/Quantum_algorithms.ipynb)\n",
    "*  [Grover's algorithm](Quantum_algorithms/Grovers_algorithm.ipynb)\n",
    "*  [References](References.ipynb)\n"
   ]
  }
 ],
 "metadata": {
  "kernelspec": {
   "display_name": "Python 3",
   "language": "python",
   "name": "python3"
  },
  "language_info": {
   "codemirror_mode": {
    "name": "ipython",
    "version": 3
   },
   "file_extension": ".py",
   "mimetype": "text/x-python",
   "name": "python",
   "nbconvert_exporter": "python",
   "pygments_lexer": "ipython3",
   "version": "3.9.4"
  },
  "pycharm": {
   "stem_cell": {
    "cell_type": "raw",
    "metadata": {
     "collapsed": false
    },
    "source": []
   }
  }
 },
 "nbformat": 4,
 "nbformat_minor": 2
}
