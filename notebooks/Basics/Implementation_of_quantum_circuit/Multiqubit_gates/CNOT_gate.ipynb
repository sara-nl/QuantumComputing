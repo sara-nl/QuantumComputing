{
 "cells": [
  {
   "cell_type": "markdown",
   "metadata": {},
   "source": [
    "#### 2.3.1 CNOT <a id='cnot'></a>\n",
    "The CNOT (or controlled X) is a two qubit control gate and is highly use to create entangled states.\n",
    "It flips the second qubit (the target qubit) if and only if the first qubit (the control qubit) is |1>. Let's see some examples:"
   ]
  },
  {
   "cell_type": "code",
   "execution_count": null,
   "metadata": {},
   "outputs": [],
   "source": [
    "#define circuit\n",
    "q = QuantumRegister(2, 'q')\n",
    "c = ClassicalRegister(2, 'c')\n",
    "circuit2 = QuantumCircuit(q,c)\n",
    "\n",
    "# Define initial_state for both qubit to be alpha=1, beta=0 --> state |00>\n",
    "#initial_state = ([1,0], [1,0])   \n",
    "#circuit.initialize(initial_state, 1) # CHECK\n",
    "\n",
    "# ---- Add extra gates to execute on qubit here----\n",
    "\n",
    "circuit2.cnot(0,1)\n",
    "\n",
    "circuit2.measure(q, c)\n",
    "\n",
    "# define simulator\n",
    "simulator = Aer.get_backend('qasm_simulator')\n",
    "# execute the circuit with this simulator\n",
    "job = execute(circuit2, simulator).result()\n",
    "counts = job.get_counts()\n",
    "\n",
    "print (\"total counts for |00> are:\",counts)\n",
    "# plot histogram\n",
    "plot_histogram(counts)"
   ]
  },
  {
   "cell_type": "code",
   "execution_count": null,
   "metadata": {},
   "outputs": [],
   "source": [
    "# visualize circuit\n",
    "circuit2.draw(output='mpl')"
   ]
  },
  {
   "cell_type": "markdown",
   "metadata": {},
   "source": [
    "In the circuit above, both q0 and q1 are initialized in state |0>, the initial quantum state of the system is |00>. Then, the CNOT gate is applied using q0 as the control qubit and q1 as the target qubit. Since the control qubit is |0>, the CNOT has no effect on the target qubit. The state of the system does not change. When measured, we observe state |00> with probability 1.0.\n",
    "\n",
    "#### Q9: What happens if we apply initialize q0 in state |1> ? (or apply a X gate to q0 before the CNOT?)\n",
    "#### Q10: What happens if we apply a Hadamard to the control qubit (q0) before the CNOT?\n",
    "\n",
    "The Hadamard gate sets q0 in state |0> with ~0.5 probability and in state |1> with ~0.5 probability.\n",
    "For the 0.5 probability where q0 is |0>, applying a CNOT does nothing on q1. In this case the quantum state of the system is |00>.\n",
    "For the 0.5 probability where q0 is |1>, applying a CNOT flips q1 to state |1>. In this case the quantum state of the system is |11>. Therefore, there is an equal probability of meassuring |00> and |11>.\n",
    "\n",
    "The quantum state created by the above circuit can be written as \n",
    "\n",
    "$|\\psi> = 1/ \\sqrt(2)|00> + 1\\sqrt(2)|11>$ \n",
    "\n",
    "and is one of the so called \"Bell states\" (https://en.wikipedia.org/wiki/Bell_state). The Bell states are maximally entangled, that means that measuring one already \"defines\" the value of the other. If we measure q0 at state |0>, we know q1 is also in state |0>, if we measure q0 in |1> we know q1 is also in state |1>. They are somehow linked and this \"link\" is called entanglement.\n",
    "\n",
    "More formally (for the curious) an entangle state is a state of the system that can not be described by the individual qubits, only by the whole multi-qubit register (https://en.wikipedia.org/wiki/Quantum_entanglement). \n",
    "\n",
    "#### Q11: There are three other Bell states of 2-qubits:\n",
    "\n",
    "$|\\psi> = 1/ \\sqrt(2)|00> - 1\\sqrt(2)|11>$ \n",
    "\n",
    "$|\\psi> = 1/ \\sqrt(2)|01> + 1\\sqrt(2)|10>$ \n",
    "\n",
    "$|\\psi> = 1/ \\sqrt(2)|01> - 1\\sqrt(2)|10>$ \n",
    "\n",
    "#### Can you create them?\n",
    "\n",
    "The same method can also be used to entangle n qubits. Lets try for example 4:\n"
   ]
  },
  {
   "cell_type": "code",
   "execution_count": null,
   "metadata": {},
   "outputs": [],
   "source": [
    "#define circuit\n",
    "q = QuantumRegister(4, 'q')\n",
    "c = ClassicalRegister(4, 'c')\n",
    "circuit4 = QuantumCircuit(q,c)\n",
    "\n",
    "circuit4.h(0)\n",
    "\n",
    "# using q_0 always as contol qubit\n",
    "for i in range(1,n):\n",
    "    circuit4.cnot(0,i)\n",
    "    \n",
    "# ---- Add extra gates to execute on qubit here----\n",
    "\n",
    "circuit4.measure(q, c)\n",
    "\n",
    "# define simulator\n",
    "simulator = Aer.get_backend('qasm_simulator')\n",
    "# execute the circuit with this simulator\n",
    "job = execute(circuit4, simulator).result()\n",
    "counts = job.get_counts()\n",
    "\n",
    "print (\"total counts for |00> are:\",counts)\n",
    "# plot histogram\n",
    "plot_histogram(counts)\n"
   ]
  },
  {
   "cell_type": "markdown",
   "metadata": {},
   "source": [
    "Again, if we only measure qubit q0, we already know the state of the other n-qubits. The CNOT gate is also known as CX gate. There are also CZ and CY gates."
   ]
  }
 ],
 "metadata": {
  "language_info": {
   "name": "plaintext"
  },
  "orig_nbformat": 4
 },
 "nbformat": 4,
 "nbformat_minor": 2
}
