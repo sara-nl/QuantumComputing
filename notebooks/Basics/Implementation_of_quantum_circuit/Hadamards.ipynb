{
 "cells": [
  {
   "cell_type": "markdown",
   "metadata": {},
   "source": [
    "[Index](../Index.ipynb) - [Up](Implementation_of_quantum_circuit.ipynb)"
   ]
  },
  {
   "cell_type": "markdown",
   "metadata": {},
   "source": [
    "### Hadamards <a id='hadamards'></a>\n",
    "\n",
    "The Hadamard gate is probably the most important single-qubit gate. Lets see what it does:"
   ]
  },
  {
   "cell_type": "code",
   "execution_count": null,
   "metadata": {},
   "outputs": [],
   "source": [
    "from qiskit import QuantumCircuit, QuantumRegister, ClassicalRegister, execute, Aer, IBMQ\n",
    "from qiskit.visualization import plot_bloch_multivector, plot_histogram\n",
    "import matplotlib.pyplot as plt\n",
    "from mpl_toolkits.axes_grid1.inset_locator import mark_inset, inset_axes\n",
    "\n",
    "#define circuit\n",
    "q = QuantumRegister(1, 'q')\n",
    "c = ClassicalRegister(1, 'c')\n",
    "circuit = QuantumCircuit(q,c)\n",
    "\n",
    "# Define initial_state alpha=1, beta=0 --> state |0>\n",
    "initial_state = [1,0]   \n",
    "circuit.initialize(initial_state, 0) # Apply initialisation operation to the 0th qubit\n",
    "\n",
    "# A hadamard operation and measurement\n",
    "circuit.h(q)\n",
    "\n",
    "# ---- Add extra gates to execute on qubit here----\n",
    "\n",
    "# Add a measurement to the circuit\n",
    "circuit.measure(q,c)\n",
    "\n",
    "# define the simulator\n",
    "simulator = Aer.get_backend('statevector_simulator')\n",
    "\n",
    "# execute the circuit wiht the simulator and get the output state vector\n",
    "job = execute(circuit, simulator).result()\n",
    "state = job.get_statevector()\n",
    "\n",
    "print(\"State of qubit after measurement = \" + str(state))\n",
    "\n",
    "#visualize crcuit\n",
    "circuit.draw(output='mpl') "
   ]
  },
  {
   "cell_type": "markdown",
   "metadata": {},
   "source": [
    "The Hadamard gate creates a state that is an even superposition of the basis states $|0\\rangle$ and $|1\\rangle$. \n",
    "It is only when we measure the qubit that we \"collapse\" the state to one of these values.\n",
    "Here is when using the qasm_simulator becomes very important, as then we can verify that indeed if we execute several times the circuit we will get in some cases (~50%) as output state $|0\\rangle$ and in some cases (~50%) state $|1\\rangle$.\n"
   ]
  },
  {
   "cell_type": "code",
   "execution_count": null,
   "metadata": {},
   "outputs": [],
   "source": [
    "# define simulator\n",
    "simulator = Aer.get_backend('qasm_simulator')\n",
    "# execute the circuit with this simulator\n",
    "job = execute(circuit, simulator).result()\n",
    "counts = job.get_counts()\n",
    "\n",
    "print (\"total counts for |0> are:\",counts)\n",
    "# plot histogram\n",
    "plot_histogram(counts)"
   ]
  },
  {
   "cell_type": "markdown",
   "metadata": {},
   "source": [
    "As seen above, the probability of measuring $|0\\rangle$ or $|1\\rangle$ is now more or less evenly distributed. The \n",
    "#### Q4 Can you also set a system in a superposition state with other gates? \n",
    "#### Q5 What is the effect of applying HXH? or HZH?\n",
    "Many quantum gates can be expressed as a composition of other gates, hence not all gates are needed in a quantum computer. The minimum set of gates needed to represent all operations is called a \"universal gate set\" or in other words, any set of gates to which any operation possible on a quantum computer can be reduced is a universal gate set. One example of a universal gate set is  {H, Rz, CNOT} (we will explore the CNOT gate in a bit).\n",
    "\n",
    "This is similar with classical computer, where a (classical) gate set is called universal if, by stringing together enough gates from the set, you can express any Boolean function on any number of bits.\n",
    "\n",
    "As a side note, all single gates can be written in a general unitary form $U3(\\theta, \\phi, \\lambda)$. Before running a circuit on a real quantum hardware, all single-qubit operations are compiled down to this form. \n",
    "For this reason they are sometimes called the physical gates."
   ]
  }
 ],
 "metadata": {
  "language_info": {
   "name": "plaintext"
  },
  "orig_nbformat": 4
 },
 "nbformat": 4,
 "nbformat_minor": 2
}
