{
 "cells": [
  {
   "cell_type": "markdown",
   "metadata": {},
   "source": [
    "[Index](../Index.ipynb) - [Prev](../Index.ipynb)"
   ]
  },
  {
   "cell_type": "markdown",
   "metadata": {},
   "source": [
    "# Quantum algorithms <a id='qalgorithm'></a>\n",
    "\n",
    "A quantum algorithm is nothing else than a quanutm circuit to solve a particular problem. \n",
    "Many quantum algorithms are based around the analysis of some function f(x). Often these algorithms simply assume the existence of some 'black box' implementation of this function, which we can give an input x and receive the corresponding output f(x). This is referred to as an oracle.\n",
    "The advantage of thinking of the oracle in this abstract way allows us to concentrate on the quantum techniques we use to analyze the function, rather than the function itself ([more info](https://qiskit.org/textbook/ch-gates/oracles.html))."
   ]
  }
 ],
 "metadata": {
  "kernelspec": {
   "display_name": "Python 3",
   "language": "python",
   "name": "python3"
  },
  "language_info": {
   "name": "plaintext"
  },
  "orig_nbformat": 4
 },
 "nbformat": 4,
 "nbformat_minor": 2
}
