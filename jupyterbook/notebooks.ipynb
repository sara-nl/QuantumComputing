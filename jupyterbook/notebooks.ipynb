{
 "cells": [
  {
   "cell_type": "markdown",
   "metadata": {},
   "source": [
    "## Qubits and their representation\n"
   ]
  },
  {
   "cell_type": "markdown",
   "metadata": {},
   "source": [
    "Information in a quantum computer is stored in qubits.\n",
    "A qubit is a two state system with quantum properties. As opposed to a bit that can only be in state 0 or 1 (off or on), a qubit can have any value in between (like a dimmy light). A qubit can be described as a combination (superposition) of the \"basis states\" $|0\\rangle$ and $|1\\rangle$:\n",
    "\n",
    "$|\\psi\\rangle = \\alpha|0\\rangle + \\beta|1\\rangle$  \n",
    "\n",
    "where $|\\psi\\rangle$ is the state vector and the coefficients $\\alpha$ and $\\beta$ are probability amplitudes.\n",
    "\n",
    "Before we measure a qubit there are two possible outcomes: 0 or 1 (the basis states of the measurment), but when the qubit is measured we \"force\" it to collapse into one of this states. For the example above, the probability of measuring one state or the other ($| 0\\rangle$ or $|1\\rangle$) depends on how they contribute to the total state in the first place: depends on the values of $\\alpha$ and $\\beta$. The larger the magnitude of the probability amplitude the more likely we measure the associated state. \n",
    "\n",
    "The actual probability of measuring state $|0\\rangle$ is given by $|\\alpha|^2$ and the actual probability of measuring state $|1\\rangle$ is given by $|\\beta|^2$. Since the total probability of measuring a state has to be 1.0, we also know that $|\\alpha|^2 + |\\beta|^2 = 1$. \n",
    "\n",
    "Given the basis states (if not the default) and considering that the coefficients $\\alpha$ and $\\beta$ can also be complex numbers, a qubit can be fully described as a 2D vector:\n",
    "\n",
    "\\begin{bmatrix}\n",
    "    \\alpha \\\\\n",
    "    \\beta \\\\\n",
    "\\end{bmatrix} \n",
    "\n",
    "where $\\alpha$ and $\\beta$ in their general form are of the type : $a+ib$. "
   ]
  },
  {
   "cell_type": "code",
   "execution_count": null,
   "metadata": {},
   "outputs": [],
   "source": []
  }
 ],
 "metadata": {
  "kernelspec": {
   "display_name": "Python 3 (ipykernel)",
   "language": "python",
   "name": "python3"
  },
  "language_info": {
   "codemirror_mode": {
    "name": "ipython",
    "version": 3
   },
   "file_extension": ".py",
   "mimetype": "text/x-python",
   "name": "python",
   "nbconvert_exporter": "python",
   "pygments_lexer": "ipython3",
   "version": "3.10.3"
  },
  "widgets": {
   "application/vnd.jupyter.widget-state+json": {
    "state": {},
    "version_major": 2,
    "version_minor": 0
   }
  }
 },
 "nbformat": 4,
 "nbformat_minor": 4
}
